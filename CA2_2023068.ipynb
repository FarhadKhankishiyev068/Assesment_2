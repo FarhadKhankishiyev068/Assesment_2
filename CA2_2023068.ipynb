{
 "cells": [
  {
   "cell_type": "markdown",
   "id": "8264db72",
   "metadata": {},
   "source": [
    "# Assessment 2"
   ]
  },
  {
   "cell_type": "code",
   "execution_count": 66,
   "id": "9963b7bc",
   "metadata": {},
   "outputs": [],
   "source": [
    "import pandas as pd\n",
    "import numpy as np"
   ]
  },
  {
   "cell_type": "markdown",
   "id": "39981d0f",
   "metadata": {},
   "source": [
    "# Data Manipulation\n",
    "- Data Cleaning\n",
    "- Data Melting\n",
    "- Data preperation"
   ]
  },
  {
   "cell_type": "code",
   "execution_count": 67,
   "id": "b995196f",
   "metadata": {},
   "outputs": [],
   "source": [
    " df2 = pd.read_csv('developmentconstruction.csv')"
   ]
  },
  {
   "cell_type": "code",
   "execution_count": 68,
   "id": "897f3830",
   "metadata": {},
   "outputs": [
    {
     "name": "stdout",
     "output_type": "stream",
     "text": [
      "<class 'pandas.core.frame.DataFrame'>\n",
      "RangeIndex: 80 entries, 0 to 79\n",
      "Data columns (total 22 columns):\n",
      " #   Column         Non-Null Count  Dtype \n",
      "---  ------         --------------  ----- \n",
      " 0   Series Name    77 non-null     object\n",
      " 1   Series Code    75 non-null     object\n",
      " 2   Country Name   75 non-null     object\n",
      " 3   Country Code   75 non-null     object\n",
      " 4   2005 [YR2005]  75 non-null     object\n",
      " 5   2006 [YR2006]  75 non-null     object\n",
      " 6   2007 [YR2007]  75 non-null     object\n",
      " 7   2008 [YR2008]  75 non-null     object\n",
      " 8   2009 [YR2009]  75 non-null     object\n",
      " 9   2010 [YR2010]  75 non-null     object\n",
      " 10  2011 [YR2011]  75 non-null     object\n",
      " 11  2012 [YR2012]  75 non-null     object\n",
      " 12  2013 [YR2013]  75 non-null     object\n",
      " 13  2014 [YR2014]  75 non-null     object\n",
      " 14  2015 [YR2015]  75 non-null     object\n",
      " 15  2016 [YR2016]  75 non-null     object\n",
      " 16  2017 [YR2017]  75 non-null     object\n",
      " 17  2018 [YR2018]  75 non-null     object\n",
      " 18  2019 [YR2019]  75 non-null     object\n",
      " 19  2020 [YR2020]  75 non-null     object\n",
      " 20  2021 [YR2021]  75 non-null     object\n",
      " 21  2022 [YR2022]  75 non-null     object\n",
      "dtypes: object(22)\n",
      "memory usage: 13.9+ KB\n"
     ]
    }
   ],
   "source": [
    "df2.info()"
   ]
  },
  {
   "cell_type": "code",
   "execution_count": 69,
   "id": "7c9f5d35",
   "metadata": {},
   "outputs": [
    {
     "data": {
      "text/html": [
       "<div>\n",
       "<style scoped>\n",
       "    .dataframe tbody tr th:only-of-type {\n",
       "        vertical-align: middle;\n",
       "    }\n",
       "\n",
       "    .dataframe tbody tr th {\n",
       "        vertical-align: top;\n",
       "    }\n",
       "\n",
       "    .dataframe thead th {\n",
       "        text-align: right;\n",
       "    }\n",
       "</style>\n",
       "<table border=\"1\" class=\"dataframe\">\n",
       "  <thead>\n",
       "    <tr style=\"text-align: right;\">\n",
       "      <th></th>\n",
       "      <th>Series Name</th>\n",
       "      <th>Series Code</th>\n",
       "      <th>Country Name</th>\n",
       "      <th>Country Code</th>\n",
       "      <th>2005 [YR2005]</th>\n",
       "      <th>2006 [YR2006]</th>\n",
       "      <th>2007 [YR2007]</th>\n",
       "      <th>2008 [YR2008]</th>\n",
       "      <th>2009 [YR2009]</th>\n",
       "      <th>2010 [YR2010]</th>\n",
       "      <th>...</th>\n",
       "      <th>2013 [YR2013]</th>\n",
       "      <th>2014 [YR2014]</th>\n",
       "      <th>2015 [YR2015]</th>\n",
       "      <th>2016 [YR2016]</th>\n",
       "      <th>2017 [YR2017]</th>\n",
       "      <th>2018 [YR2018]</th>\n",
       "      <th>2019 [YR2019]</th>\n",
       "      <th>2020 [YR2020]</th>\n",
       "      <th>2021 [YR2021]</th>\n",
       "      <th>2022 [YR2022]</th>\n",
       "    </tr>\n",
       "  </thead>\n",
       "  <tbody>\n",
       "    <tr>\n",
       "      <th>0</th>\n",
       "      <td>Industry (including construction), value added...</td>\n",
       "      <td>NV.IND.TOTL.KD.ZG</td>\n",
       "      <td>Afghanistan</td>\n",
       "      <td>AFG</td>\n",
       "      <td>12.9917235668942</td>\n",
       "      <td>13.6675434911544</td>\n",
       "      <td>7.63312617546612</td>\n",
       "      <td>5.74181791090413</td>\n",
       "      <td>6.10714120703881</td>\n",
       "      <td>6.27060133432103</td>\n",
       "      <td>...</td>\n",
       "      <td>5.06099070863539</td>\n",
       "      <td>2.76578053797094</td>\n",
       "      <td>4.17112132157884</td>\n",
       "      <td>-0.765914438585867</td>\n",
       "      <td>9.20679243849179</td>\n",
       "      <td>11.0746416505214</td>\n",
       "      <td>4.84886809201079</td>\n",
       "      <td>-4.63025317112874</td>\n",
       "      <td>-14.1851563481973</td>\n",
       "      <td>..</td>\n",
       "    </tr>\n",
       "    <tr>\n",
       "      <th>1</th>\n",
       "      <td>Industry (including construction), value added...</td>\n",
       "      <td>NV.IND.TOTL.KD.ZG</td>\n",
       "      <td>Albania</td>\n",
       "      <td>ALB</td>\n",
       "      <td>6.00394619569731</td>\n",
       "      <td>9.20291329507195</td>\n",
       "      <td>4.58274474222738</td>\n",
       "      <td>6.9461474225045</td>\n",
       "      <td>1.86202001364686</td>\n",
       "      <td>3.39983816194058</td>\n",
       "      <td>...</td>\n",
       "      <td>2.71720448128706</td>\n",
       "      <td>-3.31855847062698</td>\n",
       "      <td>2.57202261699526</td>\n",
       "      <td>1.89647552363607</td>\n",
       "      <td>1.79370466355886</td>\n",
       "      <td>9.79454268996784</td>\n",
       "      <td>0.82115087494175</td>\n",
       "      <td>-4.9921500767101</td>\n",
       "      <td>16.0039845265799</td>\n",
       "      <td>..</td>\n",
       "    </tr>\n",
       "    <tr>\n",
       "      <th>2</th>\n",
       "      <td>Industry (including construction), value added...</td>\n",
       "      <td>NV.IND.TOTL.KD.ZG</td>\n",
       "      <td>Algeria</td>\n",
       "      <td>DZA</td>\n",
       "      <td>5.99627153509093</td>\n",
       "      <td>-0.532868126893447</td>\n",
       "      <td>0.587236696811047</td>\n",
       "      <td>-0.596500787842288</td>\n",
       "      <td>-4.32923661869296</td>\n",
       "      <td>1.00293080525131</td>\n",
       "      <td>...</td>\n",
       "      <td>-2.63668322032342</td>\n",
       "      <td>1.49391194752739</td>\n",
       "      <td>1.85890720185078</td>\n",
       "      <td>6.25651596653634</td>\n",
       "      <td>1.08439954335763</td>\n",
       "      <td>-1.23183046109078</td>\n",
       "      <td>-1.14027122430664</td>\n",
       "      <td>-6.85661432347737</td>\n",
       "      <td>7.35957482400735</td>\n",
       "      <td>..</td>\n",
       "    </tr>\n",
       "    <tr>\n",
       "      <th>3</th>\n",
       "      <td>Industry (including construction), value added...</td>\n",
       "      <td>NV.IND.TOTL.KD.ZG</td>\n",
       "      <td>American Samoa</td>\n",
       "      <td>ASM</td>\n",
       "      <td>..</td>\n",
       "      <td>..</td>\n",
       "      <td>..</td>\n",
       "      <td>..</td>\n",
       "      <td>..</td>\n",
       "      <td>..</td>\n",
       "      <td>...</td>\n",
       "      <td>..</td>\n",
       "      <td>..</td>\n",
       "      <td>..</td>\n",
       "      <td>..</td>\n",
       "      <td>..</td>\n",
       "      <td>..</td>\n",
       "      <td>..</td>\n",
       "      <td>..</td>\n",
       "      <td>..</td>\n",
       "      <td>..</td>\n",
       "    </tr>\n",
       "    <tr>\n",
       "      <th>4</th>\n",
       "      <td>Industry (including construction), value added...</td>\n",
       "      <td>NV.IND.TOTL.KD.ZG</td>\n",
       "      <td>Andorra</td>\n",
       "      <td>AND</td>\n",
       "      <td>7.10060588643819</td>\n",
       "      <td>5.6705871830419</td>\n",
       "      <td>-2.8037580938677</td>\n",
       "      <td>-5.81281431650447</td>\n",
       "      <td>-9.39139680558445</td>\n",
       "      <td>-12.8647959183673</td>\n",
       "      <td>...</td>\n",
       "      <td>-7.49926943308007</td>\n",
       "      <td>-1.98633653200648</td>\n",
       "      <td>-0.278001611603543</td>\n",
       "      <td>5.36543978021091</td>\n",
       "      <td>2.86437363395835</td>\n",
       "      <td>8.24573175277716</td>\n",
       "      <td>7.75535505200082</td>\n",
       "      <td>-3.89581335890061</td>\n",
       "      <td>..</td>\n",
       "      <td>..</td>\n",
       "    </tr>\n",
       "  </tbody>\n",
       "</table>\n",
       "<p>5 rows × 22 columns</p>\n",
       "</div>"
      ],
      "text/plain": [
       "                                         Series Name        Series Code  \\\n",
       "0  Industry (including construction), value added...  NV.IND.TOTL.KD.ZG   \n",
       "1  Industry (including construction), value added...  NV.IND.TOTL.KD.ZG   \n",
       "2  Industry (including construction), value added...  NV.IND.TOTL.KD.ZG   \n",
       "3  Industry (including construction), value added...  NV.IND.TOTL.KD.ZG   \n",
       "4  Industry (including construction), value added...  NV.IND.TOTL.KD.ZG   \n",
       "\n",
       "     Country Name Country Code     2005 [YR2005]       2006 [YR2006]  \\\n",
       "0     Afghanistan          AFG  12.9917235668942    13.6675434911544   \n",
       "1         Albania          ALB  6.00394619569731    9.20291329507195   \n",
       "2         Algeria          DZA  5.99627153509093  -0.532868126893447   \n",
       "3  American Samoa          ASM                ..                  ..   \n",
       "4         Andorra          AND  7.10060588643819     5.6705871830419   \n",
       "\n",
       "       2007 [YR2007]       2008 [YR2008]      2009 [YR2009]  \\\n",
       "0   7.63312617546612    5.74181791090413   6.10714120703881   \n",
       "1   4.58274474222738     6.9461474225045   1.86202001364686   \n",
       "2  0.587236696811047  -0.596500787842288  -4.32923661869296   \n",
       "3                 ..                  ..                 ..   \n",
       "4   -2.8037580938677   -5.81281431650447  -9.39139680558445   \n",
       "\n",
       "       2010 [YR2010]  ...      2013 [YR2013]      2014 [YR2014]  \\\n",
       "0   6.27060133432103  ...   5.06099070863539   2.76578053797094   \n",
       "1   3.39983816194058  ...   2.71720448128706  -3.31855847062698   \n",
       "2   1.00293080525131  ...  -2.63668322032342   1.49391194752739   \n",
       "3                 ..  ...                 ..                 ..   \n",
       "4  -12.8647959183673  ...  -7.49926943308007  -1.98633653200648   \n",
       "\n",
       "        2015 [YR2015]       2016 [YR2016]     2017 [YR2017]  \\\n",
       "0    4.17112132157884  -0.765914438585867  9.20679243849179   \n",
       "1    2.57202261699526    1.89647552363607  1.79370466355886   \n",
       "2    1.85890720185078    6.25651596653634  1.08439954335763   \n",
       "3                  ..                  ..                ..   \n",
       "4  -0.278001611603543    5.36543978021091  2.86437363395835   \n",
       "\n",
       "       2018 [YR2018]      2019 [YR2019]      2020 [YR2020]      2021 [YR2021]  \\\n",
       "0   11.0746416505214   4.84886809201079  -4.63025317112874  -14.1851563481973   \n",
       "1   9.79454268996784   0.82115087494175   -4.9921500767101   16.0039845265799   \n",
       "2  -1.23183046109078  -1.14027122430664  -6.85661432347737   7.35957482400735   \n",
       "3                 ..                 ..                 ..                 ..   \n",
       "4   8.24573175277716   7.75535505200082  -3.89581335890061                 ..   \n",
       "\n",
       "  2022 [YR2022]  \n",
       "0            ..  \n",
       "1            ..  \n",
       "2            ..  \n",
       "3            ..  \n",
       "4            ..  \n",
       "\n",
       "[5 rows x 22 columns]"
      ]
     },
     "execution_count": 69,
     "metadata": {},
     "output_type": "execute_result"
    }
   ],
   "source": [
    "df2.head()"
   ]
  },
  {
   "cell_type": "markdown",
   "id": "dac7d89a",
   "metadata": {},
   "source": [
    "we remove the specified columns from the DataFrame. This operation allows us to focus on the remaining columns that are relevant to our analysis, streamlining our dataset for further processing."
   ]
  },
  {
   "cell_type": "code",
   "execution_count": 70,
   "id": "2745c997",
   "metadata": {},
   "outputs": [],
   "source": [
    "columns_to_drop = ['Series Code', 'Series Name']\n",
    "\n",
    "df2=df2.drop(columns_to_drop,axis=1)"
   ]
  },
  {
   "cell_type": "code",
   "execution_count": 71,
   "id": "050767f1",
   "metadata": {},
   "outputs": [
    {
     "name": "stdout",
     "output_type": "stream",
     "text": [
      "      Country Name Country Code     2005 [YR2005]       2006 [YR2006]  \\\n",
      "0      Afghanistan          AFG  12.9917235668942    13.6675434911544   \n",
      "1          Albania          ALB  6.00394619569731    9.20291329507195   \n",
      "2          Algeria          DZA  5.99627153509093  -0.532868126893447   \n",
      "3   American Samoa          ASM                ..                  ..   \n",
      "4          Andorra          AND  7.10060588643819     5.6705871830419   \n",
      "..             ...          ...               ...                 ...   \n",
      "75             NaN          NaN               NaN                 NaN   \n",
      "76             NaN          NaN               NaN                 NaN   \n",
      "77             NaN          NaN               NaN                 NaN   \n",
      "78             NaN          NaN               NaN                 NaN   \n",
      "79             NaN          NaN               NaN                 NaN   \n",
      "\n",
      "        2007 [YR2007]       2008 [YR2008]      2009 [YR2009]  \\\n",
      "0    7.63312617546612    5.74181791090413   6.10714120703881   \n",
      "1    4.58274474222738     6.9461474225045   1.86202001364686   \n",
      "2   0.587236696811047  -0.596500787842288  -4.32923661869296   \n",
      "3                  ..                  ..                 ..   \n",
      "4    -2.8037580938677   -5.81281431650447  -9.39139680558445   \n",
      "..                ...                 ...                ...   \n",
      "75                NaN                 NaN                NaN   \n",
      "76                NaN                 NaN                NaN   \n",
      "77                NaN                 NaN                NaN   \n",
      "78                NaN                 NaN                NaN   \n",
      "79                NaN                 NaN                NaN   \n",
      "\n",
      "        2010 [YR2010]       2011 [YR2011]       2012 [YR2012]  \\\n",
      "0    6.27060133432103    9.80767041942536    6.39407095410509   \n",
      "1    3.39983816194058    2.26437554991978   -6.14066215173217   \n",
      "2    1.00293080525131  -0.835677690926872  -0.501279037878689   \n",
      "3                  ..                  ..                  ..   \n",
      "4   -12.8647959183673   -9.27481921714435   -11.6589757655942   \n",
      "..                ...                 ...                 ...   \n",
      "75                NaN                 NaN                 NaN   \n",
      "76                NaN                 NaN                 NaN   \n",
      "77                NaN                 NaN                 NaN   \n",
      "78                NaN                 NaN                 NaN   \n",
      "79                NaN                 NaN                 NaN   \n",
      "\n",
      "        2013 [YR2013]      2014 [YR2014]       2015 [YR2015]  \\\n",
      "0    5.06099070863539   2.76578053797094    4.17112132157884   \n",
      "1    2.71720448128706  -3.31855847062698    2.57202261699526   \n",
      "2   -2.63668322032342   1.49391194752739    1.85890720185078   \n",
      "3                  ..                 ..                  ..   \n",
      "4   -7.49926943308007  -1.98633653200648  -0.278001611603543   \n",
      "..                ...                ...                 ...   \n",
      "75                NaN                NaN                 NaN   \n",
      "76                NaN                NaN                 NaN   \n",
      "77                NaN                NaN                 NaN   \n",
      "78                NaN                NaN                 NaN   \n",
      "79                NaN                NaN                 NaN   \n",
      "\n",
      "         2016 [YR2016]     2017 [YR2017]      2018 [YR2018]  \\\n",
      "0   -0.765914438585867  9.20679243849179   11.0746416505214   \n",
      "1     1.89647552363607  1.79370466355886   9.79454268996784   \n",
      "2     6.25651596653634  1.08439954335763  -1.23183046109078   \n",
      "3                   ..                ..                 ..   \n",
      "4     5.36543978021091  2.86437363395835   8.24573175277716   \n",
      "..                 ...               ...                ...   \n",
      "75                 NaN               NaN                NaN   \n",
      "76                 NaN               NaN                NaN   \n",
      "77                 NaN               NaN                NaN   \n",
      "78                 NaN               NaN                NaN   \n",
      "79                 NaN               NaN                NaN   \n",
      "\n",
      "        2019 [YR2019]      2020 [YR2020]      2021 [YR2021] 2022 [YR2022]  \n",
      "0    4.84886809201079  -4.63025317112874  -14.1851563481973            ..  \n",
      "1    0.82115087494175   -4.9921500767101   16.0039845265799            ..  \n",
      "2   -1.14027122430664  -6.85661432347737   7.35957482400735            ..  \n",
      "3                  ..                 ..                 ..            ..  \n",
      "4    7.75535505200082  -3.89581335890061                 ..            ..  \n",
      "..                ...                ...                ...           ...  \n",
      "75                NaN                NaN                NaN           NaN  \n",
      "76                NaN                NaN                NaN           NaN  \n",
      "77                NaN                NaN                NaN           NaN  \n",
      "78                NaN                NaN                NaN           NaN  \n",
      "79                NaN                NaN                NaN           NaN  \n",
      "\n",
      "[80 rows x 20 columns]\n"
     ]
    }
   ],
   "source": [
    "columns_to_convert = ['2005 [YR2005]','2006 [YR2006]','2007 [YR2007]','2008 [YR2008]','2009 [YR2009]','2010 [YR2010]','2011 [YR2011]','2012 [YR2012]','2013 [YR2013]','2014 [YR2014]','2015 [YR2015]','2016 [YR2016]','2017 [YR2017]','2018 [YR2018]','2019 [YR2019]','2020 [YR2020]','2021 [YR2021]']         \n",
    "print(df2)"
   ]
  },
  {
   "cell_type": "code",
   "execution_count": 72,
   "id": "7e088037",
   "metadata": {},
   "outputs": [],
   "source": [
    "df2[columns_to_convert]=df2[columns_to_convert].replace(['..'], np.nan)"
   ]
  },
  {
   "cell_type": "code",
   "execution_count": 73,
   "id": "fc6e478a",
   "metadata": {},
   "outputs": [],
   "source": [
    "df2=df2.dropna()"
   ]
  },
  {
   "cell_type": "code",
   "execution_count": 74,
   "id": "068f579f",
   "metadata": {},
   "outputs": [
    {
     "name": "stdout",
     "output_type": "stream",
     "text": [
      "             Country Name Country Code           Year             Value\n",
      "0             Afghanistan          AFG  2005 [YR2005]  12.9917235668942\n",
      "1                 Albania          ALB  2005 [YR2005]  6.00394619569731\n",
      "2                 Algeria          DZA  2005 [YR2005]  5.99627153509093\n",
      "3                  Angola          AGO  2005 [YR2005]  20.4959315130068\n",
      "4                 Austria          AUT  2005 [YR2005]  2.03332316370815\n",
      "...                   ...          ...            ...               ...\n",
      "1183        Middle income          MIC  2022 [YR2022]                ..\n",
      "1184         OECD members          OED  2022 [YR2022]                ..\n",
      "1185   Other small states          OSS  2022 [YR2022]                ..\n",
      "1186  Upper middle income          UMC  2022 [YR2022]                ..\n",
      "1187                World          WLD  2022 [YR2022]                ..\n",
      "\n",
      "[1188 rows x 4 columns]\n"
     ]
    }
   ],
   "source": [
    "melted_df2 = df2.melt(id_vars=['Country Name','Country Code'],var_name='Year', value_name='Value')\n",
    "print(melted_df2)"
   ]
  },
  {
   "cell_type": "code",
   "execution_count": 75,
   "id": "226babea",
   "metadata": {},
   "outputs": [],
   "source": [
    "df2 = melted_df2"
   ]
  },
  {
   "cell_type": "code",
   "execution_count": 76,
   "id": "b0d0d515",
   "metadata": {},
   "outputs": [],
   "source": [
    "# List of names to drop\n",
    "names_to_drop = [\n",
    "    'Euro area',\n",
    "    'Europe & Central Asia',\n",
    "    'Europe & Central Asia (excluding high income)',\n",
    "    'Europe & Central Asia (IDA & IBRD countries)',\n",
    "    'European Union',\n",
    "    'High income',\n",
    "    'IBRD only',\n",
    "    'IDA & IBRD total',\n",
    "    'IDA blend',\n",
    "    'IDA only',\n",
    "    'IDA total',\n",
    "    'Low & middle income',\n",
    "    'Low income',\n",
    "    'Lower middle income',\n",
    "    'Middle income',\n",
    "    'MIC',\n",
    "    'OECD members',\n",
    "    'Other small states',\n",
    "    'Upper middle income',\n",
    "    'World'\n",
    "]\n",
    "\n",
    "df2=df2[~df2['Country Name'].isin(names_to_drop)]"
   ]
  },
  {
   "cell_type": "code",
   "execution_count": 77,
   "id": "ae1bd125",
   "metadata": {},
   "outputs": [],
   "source": [
    "names_to_drop = [\n",
    "    '2022 [YR2022]'\n",
    "]\n",
    "df2 = df2[~df2['Year'].isin(names_to_drop)]"
   ]
  },
  {
   "cell_type": "code",
   "execution_count": 78,
   "id": "8c16081c",
   "metadata": {},
   "outputs": [
    {
     "data": {
      "text/html": [
       "<div>\n",
       "<style scoped>\n",
       "    .dataframe tbody tr th:only-of-type {\n",
       "        vertical-align: middle;\n",
       "    }\n",
       "\n",
       "    .dataframe tbody tr th {\n",
       "        vertical-align: top;\n",
       "    }\n",
       "\n",
       "    .dataframe thead th {\n",
       "        text-align: right;\n",
       "    }\n",
       "</style>\n",
       "<table border=\"1\" class=\"dataframe\">\n",
       "  <thead>\n",
       "    <tr style=\"text-align: right;\">\n",
       "      <th></th>\n",
       "      <th>Country Name</th>\n",
       "      <th>Country Code</th>\n",
       "      <th>Year</th>\n",
       "      <th>Value</th>\n",
       "    </tr>\n",
       "  </thead>\n",
       "  <tbody>\n",
       "    <tr>\n",
       "      <th>1098</th>\n",
       "      <td>Sweden</td>\n",
       "      <td>SWE</td>\n",
       "      <td>2021 [YR2021]</td>\n",
       "      <td>5.71742103595483</td>\n",
       "    </tr>\n",
       "    <tr>\n",
       "      <th>1099</th>\n",
       "      <td>Switzerland</td>\n",
       "      <td>CHE</td>\n",
       "      <td>2021 [YR2021]</td>\n",
       "      <td>7.90548044973885</td>\n",
       "    </tr>\n",
       "    <tr>\n",
       "      <th>1100</th>\n",
       "      <td>Turkiye</td>\n",
       "      <td>TUR</td>\n",
       "      <td>2021 [YR2021]</td>\n",
       "      <td>12.4635145534884</td>\n",
       "    </tr>\n",
       "    <tr>\n",
       "      <th>1101</th>\n",
       "      <td>Ukraine</td>\n",
       "      <td>UKR</td>\n",
       "      <td>2021 [YR2021]</td>\n",
       "      <td>2.56562864207022</td>\n",
       "    </tr>\n",
       "    <tr>\n",
       "      <th>1102</th>\n",
       "      <td>United Kingdom</td>\n",
       "      <td>GBR</td>\n",
       "      <td>2021 [YR2021]</td>\n",
       "      <td>9.12138854740259</td>\n",
       "    </tr>\n",
       "  </tbody>\n",
       "</table>\n",
       "</div>"
      ],
      "text/plain": [
       "        Country Name Country Code           Year             Value\n",
       "1098          Sweden          SWE  2021 [YR2021]  5.71742103595483\n",
       "1099     Switzerland          CHE  2021 [YR2021]  7.90548044973885\n",
       "1100         Turkiye          TUR  2021 [YR2021]  12.4635145534884\n",
       "1101         Ukraine          UKR  2021 [YR2021]  2.56562864207022\n",
       "1102  United Kingdom          GBR  2021 [YR2021]  9.12138854740259"
      ]
     },
     "execution_count": 78,
     "metadata": {},
     "output_type": "execute_result"
    }
   ],
   "source": [
    "df2.tail()"
   ]
  },
  {
   "cell_type": "code",
   "execution_count": 79,
   "id": "dfbb6daa",
   "metadata": {},
   "outputs": [],
   "source": [
    "df2['Value'] = df2['Value'].astype(float)"
   ]
  },
  {
   "cell_type": "code",
   "execution_count": 80,
   "id": "32f9a8ff",
   "metadata": {},
   "outputs": [],
   "source": [
    "df2['Year'] = df2['Year'].str.replace(r'\\s*\\[.*\\]', '', regex=True)"
   ]
  },
  {
   "cell_type": "code",
   "execution_count": 81,
   "id": "32454630",
   "metadata": {},
   "outputs": [],
   "source": [
    "df2['Year'] = df2['Year'].astype(int)"
   ]
  },
  {
   "cell_type": "markdown",
   "id": "f3005eed",
   "metadata": {},
   "source": [
    "## Natural Earth Choropleth map"
   ]
  },
  {
   "cell_type": "code",
   "execution_count": 82,
   "id": "a9c2f9d9",
   "metadata": {},
   "outputs": [],
   "source": [
    "import matplotlib as plt"
   ]
  },
  {
   "cell_type": "code",
   "execution_count": 83,
   "id": "b091d27f",
   "metadata": {},
   "outputs": [
    {
     "name": "stdout",
     "output_type": "stream",
     "text": [
      "Requirement already satisfied: plotly in c:\\users\\farha\\anaconda3\\lib\\site-packages (5.14.1)\n",
      "Requirement already satisfied: tenacity>=6.2.0 in c:\\users\\farha\\anaconda3\\lib\\site-packages (from plotly) (8.2.2)\n",
      "Requirement already satisfied: packaging in c:\\users\\farha\\anaconda3\\lib\\site-packages (from plotly) (23.0)\n"
     ]
    }
   ],
   "source": [
    "!pip install plotly"
   ]
  },
  {
   "cell_type": "code",
   "execution_count": 94,
   "id": "90a8cf75",
   "metadata": {},
   "outputs": [
    {
     "data": {
      "application/vnd.plotly.v1+json": {
       "config": {
        "plotlyServerURL": "https://plot.ly"
       },
       "data": [
        {
         "coloraxis": "coloraxis",
         "geo": "geo",
         "hovertemplate": "<b>%{hovertext}</b><br><br>Year=2005<br>Country Code=%{location}<br>Value=%{z}<extra></extra>",
         "hovertext": [
          "Afghanistan",
          "Albania",
          "Algeria",
          "Angola",
          "Austria",
          "Azerbaijan",
          "Belgium",
          "Bulgaria",
          "Czechia",
          "Denmark",
          "Estonia",
          "Finland",
          "France",
          "Georgia",
          "Germany",
          "Greece",
          "Hong Kong SAR, China",
          "Hungary",
          "Iceland",
          "Ireland",
          "Israel",
          "Italy",
          "Jordan",
          "Kazakhstan",
          "Latvia",
          "Lebanon",
          "Lithuania",
          "Luxembourg",
          "Moldova",
          "Montenegro",
          "Morocco",
          "Netherlands",
          "Norway",
          "Poland",
          "Portugal",
          "Romania",
          "Russian Federation",
          "Serbia",
          "Singapore",
          "Slovak Republic",
          "Slovenia",
          "Spain",
          "Sweden",
          "Switzerland",
          "Turkiye",
          "Ukraine",
          "United Kingdom"
         ],
         "locations": [
          "AFG",
          "ALB",
          "DZA",
          "AGO",
          "AUT",
          "AZE",
          "BEL",
          "BGR",
          "CZE",
          "DNK",
          "EST",
          "FIN",
          "FRA",
          "GEO",
          "DEU",
          "GRC",
          "HKG",
          "HUN",
          "ISL",
          "IRL",
          "ISR",
          "ITA",
          "JOR",
          "KAZ",
          "LVA",
          "LBN",
          "LTU",
          "LUX",
          "MDA",
          "MNE",
          "MAR",
          "NLD",
          "NOR",
          "POL",
          "PRT",
          "ROU",
          "RUS",
          "SRB",
          "SGP",
          "SVK",
          "SVN",
          "ESP",
          "SWE",
          "CHE",
          "TUR",
          "UKR",
          "GBR"
         ],
         "name": "",
         "type": "choropleth",
         "z": [
          12.9917235668942,
          6.00394619569731,
          5.99627153509093,
          20.4959315130068,
          2.03332316370815,
          46.0828664812328,
          2.37848877340822,
          4.34633779805642,
          10.4155990239047,
          -0.863813832365409,
          12.3103207137096,
          3.76509869390161,
          1.31315516683163,
          9.18658476512468,
          0.366684238674694,
          -3.15340526677483,
          -1.40695098631619,
          4.53274418060717,
          6.52763629511553,
          6.1826156936385,
          8.10117048607873,
          0.78732310621848,
          7.13806528651013,
          10.5272649984028,
          6.99791974650491,
          5.06954176069891,
          9.48115557386411,
          -0.318319967495469,
          2.61982471510811,
          0.158408039734965,
          4.75898405038862,
          2.0122202538266,
          0.577188759248898,
          4.46261509179971,
          -2.48828006804123,
          4.46052307852047,
          4.08752223223084,
          4.42924639023612,
          8.36362614877292,
          6.39588663999966,
          3.51818950471427,
          2.55471726301634,
          2.42724541602746,
          4.12344007994689,
          10.6304431649548,
          -1.68152379668481,
          -0.88060354462695
         ]
        }
       ],
       "frames": [
        {
         "data": [
          {
           "coloraxis": "coloraxis",
           "geo": "geo",
           "hovertemplate": "<b>%{hovertext}</b><br><br>Year=2005<br>Country Code=%{location}<br>Value=%{z}<extra></extra>",
           "hovertext": [
            "Afghanistan",
            "Albania",
            "Algeria",
            "Angola",
            "Austria",
            "Azerbaijan",
            "Belgium",
            "Bulgaria",
            "Czechia",
            "Denmark",
            "Estonia",
            "Finland",
            "France",
            "Georgia",
            "Germany",
            "Greece",
            "Hong Kong SAR, China",
            "Hungary",
            "Iceland",
            "Ireland",
            "Israel",
            "Italy",
            "Jordan",
            "Kazakhstan",
            "Latvia",
            "Lebanon",
            "Lithuania",
            "Luxembourg",
            "Moldova",
            "Montenegro",
            "Morocco",
            "Netherlands",
            "Norway",
            "Poland",
            "Portugal",
            "Romania",
            "Russian Federation",
            "Serbia",
            "Singapore",
            "Slovak Republic",
            "Slovenia",
            "Spain",
            "Sweden",
            "Switzerland",
            "Turkiye",
            "Ukraine",
            "United Kingdom"
           ],
           "locations": [
            "AFG",
            "ALB",
            "DZA",
            "AGO",
            "AUT",
            "AZE",
            "BEL",
            "BGR",
            "CZE",
            "DNK",
            "EST",
            "FIN",
            "FRA",
            "GEO",
            "DEU",
            "GRC",
            "HKG",
            "HUN",
            "ISL",
            "IRL",
            "ISR",
            "ITA",
            "JOR",
            "KAZ",
            "LVA",
            "LBN",
            "LTU",
            "LUX",
            "MDA",
            "MNE",
            "MAR",
            "NLD",
            "NOR",
            "POL",
            "PRT",
            "ROU",
            "RUS",
            "SRB",
            "SGP",
            "SVK",
            "SVN",
            "ESP",
            "SWE",
            "CHE",
            "TUR",
            "UKR",
            "GBR"
           ],
           "name": "",
           "type": "choropleth",
           "z": [
            12.9917235668942,
            6.00394619569731,
            5.99627153509093,
            20.4959315130068,
            2.03332316370815,
            46.0828664812328,
            2.37848877340822,
            4.34633779805642,
            10.4155990239047,
            -0.863813832365409,
            12.3103207137096,
            3.76509869390161,
            1.31315516683163,
            9.18658476512468,
            0.366684238674694,
            -3.15340526677483,
            -1.40695098631619,
            4.53274418060717,
            6.52763629511553,
            6.1826156936385,
            8.10117048607873,
            0.78732310621848,
            7.13806528651013,
            10.5272649984028,
            6.99791974650491,
            5.06954176069891,
            9.48115557386411,
            -0.318319967495469,
            2.61982471510811,
            0.158408039734965,
            4.75898405038862,
            2.0122202538266,
            0.577188759248898,
            4.46261509179971,
            -2.48828006804123,
            4.46052307852047,
            4.08752223223084,
            4.42924639023612,
            8.36362614877292,
            6.39588663999966,
            3.51818950471427,
            2.55471726301634,
            2.42724541602746,
            4.12344007994689,
            10.6304431649548,
            -1.68152379668481,
            -0.88060354462695
           ]
          }
         ],
         "name": "2005"
        },
        {
         "data": [
          {
           "coloraxis": "coloraxis",
           "geo": "geo",
           "hovertemplate": "<b>%{hovertext}</b><br><br>Year=2006<br>Country Code=%{location}<br>Value=%{z}<extra></extra>",
           "hovertext": [
            "Afghanistan",
            "Albania",
            "Algeria",
            "Angola",
            "Austria",
            "Azerbaijan",
            "Belgium",
            "Bulgaria",
            "Czechia",
            "Denmark",
            "Estonia",
            "Finland",
            "France",
            "Georgia",
            "Germany",
            "Greece",
            "Hong Kong SAR, China",
            "Hungary",
            "Iceland",
            "Ireland",
            "Israel",
            "Italy",
            "Jordan",
            "Kazakhstan",
            "Latvia",
            "Lebanon",
            "Lithuania",
            "Luxembourg",
            "Moldova",
            "Montenegro",
            "Morocco",
            "Netherlands",
            "Norway",
            "Poland",
            "Portugal",
            "Romania",
            "Russian Federation",
            "Serbia",
            "Singapore",
            "Slovak Republic",
            "Slovenia",
            "Spain",
            "Sweden",
            "Switzerland",
            "Turkiye",
            "Ukraine",
            "United Kingdom"
           ],
           "locations": [
            "AFG",
            "ALB",
            "DZA",
            "AGO",
            "AUT",
            "AZE",
            "BEL",
            "BGR",
            "CZE",
            "DNK",
            "EST",
            "FIN",
            "FRA",
            "GEO",
            "DEU",
            "GRC",
            "HKG",
            "HUN",
            "ISL",
            "IRL",
            "ISR",
            "ITA",
            "JOR",
            "KAZ",
            "LVA",
            "LBN",
            "LTU",
            "LUX",
            "MDA",
            "MNE",
            "MAR",
            "NLD",
            "NOR",
            "POL",
            "PRT",
            "ROU",
            "RUS",
            "SRB",
            "SGP",
            "SVK",
            "SVN",
            "ESP",
            "SWE",
            "CHE",
            "TUR",
            "UKR",
            "GBR"
           ],
           "name": "",
           "type": "choropleth",
           "z": [
            13.6675434911544,
            9.20291329507195,
            -0.532868126893447,
            13.193350732774,
            3.65298609242306,
            50.1810252841568,
            0.704294381010413,
            8.98388296134887,
            14.2128398954793,
            3.78682604399184,
            9.39697971182196,
            8.6898092065415,
            1.91834983141305,
            13.1772638478919,
            5.10874223119933,
            8.76818201279666,
            -2.13431463665839,
            4.40900409319764,
            7.77193843140648,
            2.54174062428689,
            3.85081252444044,
            2.76570010221992,
            9.70830394222568,
            13.3619950375148,
            14.5601836961295,
            -0.196590449471145,
            13.0264613483212,
            0.201180234068204,
            -3.79187291435316,
            7.89735302693755,
            4.40649898891752,
            2.00578288102187,
            -1.99276644296474,
            9.27921817677344,
            0.496885334142291,
            10.858754193294,
            4.48658253126253,
            2.30463450423323,
            11.3984463450324,
            17.22932009728,
            8.63307759842608,
            2.62400757520578,
            5.71353112069724,
            4.56100002263156,
            12.7753438645263,
            6.05488946807331,
            2.59924363116649
           ]
          }
         ],
         "name": "2006"
        },
        {
         "data": [
          {
           "coloraxis": "coloraxis",
           "geo": "geo",
           "hovertemplate": "<b>%{hovertext}</b><br><br>Year=2007<br>Country Code=%{location}<br>Value=%{z}<extra></extra>",
           "hovertext": [
            "Afghanistan",
            "Albania",
            "Algeria",
            "Angola",
            "Austria",
            "Azerbaijan",
            "Belgium",
            "Bulgaria",
            "Czechia",
            "Denmark",
            "Estonia",
            "Finland",
            "France",
            "Georgia",
            "Germany",
            "Greece",
            "Hong Kong SAR, China",
            "Hungary",
            "Iceland",
            "Ireland",
            "Israel",
            "Italy",
            "Jordan",
            "Kazakhstan",
            "Latvia",
            "Lebanon",
            "Lithuania",
            "Luxembourg",
            "Moldova",
            "Montenegro",
            "Morocco",
            "Netherlands",
            "Norway",
            "Poland",
            "Portugal",
            "Romania",
            "Russian Federation",
            "Serbia",
            "Singapore",
            "Slovak Republic",
            "Slovenia",
            "Spain",
            "Sweden",
            "Switzerland",
            "Turkiye",
            "Ukraine",
            "United Kingdom"
           ],
           "locations": [
            "AFG",
            "ALB",
            "DZA",
            "AGO",
            "AUT",
            "AZE",
            "BEL",
            "BGR",
            "CZE",
            "DNK",
            "EST",
            "FIN",
            "FRA",
            "GEO",
            "DEU",
            "GRC",
            "HKG",
            "HUN",
            "ISL",
            "IRL",
            "ISR",
            "ITA",
            "JOR",
            "KAZ",
            "LVA",
            "LBN",
            "LTU",
            "LUX",
            "MDA",
            "MNE",
            "MAR",
            "NLD",
            "NOR",
            "POL",
            "PRT",
            "ROU",
            "RUS",
            "SRB",
            "SGP",
            "SVK",
            "SVN",
            "ESP",
            "SWE",
            "CHE",
            "TUR",
            "UKR",
            "GBR"
           ],
           "name": "",
           "type": "choropleth",
           "z": [
            7.63312617546612,
            4.58274474222738,
            0.587236696811047,
            19.7989008658808,
            5.13794159484029,
            33.3218075278371,
            4.83849540352801,
            11.7719440290691,
            4.99050458120031,
            -2.47635570863586,
            7.26170371374506,
            8.32070773035194,
            2.6438057660806,
            14.4752121017607,
            3.65644987005021,
            -1.93410854800258,
            -0.174773305825042,
            3.57821791490326,
            4.09390419821982,
            4.82507015845913,
            5.51484829559278,
            1.72308968792694,
            9.06431927412632,
            7.98274714696883,
            6.14380596290063,
            17.6411487363295,
            11.1997103995073,
            14.4260134930055,
            -1.13591652433269,
            -0.412588526025587,
            6.44601902445478,
            4.31766294000198,
            -0.50325214831696,
            8.84618965269178,
            2.10535007029561,
            6.63254367054806,
            4.80724543283092,
            6.2515266902829,
            7.24902427680863,
            10.9051686731266,
            10.0972715381806,
            1.28644179072697,
            5.43508968704407,
            3.27727939568101,
            7.46674564813841,
            8.05522276139665,
            -1.60096922204521
           ]
          }
         ],
         "name": "2007"
        },
        {
         "data": [
          {
           "coloraxis": "coloraxis",
           "geo": "geo",
           "hovertemplate": "<b>%{hovertext}</b><br><br>Year=2008<br>Country Code=%{location}<br>Value=%{z}<extra></extra>",
           "hovertext": [
            "Afghanistan",
            "Albania",
            "Algeria",
            "Angola",
            "Austria",
            "Azerbaijan",
            "Belgium",
            "Bulgaria",
            "Czechia",
            "Denmark",
            "Estonia",
            "Finland",
            "France",
            "Georgia",
            "Germany",
            "Greece",
            "Hong Kong SAR, China",
            "Hungary",
            "Iceland",
            "Ireland",
            "Israel",
            "Italy",
            "Jordan",
            "Kazakhstan",
            "Latvia",
            "Lebanon",
            "Lithuania",
            "Luxembourg",
            "Moldova",
            "Montenegro",
            "Morocco",
            "Netherlands",
            "Norway",
            "Poland",
            "Portugal",
            "Romania",
            "Russian Federation",
            "Serbia",
            "Singapore",
            "Slovak Republic",
            "Slovenia",
            "Spain",
            "Sweden",
            "Switzerland",
            "Turkiye",
            "Ukraine",
            "United Kingdom"
           ],
           "locations": [
            "AFG",
            "ALB",
            "DZA",
            "AGO",
            "AUT",
            "AZE",
            "BEL",
            "BGR",
            "CZE",
            "DNK",
            "EST",
            "FIN",
            "FRA",
            "GEO",
            "DEU",
            "GRC",
            "HKG",
            "HUN",
            "ISL",
            "IRL",
            "ISR",
            "ITA",
            "JOR",
            "KAZ",
            "LVA",
            "LBN",
            "LTU",
            "LUX",
            "MDA",
            "MNE",
            "MAR",
            "NLD",
            "NOR",
            "POL",
            "PRT",
            "ROU",
            "RUS",
            "SRB",
            "SGP",
            "SVK",
            "SVN",
            "ESP",
            "SWE",
            "CHE",
            "TUR",
            "UKR",
            "GBR"
           ],
           "name": "",
           "type": "choropleth",
           "z": [
            5.74181791090413,
            6.9461474225045,
            -0.596500787842288,
            9.56677077645377,
            -0.278931921550551,
            9.61766569244867,
            -2.01808687622484,
            4.65051949398566,
            6.42356307866004,
            -1.21460028223612,
            -2.9007041436585,
            -2.5417597787817,
            -2.94646764133404,
            -4.69569564529152,
            -1.21925468246721,
            -12.6408333662926,
            1.43897499011028,
            -5.23266758160884,
            -0.781808509697811,
            -8.07917161056572,
            -2.27600991199088,
            -2.53260828145102,
            8.02463846842491,
            2.54269973731331,
            -4.28139088359464,
            9.22178142927972,
            1.73805993021774,
            -12.5424501372384,
            1.80000104294579,
            13.4535701083332,
            5.89969947407964,
            2.03238016237381,
            -0.705412670388569,
            4.88717712129301,
            -2.64555772592598,
            19.1875322168482,
            1.85114459313205,
            3.53433514663774,
            -0.695908923034949,
            5.99605066276898,
            2.64049013492804,
            -1.02273921726639,
            -4.7976836424243,
            2.70215213173563,
            -0.683539590460995,
            -6.36462618676802,
            -2.97038232476238
           ]
          }
         ],
         "name": "2008"
        },
        {
         "data": [
          {
           "coloraxis": "coloraxis",
           "geo": "geo",
           "hovertemplate": "<b>%{hovertext}</b><br><br>Year=2009<br>Country Code=%{location}<br>Value=%{z}<extra></extra>",
           "hovertext": [
            "Afghanistan",
            "Albania",
            "Algeria",
            "Angola",
            "Austria",
            "Azerbaijan",
            "Belgium",
            "Bulgaria",
            "Czechia",
            "Denmark",
            "Estonia",
            "Finland",
            "France",
            "Georgia",
            "Germany",
            "Greece",
            "Hong Kong SAR, China",
            "Hungary",
            "Iceland",
            "Ireland",
            "Israel",
            "Italy",
            "Jordan",
            "Kazakhstan",
            "Latvia",
            "Lebanon",
            "Lithuania",
            "Luxembourg",
            "Moldova",
            "Montenegro",
            "Morocco",
            "Netherlands",
            "Norway",
            "Poland",
            "Portugal",
            "Romania",
            "Russian Federation",
            "Serbia",
            "Singapore",
            "Slovak Republic",
            "Slovenia",
            "Spain",
            "Sweden",
            "Switzerland",
            "Turkiye",
            "Ukraine",
            "United Kingdom"
           ],
           "locations": [
            "AFG",
            "ALB",
            "DZA",
            "AGO",
            "AUT",
            "AZE",
            "BEL",
            "BGR",
            "CZE",
            "DNK",
            "EST",
            "FIN",
            "FRA",
            "GEO",
            "DEU",
            "GRC",
            "HKG",
            "HUN",
            "ISL",
            "IRL",
            "ISR",
            "ITA",
            "JOR",
            "KAZ",
            "LVA",
            "LBN",
            "LTU",
            "LUX",
            "MDA",
            "MNE",
            "MAR",
            "NLD",
            "NOR",
            "POL",
            "PRT",
            "ROU",
            "RUS",
            "SRB",
            "SGP",
            "SVK",
            "SVN",
            "ESP",
            "SWE",
            "CHE",
            "TUR",
            "UKR",
            "GBR"
           ],
           "name": "",
           "type": "choropleth",
           "z": [
            6.10714120703881,
            1.86202001364686,
            -4.32923661869296,
            -3.899999989337,
            -11.304145583722,
            10.4056919262452,
            -4.98375710826589,
            -4.11968294597837,
            -9.92735346288829,
            -10.5917497498819,
            -23.6253476449904,
            -17.9132299571099,
            -5.95800608821794,
            -3.78907252433655,
            -13.4639378485371,
            -0.463312909580026,
            -4.69969220475049,
            -12.664671719735,
            -16.5442924133146,
            -8.6021797455529,
            -2.52577517039495,
            -14.6313242065877,
            -1.9328671379043,
            1.51115972036114,
            -23.8453079336179,
            4.67103075627273,
            -24.8573149469762,
            -11.2022466093347,
            -19.8700006473619,
            -15.629870137415,
            -6.57674275612943,
            -7.89912086595621,
            -3.73823635417084,
            3.11899219634182,
            -8.3326405362577,
            -4.22609517149149,
            -10.4103792010411,
            -9.8162197869831,
            0.849065003110482,
            -13.0447651125694,
            -14.0997627145456,
            -9.67853843131286,
            -14.7330669341161,
            -9.15283414386391,
            -10.504060813614,
            -20.623873257509,
            -8.80727965180581
           ]
          }
         ],
         "name": "2009"
        },
        {
         "data": [
          {
           "coloraxis": "coloraxis",
           "geo": "geo",
           "hovertemplate": "<b>%{hovertext}</b><br><br>Year=2010<br>Country Code=%{location}<br>Value=%{z}<extra></extra>",
           "hovertext": [
            "Afghanistan",
            "Albania",
            "Algeria",
            "Angola",
            "Austria",
            "Azerbaijan",
            "Belgium",
            "Bulgaria",
            "Czechia",
            "Denmark",
            "Estonia",
            "Finland",
            "France",
            "Georgia",
            "Germany",
            "Greece",
            "Hong Kong SAR, China",
            "Hungary",
            "Iceland",
            "Ireland",
            "Israel",
            "Italy",
            "Jordan",
            "Kazakhstan",
            "Latvia",
            "Lebanon",
            "Lithuania",
            "Luxembourg",
            "Moldova",
            "Montenegro",
            "Morocco",
            "Netherlands",
            "Norway",
            "Poland",
            "Portugal",
            "Romania",
            "Russian Federation",
            "Serbia",
            "Singapore",
            "Slovak Republic",
            "Slovenia",
            "Spain",
            "Sweden",
            "Switzerland",
            "Turkiye",
            "Ukraine",
            "United Kingdom"
           ],
           "locations": [
            "AFG",
            "ALB",
            "DZA",
            "AGO",
            "AUT",
            "AZE",
            "BEL",
            "BGR",
            "CZE",
            "DNK",
            "EST",
            "FIN",
            "FRA",
            "GEO",
            "DEU",
            "GRC",
            "HKG",
            "HUN",
            "ISL",
            "IRL",
            "ISR",
            "ITA",
            "JOR",
            "KAZ",
            "LVA",
            "LBN",
            "LTU",
            "LUX",
            "MDA",
            "MNE",
            "MAR",
            "NLD",
            "NOR",
            "POL",
            "PRT",
            "ROU",
            "RUS",
            "SRB",
            "SGP",
            "SVK",
            "SVN",
            "ESP",
            "SWE",
            "CHE",
            "TUR",
            "UKR",
            "GBR"
           ],
           "name": "",
           "type": "choropleth",
           "z": [
            6.27060133432103,
            3.39983816194058,
            1.00293080525131,
            2.52999998821977,
            3.37975771635439,
            3.81742856162421,
            4.78844692171269,
            -5.74519778541107,
            6.68425111111435,
            0.151132034261096,
            10.972037104767,
            8.13488474910069,
            0.468514131917175,
            -3.63589641646747,
            14.7003701219027,
            -14.1281518628143,
            7.647295851241,
            4.24576242211074,
            -2.24868659788278,
            0.514786125671833,
            13.6055655996976,
            3.64452242125634,
            2.1844636815289,
            7.41545013083595,
            -6.38076327550806,
            6.16469159175045,
            4.02017174282589,
            2.87790656589053,
            5.82229130544786,
            5.43124264946304,
            10.2404206079146,
            1.55149116956177,
            -2.75350727664349,
            9.76698042673927,
            1.58446549011882,
            -4.3988835654168,
            6.61153675378256,
            -0.825991533420009,
            23.8306384806289,
            12.245753762255,
            -0.219127033184051,
            -3.01116990005879,
            12.5981012814133,
            6.19937180316461,
            11.4330962341185,
            4.92217830973595,
            2.22999387050345
           ]
          }
         ],
         "name": "2010"
        },
        {
         "data": [
          {
           "coloraxis": "coloraxis",
           "geo": "geo",
           "hovertemplate": "<b>%{hovertext}</b><br><br>Year=2011<br>Country Code=%{location}<br>Value=%{z}<extra></extra>",
           "hovertext": [
            "Afghanistan",
            "Albania",
            "Algeria",
            "Angola",
            "Austria",
            "Azerbaijan",
            "Belgium",
            "Bulgaria",
            "Czechia",
            "Denmark",
            "Estonia",
            "Finland",
            "France",
            "Georgia",
            "Germany",
            "Greece",
            "Hong Kong SAR, China",
            "Hungary",
            "Iceland",
            "Ireland",
            "Israel",
            "Italy",
            "Jordan",
            "Kazakhstan",
            "Latvia",
            "Lebanon",
            "Lithuania",
            "Luxembourg",
            "Moldova",
            "Montenegro",
            "Morocco",
            "Netherlands",
            "Norway",
            "Poland",
            "Portugal",
            "Romania",
            "Russian Federation",
            "Serbia",
            "Singapore",
            "Slovak Republic",
            "Slovenia",
            "Spain",
            "Sweden",
            "Switzerland",
            "Turkiye",
            "Ukraine",
            "United Kingdom"
           ],
           "locations": [
            "AFG",
            "ALB",
            "DZA",
            "AGO",
            "AUT",
            "AZE",
            "BEL",
            "BGR",
            "CZE",
            "DNK",
            "EST",
            "FIN",
            "FRA",
            "GEO",
            "DEU",
            "GRC",
            "HKG",
            "HUN",
            "ISL",
            "IRL",
            "ISR",
            "ITA",
            "JOR",
            "KAZ",
            "LVA",
            "LBN",
            "LTU",
            "LUX",
            "MDA",
            "MNE",
            "MAR",
            "NLD",
            "NOR",
            "POL",
            "PRT",
            "ROU",
            "RUS",
            "SRB",
            "SGP",
            "SVK",
            "SVN",
            "ESP",
            "SWE",
            "CHE",
            "TUR",
            "UKR",
            "GBR"
           ],
           "name": "",
           "type": "choropleth",
           "z": [
            9.80767041942536,
            2.26437554991978,
            -0.835677690926872,
            -1.40999999097289,
            3.98349562221733,
            -5.57475453952756,
            1.32708650561753,
            2.7018932239499,
            5.22204163669242,
            2.75012753803003,
            15.2433561316193,
            0.107788659889607,
            1.37609552323154,
            9.51071314358811,
            5.00710431548896,
            -11.8720763383172,
            8.86537508132446,
            -0.0405835038028783,
            2.64521813882628,
            1.36435510132711,
            2.56302192326285,
            0.0592316715851098,
            3.79824785601161,
            3.4748377962859,
            4.72644457391027,
            2.18020178509066,
            10.3674575262571,
            -4.99817017488091,
            7.48894375204752,
            -0.211605458450506,
            6.30158202578978,
            1.66038316230379,
            -1.2917287861514,
            9.52949600709074,
            -1.71200873365333,
            1.97406273685445,
            6.3928835762292,
            5.25857583320399,
            7.00560629794948,
            3.08439242746263,
            0.129967335602259,
            -4.79296229396243,
            4.38601096912936,
            6.23095710110344,
            19.3205466347348,
            4.60381044682801,
            -3.05296784058666
           ]
          }
         ],
         "name": "2011"
        },
        {
         "data": [
          {
           "coloraxis": "coloraxis",
           "geo": "geo",
           "hovertemplate": "<b>%{hovertext}</b><br><br>Year=2012<br>Country Code=%{location}<br>Value=%{z}<extra></extra>",
           "hovertext": [
            "Afghanistan",
            "Albania",
            "Algeria",
            "Angola",
            "Austria",
            "Azerbaijan",
            "Belgium",
            "Bulgaria",
            "Czechia",
            "Denmark",
            "Estonia",
            "Finland",
            "France",
            "Georgia",
            "Germany",
            "Greece",
            "Hong Kong SAR, China",
            "Hungary",
            "Iceland",
            "Ireland",
            "Israel",
            "Italy",
            "Jordan",
            "Kazakhstan",
            "Latvia",
            "Lebanon",
            "Lithuania",
            "Luxembourg",
            "Moldova",
            "Montenegro",
            "Morocco",
            "Netherlands",
            "Norway",
            "Poland",
            "Portugal",
            "Romania",
            "Russian Federation",
            "Serbia",
            "Singapore",
            "Slovak Republic",
            "Slovenia",
            "Spain",
            "Sweden",
            "Switzerland",
            "Turkiye",
            "Ukraine",
            "United Kingdom"
           ],
           "locations": [
            "AFG",
            "ALB",
            "DZA",
            "AGO",
            "AUT",
            "AZE",
            "BEL",
            "BGR",
            "CZE",
            "DNK",
            "EST",
            "FIN",
            "FRA",
            "GEO",
            "DEU",
            "GRC",
            "HKG",
            "HUN",
            "ISL",
            "IRL",
            "ISR",
            "ITA",
            "JOR",
            "KAZ",
            "LVA",
            "LBN",
            "LTU",
            "LUX",
            "MDA",
            "MNE",
            "MAR",
            "NLD",
            "NOR",
            "POL",
            "PRT",
            "ROU",
            "RUS",
            "SRB",
            "SGP",
            "SVK",
            "SVN",
            "ESP",
            "SWE",
            "CHE",
            "TUR",
            "UKR",
            "GBR"
           ],
           "name": "",
           "type": "choropleth",
           "z": [
            6.39407095410509,
            -6.14066215173217,
            -0.501279037878689,
            10.6899999980035,
            1.4707817129835,
            -0.938011847579077,
            -1.83998466785211,
            4.34685235064931,
            -4.05273358243599,
            1.600502348226,
            2.73636712342076,
            -7.66517533926151,
            -0.975949074249186,
            11.1786006307674,
            -0.0913365538908835,
            -5.86118589545723,
            4.35960412193414,
            -2.22579959306272,
            2.73574578683852,
            -2.2125672413176,
            -0.43995895957346,
            -4.86253348866748,
            0.476729978161686,
            1.897677777041,
            5.9190399958806,
            1.7512160806739,
            1.72754623412878,
            2.66038051515298,
            0.985830195012753,
            -8.48732817347303,
            0.7642912417829,
            -2.34192450434161,
            1.90704135010857,
            0.556493453428558,
            -5.82641011340269,
            -12.3916110794461,
            3.60255631015873,
            0.660834343539761,
            2.17843439021894,
            2.22277962785178,
            -3.31685106877899,
            -6.55968014396917,
            -3.00094624431127,
            -1.22971648205412,
            4.66390815549762,
            -2.68102478853957,
            -0.373802361583998
           ]
          }
         ],
         "name": "2012"
        },
        {
         "data": [
          {
           "coloraxis": "coloraxis",
           "geo": "geo",
           "hovertemplate": "<b>%{hovertext}</b><br><br>Year=2013<br>Country Code=%{location}<br>Value=%{z}<extra></extra>",
           "hovertext": [
            "Afghanistan",
            "Albania",
            "Algeria",
            "Angola",
            "Austria",
            "Azerbaijan",
            "Belgium",
            "Bulgaria",
            "Czechia",
            "Denmark",
            "Estonia",
            "Finland",
            "France",
            "Georgia",
            "Germany",
            "Greece",
            "Hong Kong SAR, China",
            "Hungary",
            "Iceland",
            "Ireland",
            "Israel",
            "Italy",
            "Jordan",
            "Kazakhstan",
            "Latvia",
            "Lebanon",
            "Lithuania",
            "Luxembourg",
            "Moldova",
            "Montenegro",
            "Morocco",
            "Netherlands",
            "Norway",
            "Poland",
            "Portugal",
            "Romania",
            "Russian Federation",
            "Serbia",
            "Singapore",
            "Slovak Republic",
            "Slovenia",
            "Spain",
            "Sweden",
            "Switzerland",
            "Turkiye",
            "Ukraine",
            "United Kingdom"
           ],
           "locations": [
            "AFG",
            "ALB",
            "DZA",
            "AGO",
            "AUT",
            "AZE",
            "BEL",
            "BGR",
            "CZE",
            "DNK",
            "EST",
            "FIN",
            "FRA",
            "GEO",
            "DEU",
            "GRC",
            "HKG",
            "HUN",
            "ISL",
            "IRL",
            "ISR",
            "ITA",
            "JOR",
            "KAZ",
            "LVA",
            "LBN",
            "LTU",
            "LUX",
            "MDA",
            "MNE",
            "MAR",
            "NLD",
            "NOR",
            "POL",
            "PRT",
            "ROU",
            "RUS",
            "SRB",
            "SGP",
            "SVK",
            "SVN",
            "ESP",
            "SWE",
            "CHE",
            "TUR",
            "UKR",
            "GBR"
           ],
           "name": "",
           "type": "choropleth",
           "z": [
            5.06099070863539,
            2.71720448128706,
            -2.63668322032342,
            3.20000000087393,
            0.590506167047124,
            4.51771296772722,
            -0.158781468599273,
            -2.7037029915945,
            -2.43352337128454,
            -1.26643763591281,
            1.8435837598502,
            -0.522739153162576,
            0.665773923509079,
            3.66498564124116,
            -0.755045144947118,
            -6.49438510334915,
            1.49842713391253,
            -1.20667337839781,
            6.41112661987037,
            -2.6572870893701,
            5.79394229309156,
            -3.05167756752157,
            1.83910213381236,
            3.12574065723936,
            -0.706023806139157,
            5.89973864611682,
            4.6330315098831,
            6.47789168116191,
            6.11622270457313,
            8.35291247276663,
            0.592679055100561,
            0.0282411111487022,
            -0.774122347692668,
            -2.51989573938812,
            -2.20505819473158,
            -2.26712601654597,
            0.403355365804401,
            3.18148938529959,
            1.80003330968826,
            -5.50373716944901,
            -1.98409971143158,
            -5.75514078973069,
            -3.5558373961958,
            2.12533870803331,
            10.7332941909246,
            -7.38395299590799,
            2.88991709589499
           ]
          }
         ],
         "name": "2013"
        },
        {
         "data": [
          {
           "coloraxis": "coloraxis",
           "geo": "geo",
           "hovertemplate": "<b>%{hovertext}</b><br><br>Year=2014<br>Country Code=%{location}<br>Value=%{z}<extra></extra>",
           "hovertext": [
            "Afghanistan",
            "Albania",
            "Algeria",
            "Angola",
            "Austria",
            "Azerbaijan",
            "Belgium",
            "Bulgaria",
            "Czechia",
            "Denmark",
            "Estonia",
            "Finland",
            "France",
            "Georgia",
            "Germany",
            "Greece",
            "Hong Kong SAR, China",
            "Hungary",
            "Iceland",
            "Ireland",
            "Israel",
            "Italy",
            "Jordan",
            "Kazakhstan",
            "Latvia",
            "Lebanon",
            "Lithuania",
            "Luxembourg",
            "Moldova",
            "Montenegro",
            "Morocco",
            "Netherlands",
            "Norway",
            "Poland",
            "Portugal",
            "Romania",
            "Russian Federation",
            "Serbia",
            "Singapore",
            "Slovak Republic",
            "Slovenia",
            "Spain",
            "Sweden",
            "Switzerland",
            "Turkiye",
            "Ukraine",
            "United Kingdom"
           ],
           "locations": [
            "AFG",
            "ALB",
            "DZA",
            "AGO",
            "AUT",
            "AZE",
            "BEL",
            "BGR",
            "CZE",
            "DNK",
            "EST",
            "FIN",
            "FRA",
            "GEO",
            "DEU",
            "GRC",
            "HKG",
            "HUN",
            "ISL",
            "IRL",
            "ISR",
            "ITA",
            "JOR",
            "KAZ",
            "LVA",
            "LBN",
            "LTU",
            "LUX",
            "MDA",
            "MNE",
            "MAR",
            "NLD",
            "NOR",
            "POL",
            "PRT",
            "ROU",
            "RUS",
            "SRB",
            "SGP",
            "SVK",
            "SVN",
            "ESP",
            "SWE",
            "CHE",
            "TUR",
            "UKR",
            "GBR"
           ],
           "name": "",
           "type": "choropleth",
           "z": [
            2.76578053797094,
            -3.31855847062698,
            1.49391194752739,
            -1.62000000501274,
            0.0219366723695202,
            0.150863778893751,
            3.18016167591774,
            0.593041937924156,
            3.28683400690659,
            0.451923792163839,
            2.70745329703711,
            -0.974170338332186,
            -0.428811332080286,
            6.98130099153731,
            4.42315673978391,
            -6.38921135419605,
            7.39603265954487,
            6.57857490630343,
            3.83147213572175,
            10.3322590271438,
            -0.858772816053772,
            -2.09656242420925,
            4.10286941547405,
            1.75909711715396,
            -2.33738948885096,
            -2.72303810546862,
            5.85942778043757,
            4.56007750762922,
            8.91160110299565,
            -0.162373481638227,
            37.7245413275382,
            -0.276200940314695,
            1.44567262565522,
            7.39397956859811,
            0.1392799703912,
            7.58032537809063,
            0.0918552698899333,
            -6.88764642908964,
            3.83689094956638,
            13.5436759348178,
            4.94282286027492,
            0.653553819385877,
            0.459705224106301,
            0.379178341279157,
            5.08043369060114,
            -14.2212596759407,
            2.38455567612137
           ]
          }
         ],
         "name": "2014"
        },
        {
         "data": [
          {
           "coloraxis": "coloraxis",
           "geo": "geo",
           "hovertemplate": "<b>%{hovertext}</b><br><br>Year=2015<br>Country Code=%{location}<br>Value=%{z}<extra></extra>",
           "hovertext": [
            "Afghanistan",
            "Albania",
            "Algeria",
            "Angola",
            "Austria",
            "Azerbaijan",
            "Belgium",
            "Bulgaria",
            "Czechia",
            "Denmark",
            "Estonia",
            "Finland",
            "France",
            "Georgia",
            "Germany",
            "Greece",
            "Hong Kong SAR, China",
            "Hungary",
            "Iceland",
            "Ireland",
            "Israel",
            "Italy",
            "Jordan",
            "Kazakhstan",
            "Latvia",
            "Lebanon",
            "Lithuania",
            "Luxembourg",
            "Moldova",
            "Montenegro",
            "Morocco",
            "Netherlands",
            "Norway",
            "Poland",
            "Portugal",
            "Romania",
            "Russian Federation",
            "Serbia",
            "Singapore",
            "Slovak Republic",
            "Slovenia",
            "Spain",
            "Sweden",
            "Switzerland",
            "Turkiye",
            "Ukraine",
            "United Kingdom"
           ],
           "locations": [
            "AFG",
            "ALB",
            "DZA",
            "AGO",
            "AUT",
            "AZE",
            "BEL",
            "BGR",
            "CZE",
            "DNK",
            "EST",
            "FIN",
            "FRA",
            "GEO",
            "DEU",
            "GRC",
            "HKG",
            "HUN",
            "ISL",
            "IRL",
            "ISR",
            "ITA",
            "JOR",
            "KAZ",
            "LVA",
            "LBN",
            "LTU",
            "LUX",
            "MDA",
            "MNE",
            "MAR",
            "NLD",
            "NOR",
            "POL",
            "PRT",
            "ROU",
            "RUS",
            "SRB",
            "SGP",
            "SVK",
            "SVN",
            "ESP",
            "SWE",
            "CHE",
            "TUR",
            "UKR",
            "GBR"
           ],
           "name": "",
           "type": "choropleth",
           "z": [
            4.17112132157884,
            2.57202261699526,
            1.85890720185078,
            7.49000000030127,
            -0.0093103692940133,
            -1.92824377110729,
            2.87793171486021,
            4.40388812417257,
            4.92437901347232,
            1.44623424252413,
            0.24623174616039,
            0.549024410155937,
            0.143314266478399,
            2.61944611109357,
            1.31988630954109,
            -0.783988337558526,
            2.41053992462103,
            7.69822674695877,
            4.7836066016574,
            70.1238917993713,
            1.06471153311243,
            0.500629644098254,
            2.40306552936774,
            0.104753704096524,
            5.05771271702977,
            -5.14279860623394,
            1.15868640708467,
            9.78908564887627,
            2.47231835352737,
            1.6841582325585,
            1.75352406888763,
            0.195948413918146,
            1.90386159111074,
            5.95317662428643,
            2.08020923549516,
            4.3337503087193,
            -0.783756850181476,
            6.19553459363019,
            -2.51610250126298,
            8.02439453546178,
            0.910789569354861,
            3.62723080680148,
            5.26152645369906,
            -0.282760389201115,
            5.03719489558929,
            -14.9808151088725,
            4.7552499886073
           ]
          }
         ],
         "name": "2015"
        },
        {
         "data": [
          {
           "coloraxis": "coloraxis",
           "geo": "geo",
           "hovertemplate": "<b>%{hovertext}</b><br><br>Year=2016<br>Country Code=%{location}<br>Value=%{z}<extra></extra>",
           "hovertext": [
            "Afghanistan",
            "Albania",
            "Algeria",
            "Angola",
            "Austria",
            "Azerbaijan",
            "Belgium",
            "Bulgaria",
            "Czechia",
            "Denmark",
            "Estonia",
            "Finland",
            "France",
            "Georgia",
            "Germany",
            "Greece",
            "Hong Kong SAR, China",
            "Hungary",
            "Iceland",
            "Ireland",
            "Israel",
            "Italy",
            "Jordan",
            "Kazakhstan",
            "Latvia",
            "Lebanon",
            "Lithuania",
            "Luxembourg",
            "Moldova",
            "Montenegro",
            "Morocco",
            "Netherlands",
            "Norway",
            "Poland",
            "Portugal",
            "Romania",
            "Russian Federation",
            "Serbia",
            "Singapore",
            "Slovak Republic",
            "Slovenia",
            "Spain",
            "Sweden",
            "Switzerland",
            "Turkiye",
            "Ukraine",
            "United Kingdom"
           ],
           "locations": [
            "AFG",
            "ALB",
            "DZA",
            "AGO",
            "AUT",
            "AZE",
            "BEL",
            "BGR",
            "CZE",
            "DNK",
            "EST",
            "FIN",
            "FRA",
            "GEO",
            "DEU",
            "GRC",
            "HKG",
            "HUN",
            "ISL",
            "IRL",
            "ISR",
            "ITA",
            "JOR",
            "KAZ",
            "LVA",
            "LBN",
            "LTU",
            "LUX",
            "MDA",
            "MNE",
            "MAR",
            "NLD",
            "NOR",
            "POL",
            "PRT",
            "ROU",
            "RUS",
            "SRB",
            "SGP",
            "SVK",
            "SVN",
            "ESP",
            "SWE",
            "CHE",
            "TUR",
            "UKR",
            "GBR"
           ],
           "name": "",
           "type": "choropleth",
           "z": [
            -0.765914438585867,
            1.89647552363607,
            6.25651596653634,
            1.01000000479696,
            3.03512839813969,
            -4.14243969754455,
            -0.852562139555204,
            3.92589172830175,
            1.99438477296859,
            5.77791045076816,
            6.17382173005208,
            3.86481274738659,
            -0.0582338503020452,
            6.68225808933269,
            4.06023225510764,
            2.18086409530314,
            3.02409390858436,
            -0.453194720883673,
            5.53991314253921,
            -1.26734045554954,
            -1.79108206821033,
            2.69421446430268,
            0.81422400019693,
            1.71046341679745,
            0.027523602234524,
            2.27352519102524,
            0.761982857164625,
            6.14830649676415,
            0.669556571061818,
            6.39253417011896,
            1.89507064432388,
            2.3046579272423,
            0.53099913452219,
            2.14243464493198,
            1.24392596741411,
            2.07729613092059,
            1.6825610027057,
            2.6612683276001,
            2.78321386691974,
            -1.00180302663701,
            3.70497612345659,
            4.036282646064,
            -0.445638840809366,
            1.88618054246909,
            4.58218444701286,
            2.81123377794637,
            -0.0209228116565043
           ]
          }
         ],
         "name": "2016"
        },
        {
         "data": [
          {
           "coloraxis": "coloraxis",
           "geo": "geo",
           "hovertemplate": "<b>%{hovertext}</b><br><br>Year=2017<br>Country Code=%{location}<br>Value=%{z}<extra></extra>",
           "hovertext": [
            "Afghanistan",
            "Albania",
            "Algeria",
            "Angola",
            "Austria",
            "Azerbaijan",
            "Belgium",
            "Bulgaria",
            "Czechia",
            "Denmark",
            "Estonia",
            "Finland",
            "France",
            "Georgia",
            "Germany",
            "Greece",
            "Hong Kong SAR, China",
            "Hungary",
            "Iceland",
            "Ireland",
            "Israel",
            "Italy",
            "Jordan",
            "Kazakhstan",
            "Latvia",
            "Lebanon",
            "Lithuania",
            "Luxembourg",
            "Moldova",
            "Montenegro",
            "Morocco",
            "Netherlands",
            "Norway",
            "Poland",
            "Portugal",
            "Romania",
            "Russian Federation",
            "Serbia",
            "Singapore",
            "Slovak Republic",
            "Slovenia",
            "Spain",
            "Sweden",
            "Switzerland",
            "Turkiye",
            "Ukraine",
            "United Kingdom"
           ],
           "locations": [
            "AFG",
            "ALB",
            "DZA",
            "AGO",
            "AUT",
            "AZE",
            "BEL",
            "BGR",
            "CZE",
            "DNK",
            "EST",
            "FIN",
            "FRA",
            "GEO",
            "DEU",
            "GRC",
            "HKG",
            "HUN",
            "ISL",
            "IRL",
            "ISR",
            "ITA",
            "JOR",
            "KAZ",
            "LVA",
            "LBN",
            "LTU",
            "LUX",
            "MDA",
            "MNE",
            "MAR",
            "NLD",
            "NOR",
            "POL",
            "PRT",
            "ROU",
            "RUS",
            "SRB",
            "SGP",
            "SVK",
            "SVN",
            "ESP",
            "SWE",
            "CHE",
            "TUR",
            "UKR",
            "GBR"
           ],
           "name": "",
           "type": "choropleth",
           "z": [
            9.20679243849179,
            1.79370466355886,
            1.08439954335763,
            -1.6500000043438,
            3.38255281270405,
            -3.54648249978995,
            1.10083072974028,
            0.982102890575646,
            6.6264039656146,
            5.9654068339911,
            6.3289356963482,
            6.19515722410054,
            1.37029390467298,
            4.36955261336102,
            3.4023923464144,
            -2.18629994222731,
            -0.648270046726665,
            4.42077257619557,
            4.6327347192435,
            4.23445208380777,
            3.40635165294098,
            2.92741001311808,
            1.74374098431191,
            6.30003250010466,
            7.22021022501596,
            -2.97758545449332,
            5.25156113286182,
            -7.46721214701009,
            3.83381292199583,
            8.23771165887759,
            3.38576597796217,
            4.64447058273679,
            3.20576796974559,
            1.1674533665975,
            4.14233647027424,
            6.44379200038844,
            1.8071529367885,
            3.03570461819773,
            6.98878769024473,
            1.47642756182303,
            6.99659484339227,
            3.45685263405686,
            4.3516334319681,
            4.33490012649777,
            9.31809286152236,
            1.77721025377609,
            1.15816641423652
           ]
          }
         ],
         "name": "2017"
        },
        {
         "data": [
          {
           "coloraxis": "coloraxis",
           "geo": "geo",
           "hovertemplate": "<b>%{hovertext}</b><br><br>Year=2018<br>Country Code=%{location}<br>Value=%{z}<extra></extra>",
           "hovertext": [
            "Afghanistan",
            "Albania",
            "Algeria",
            "Angola",
            "Austria",
            "Azerbaijan",
            "Belgium",
            "Bulgaria",
            "Czechia",
            "Denmark",
            "Estonia",
            "Finland",
            "France",
            "Georgia",
            "Germany",
            "Greece",
            "Hong Kong SAR, China",
            "Hungary",
            "Iceland",
            "Ireland",
            "Israel",
            "Italy",
            "Jordan",
            "Kazakhstan",
            "Latvia",
            "Lebanon",
            "Lithuania",
            "Luxembourg",
            "Moldova",
            "Montenegro",
            "Morocco",
            "Netherlands",
            "Norway",
            "Poland",
            "Portugal",
            "Romania",
            "Russian Federation",
            "Serbia",
            "Singapore",
            "Slovak Republic",
            "Slovenia",
            "Spain",
            "Sweden",
            "Switzerland",
            "Turkiye",
            "Ukraine",
            "United Kingdom"
           ],
           "locations": [
            "AFG",
            "ALB",
            "DZA",
            "AGO",
            "AUT",
            "AZE",
            "BEL",
            "BGR",
            "CZE",
            "DNK",
            "EST",
            "FIN",
            "FRA",
            "GEO",
            "DEU",
            "GRC",
            "HKG",
            "HUN",
            "ISL",
            "IRL",
            "ISR",
            "ITA",
            "JOR",
            "KAZ",
            "LVA",
            "LBN",
            "LTU",
            "LUX",
            "MDA",
            "MNE",
            "MAR",
            "NLD",
            "NOR",
            "POL",
            "PRT",
            "ROU",
            "RUS",
            "SRB",
            "SGP",
            "SVK",
            "SVN",
            "ESP",
            "SWE",
            "CHE",
            "TUR",
            "UKR",
            "GBR"
           ],
           "name": "",
           "type": "choropleth",
           "z": [
            11.0746416505214,
            9.79454268996784,
            -1.23183046109078,
            -4.51647408016582,
            3.22877995958217,
            -0.663005845945094,
            0.399218602613189,
            -0.00472357334471951,
            1.44264861222676,
            0.966052220188928,
            4.85699450244579,
            -2.36294374206371,
            1.84585487153839,
            -0.53148956411971,
            0.885406547332138,
            3.69671992860987,
            2.43262809194191,
            4.27556795665751,
            4.26461909270795,
            10.825574554703,
            7.51047107218869,
            1.87880897053665,
            1.21104280840095,
            4.45526008841988,
            3.14476252297662,
            -3.93010721264955,
            4.42898097565572,
            0.664555770816747,
            8.26372188485578,
            14.8117785087496,
            3.14716220938587,
            2.854683798276,
            -1.85384430185384,
            5.79498114166834,
            4.37171342120119,
            4.49155415103822,
            2.88249690852219,
            2.7118271400643,
            5.58753102599267,
            6.99025067340078,
            3.94106437523148,
            0.574421500021472,
            1.04034855704278,
            5.58423927329761,
            0.519909056961936,
            2.71736136410084,
            1.79447638794767
           ]
          }
         ],
         "name": "2018"
        },
        {
         "data": [
          {
           "coloraxis": "coloraxis",
           "geo": "geo",
           "hovertemplate": "<b>%{hovertext}</b><br><br>Year=2019<br>Country Code=%{location}<br>Value=%{z}<extra></extra>",
           "hovertext": [
            "Afghanistan",
            "Albania",
            "Algeria",
            "Angola",
            "Austria",
            "Azerbaijan",
            "Belgium",
            "Bulgaria",
            "Czechia",
            "Denmark",
            "Estonia",
            "Finland",
            "France",
            "Georgia",
            "Germany",
            "Greece",
            "Hong Kong SAR, China",
            "Hungary",
            "Iceland",
            "Ireland",
            "Israel",
            "Italy",
            "Jordan",
            "Kazakhstan",
            "Latvia",
            "Lebanon",
            "Lithuania",
            "Luxembourg",
            "Moldova",
            "Montenegro",
            "Morocco",
            "Netherlands",
            "Norway",
            "Poland",
            "Portugal",
            "Romania",
            "Russian Federation",
            "Serbia",
            "Singapore",
            "Slovak Republic",
            "Slovenia",
            "Spain",
            "Sweden",
            "Switzerland",
            "Turkiye",
            "Ukraine",
            "United Kingdom"
           ],
           "locations": [
            "AFG",
            "ALB",
            "DZA",
            "AGO",
            "AUT",
            "AZE",
            "BEL",
            "BGR",
            "CZE",
            "DNK",
            "EST",
            "FIN",
            "FRA",
            "GEO",
            "DEU",
            "GRC",
            "HKG",
            "HUN",
            "ISL",
            "IRL",
            "ISR",
            "ITA",
            "JOR",
            "KAZ",
            "LVA",
            "LBN",
            "LTU",
            "LUX",
            "MDA",
            "MNE",
            "MAR",
            "NLD",
            "NOR",
            "POL",
            "PRT",
            "ROU",
            "RUS",
            "SRB",
            "SGP",
            "SVK",
            "SVN",
            "ESP",
            "SWE",
            "CHE",
            "TUR",
            "UKR",
            "GBR"
           ],
           "name": "",
           "type": "choropleth",
           "z": [
            4.84886809201079,
            0.82115087494175,
            -1.14027122430664,
            -3.5600000021762,
            0.583485289732181,
            0.877181119423454,
            3.67081471962759,
            -0.0751734434625746,
            1.93825341392953,
            1.61080980270513,
            -2.96130877057823,
            0.70492884742248,
            1.93317401480549,
            2.70491999026912,
            -1.46450178428155,
            1.45659754358907,
            -6.39828038583818,
            4.51257568055368,
            2.34839695593098,
            2.31537767898963,
            3.8959744775803,
            0.383797809643923,
            1.41663352767078,
            6.61781811092794,
            2.49478700074026,
            -16.9044252941753,
            4.78520419109978,
            11.8074053425707,
            6.04880615477353,
            3.78893905968927,
            4.06736627178516,
            1.02149603720365,
            -1.06733818925048,
            3.43054322791774,
            1.30819448825292,
            -0.414659168830028,
            1.5506194556002,
            6.14860765873404,
            -1.15798221561477,
            3.91384260068467,
            7.04461176853538,
            2.25468267112878,
            0.214747328777349,
            2.67076957764758,
            -2.93496634842508,
            2.32558139534885,
            2.08922918108092
           ]
          }
         ],
         "name": "2019"
        },
        {
         "data": [
          {
           "coloraxis": "coloraxis",
           "geo": "geo",
           "hovertemplate": "<b>%{hovertext}</b><br><br>Year=2020<br>Country Code=%{location}<br>Value=%{z}<extra></extra>",
           "hovertext": [
            "Afghanistan",
            "Albania",
            "Algeria",
            "Angola",
            "Austria",
            "Azerbaijan",
            "Belgium",
            "Bulgaria",
            "Czechia",
            "Denmark",
            "Estonia",
            "Finland",
            "France",
            "Georgia",
            "Germany",
            "Greece",
            "Hong Kong SAR, China",
            "Hungary",
            "Iceland",
            "Ireland",
            "Israel",
            "Italy",
            "Jordan",
            "Kazakhstan",
            "Latvia",
            "Lebanon",
            "Lithuania",
            "Luxembourg",
            "Moldova",
            "Montenegro",
            "Morocco",
            "Netherlands",
            "Norway",
            "Poland",
            "Portugal",
            "Romania",
            "Russian Federation",
            "Serbia",
            "Singapore",
            "Slovak Republic",
            "Slovenia",
            "Spain",
            "Sweden",
            "Switzerland",
            "Turkiye",
            "Ukraine",
            "United Kingdom"
           ],
           "locations": [
            "AFG",
            "ALB",
            "DZA",
            "AGO",
            "AUT",
            "AZE",
            "BEL",
            "BGR",
            "CZE",
            "DNK",
            "EST",
            "FIN",
            "FRA",
            "GEO",
            "DEU",
            "GRC",
            "HKG",
            "HUN",
            "ISL",
            "IRL",
            "ISR",
            "ITA",
            "JOR",
            "KAZ",
            "LVA",
            "LBN",
            "LTU",
            "LUX",
            "MDA",
            "MNE",
            "MAR",
            "NLD",
            "NOR",
            "POL",
            "PRT",
            "ROU",
            "RUS",
            "SRB",
            "SGP",
            "SVK",
            "SVN",
            "ESP",
            "SWE",
            "CHE",
            "TUR",
            "UKR",
            "GBR"
           ],
           "name": "",
           "type": "choropleth",
           "z": [
            -4.63025317112874,
            -4.9921500767101,
            -6.85661432347737,
            -10.4615558615497,
            -4.21324229823156,
            -5.98172692004269,
            -3.56176878146323,
            -8.21867773844276,
            -9.91542380289,
            -3.10864202288791,
            -0.499091323492024,
            -1.13047221546351,
            -11.6136494635932,
            -6.83713890770635,
            -5.89948530212315,
            2.50399076282142,
            -11.7199344752397,
            -7.87142553939508,
            -2.72887113071674,
            20.340744852339,
            -0.531168562276847,
            -10.2461555280227,
            -2.42784815972475,
            3.05455277803929,
            1.83100017905669,
            -21.7814079511959,
            1.26345129759771,
            -4.22742882243988,
            -2.79937736165704,
            -9.86107724866321,
            -5.23161842214522,
            -2.09487431977701,
            4.18073620465083,
            -4.49920664521554,
            -5.92787876229872,
            -4.21275958919227,
            -2.32625706159614,
            -0.516611944451611,
            0.345296796554479,
            -12.5601873699279,
            -3.28125297539704,
            -13.1367146733459,
            -0.527359877550197,
            -3.92844390595086,
            0.957042835252551,
            -3.23663280626531,
            -3.14119410174737
           ]
          }
         ],
         "name": "2020"
        },
        {
         "data": [
          {
           "coloraxis": "coloraxis",
           "geo": "geo",
           "hovertemplate": "<b>%{hovertext}</b><br><br>Year=2021<br>Country Code=%{location}<br>Value=%{z}<extra></extra>",
           "hovertext": [
            "Afghanistan",
            "Albania",
            "Algeria",
            "Angola",
            "Austria",
            "Azerbaijan",
            "Belgium",
            "Bulgaria",
            "Czechia",
            "Denmark",
            "Estonia",
            "Finland",
            "France",
            "Georgia",
            "Germany",
            "Greece",
            "Hong Kong SAR, China",
            "Hungary",
            "Iceland",
            "Ireland",
            "Israel",
            "Italy",
            "Jordan",
            "Kazakhstan",
            "Latvia",
            "Lebanon",
            "Lithuania",
            "Luxembourg",
            "Moldova",
            "Montenegro",
            "Morocco",
            "Netherlands",
            "Norway",
            "Poland",
            "Portugal",
            "Romania",
            "Russian Federation",
            "Serbia",
            "Singapore",
            "Slovak Republic",
            "Slovenia",
            "Spain",
            "Sweden",
            "Switzerland",
            "Turkiye",
            "Ukraine",
            "United Kingdom"
           ],
           "locations": [
            "AFG",
            "ALB",
            "DZA",
            "AGO",
            "AUT",
            "AZE",
            "BEL",
            "BGR",
            "CZE",
            "DNK",
            "EST",
            "FIN",
            "FRA",
            "GEO",
            "DEU",
            "GRC",
            "HKG",
            "HUN",
            "ISL",
            "IRL",
            "ISR",
            "ITA",
            "JOR",
            "KAZ",
            "LVA",
            "LBN",
            "LTU",
            "LUX",
            "MDA",
            "MNE",
            "MAR",
            "NLD",
            "NOR",
            "POL",
            "PRT",
            "ROU",
            "RUS",
            "SRB",
            "SGP",
            "SVK",
            "SVN",
            "ESP",
            "SWE",
            "CHE",
            "TUR",
            "UKR",
            "GBR"
           ],
           "name": "",
           "type": "choropleth",
           "z": [
            -14.1851563481973,
            16.0039845265799,
            7.35957482400735,
            -8.33801683121347,
            6.77344797068838,
            1.95022763860835,
            1.2787587334153,
            1.71644647042706,
            3.29584111131116,
            5.24629590711154,
            7.13172255303299,
            2.77141504969238,
            6.98012894553899,
            2.39738755190373,
            3.61438797162468,
            10.6723169169118,
            2.08387882164833,
            6.64192978427207,
            5.64641557676654,
            20.3276642801272,
            6.04632845947559,
            13.4645524961235,
            3.02016499996145,
            5.09518339934203,
            1.92802708740136,
            -6.85474529351441,
            8.57802766433899,
            2.86578909654702,
            -0.670329178255173,
            1.38919050918813,
            6.84466892778836,
            4.93313795842252,
            2.19239121739929,
            3.35668316544952,
            5.62699770885135,
            4.06591889151473,
            4.9037259481012,
            8.62831692105412,
            13.3227709826871,
            2.4552180337832,
            9.4252428731596,
            4.02631667475646,
            5.71742103595483,
            7.90548044973885,
            12.4635145534884,
            2.56562864207022,
            9.12138854740259
           ]
          }
         ],
         "name": "2021"
        }
       ],
       "layout": {
        "coloraxis": {
         "cmax": 14,
         "cmin": 0,
         "colorbar": {
          "title": {
           "text": "Value"
          }
         },
         "colorscale": [
          [
           0,
           "#0d0887"
          ],
          [
           0.1111111111111111,
           "#46039f"
          ],
          [
           0.2222222222222222,
           "#7201a8"
          ],
          [
           0.3333333333333333,
           "#9c179e"
          ],
          [
           0.4444444444444444,
           "#bd3786"
          ],
          [
           0.5555555555555556,
           "#d8576b"
          ],
          [
           0.6666666666666666,
           "#ed7953"
          ],
          [
           0.7777777777777778,
           "#fb9f3a"
          ],
          [
           0.8888888888888888,
           "#fdca26"
          ],
          [
           1,
           "#f0f921"
          ]
         ]
        },
        "geo": {
         "center": {},
         "domain": {
          "x": [
           0,
           1
          ],
          "y": [
           0,
           1
          ]
         },
         "projection": {
          "type": "natural earth"
         }
        },
        "legend": {
         "tracegroupgap": 0
        },
        "margin": {
         "t": 60
        },
        "sliders": [
         {
          "active": 0,
          "currentvalue": {
           "prefix": "Year="
          },
          "len": 0.9,
          "pad": {
           "b": 10,
           "t": 60
          },
          "steps": [
           {
            "args": [
             [
              "2005"
             ],
             {
              "frame": {
               "duration": 0,
               "redraw": true
              },
              "fromcurrent": true,
              "mode": "immediate",
              "transition": {
               "duration": 0,
               "easing": "linear"
              }
             }
            ],
            "label": "2005",
            "method": "animate"
           },
           {
            "args": [
             [
              "2006"
             ],
             {
              "frame": {
               "duration": 0,
               "redraw": true
              },
              "fromcurrent": true,
              "mode": "immediate",
              "transition": {
               "duration": 0,
               "easing": "linear"
              }
             }
            ],
            "label": "2006",
            "method": "animate"
           },
           {
            "args": [
             [
              "2007"
             ],
             {
              "frame": {
               "duration": 0,
               "redraw": true
              },
              "fromcurrent": true,
              "mode": "immediate",
              "transition": {
               "duration": 0,
               "easing": "linear"
              }
             }
            ],
            "label": "2007",
            "method": "animate"
           },
           {
            "args": [
             [
              "2008"
             ],
             {
              "frame": {
               "duration": 0,
               "redraw": true
              },
              "fromcurrent": true,
              "mode": "immediate",
              "transition": {
               "duration": 0,
               "easing": "linear"
              }
             }
            ],
            "label": "2008",
            "method": "animate"
           },
           {
            "args": [
             [
              "2009"
             ],
             {
              "frame": {
               "duration": 0,
               "redraw": true
              },
              "fromcurrent": true,
              "mode": "immediate",
              "transition": {
               "duration": 0,
               "easing": "linear"
              }
             }
            ],
            "label": "2009",
            "method": "animate"
           },
           {
            "args": [
             [
              "2010"
             ],
             {
              "frame": {
               "duration": 0,
               "redraw": true
              },
              "fromcurrent": true,
              "mode": "immediate",
              "transition": {
               "duration": 0,
               "easing": "linear"
              }
             }
            ],
            "label": "2010",
            "method": "animate"
           },
           {
            "args": [
             [
              "2011"
             ],
             {
              "frame": {
               "duration": 0,
               "redraw": true
              },
              "fromcurrent": true,
              "mode": "immediate",
              "transition": {
               "duration": 0,
               "easing": "linear"
              }
             }
            ],
            "label": "2011",
            "method": "animate"
           },
           {
            "args": [
             [
              "2012"
             ],
             {
              "frame": {
               "duration": 0,
               "redraw": true
              },
              "fromcurrent": true,
              "mode": "immediate",
              "transition": {
               "duration": 0,
               "easing": "linear"
              }
             }
            ],
            "label": "2012",
            "method": "animate"
           },
           {
            "args": [
             [
              "2013"
             ],
             {
              "frame": {
               "duration": 0,
               "redraw": true
              },
              "fromcurrent": true,
              "mode": "immediate",
              "transition": {
               "duration": 0,
               "easing": "linear"
              }
             }
            ],
            "label": "2013",
            "method": "animate"
           },
           {
            "args": [
             [
              "2014"
             ],
             {
              "frame": {
               "duration": 0,
               "redraw": true
              },
              "fromcurrent": true,
              "mode": "immediate",
              "transition": {
               "duration": 0,
               "easing": "linear"
              }
             }
            ],
            "label": "2014",
            "method": "animate"
           },
           {
            "args": [
             [
              "2015"
             ],
             {
              "frame": {
               "duration": 0,
               "redraw": true
              },
              "fromcurrent": true,
              "mode": "immediate",
              "transition": {
               "duration": 0,
               "easing": "linear"
              }
             }
            ],
            "label": "2015",
            "method": "animate"
           },
           {
            "args": [
             [
              "2016"
             ],
             {
              "frame": {
               "duration": 0,
               "redraw": true
              },
              "fromcurrent": true,
              "mode": "immediate",
              "transition": {
               "duration": 0,
               "easing": "linear"
              }
             }
            ],
            "label": "2016",
            "method": "animate"
           },
           {
            "args": [
             [
              "2017"
             ],
             {
              "frame": {
               "duration": 0,
               "redraw": true
              },
              "fromcurrent": true,
              "mode": "immediate",
              "transition": {
               "duration": 0,
               "easing": "linear"
              }
             }
            ],
            "label": "2017",
            "method": "animate"
           },
           {
            "args": [
             [
              "2018"
             ],
             {
              "frame": {
               "duration": 0,
               "redraw": true
              },
              "fromcurrent": true,
              "mode": "immediate",
              "transition": {
               "duration": 0,
               "easing": "linear"
              }
             }
            ],
            "label": "2018",
            "method": "animate"
           },
           {
            "args": [
             [
              "2019"
             ],
             {
              "frame": {
               "duration": 0,
               "redraw": true
              },
              "fromcurrent": true,
              "mode": "immediate",
              "transition": {
               "duration": 0,
               "easing": "linear"
              }
             }
            ],
            "label": "2019",
            "method": "animate"
           },
           {
            "args": [
             [
              "2020"
             ],
             {
              "frame": {
               "duration": 0,
               "redraw": true
              },
              "fromcurrent": true,
              "mode": "immediate",
              "transition": {
               "duration": 0,
               "easing": "linear"
              }
             }
            ],
            "label": "2020",
            "method": "animate"
           },
           {
            "args": [
             [
              "2021"
             ],
             {
              "frame": {
               "duration": 0,
               "redraw": true
              },
              "fromcurrent": true,
              "mode": "immediate",
              "transition": {
               "duration": 0,
               "easing": "linear"
              }
             }
            ],
            "label": "2021",
            "method": "animate"
           }
          ],
          "x": 0.1,
          "xanchor": "left",
          "y": 0,
          "yanchor": "top"
         }
        ],
        "template": {
         "data": {
          "bar": [
           {
            "error_x": {
             "color": "#2a3f5f"
            },
            "error_y": {
             "color": "#2a3f5f"
            },
            "marker": {
             "line": {
              "color": "#E5ECF6",
              "width": 0.5
             },
             "pattern": {
              "fillmode": "overlay",
              "size": 10,
              "solidity": 0.2
             }
            },
            "type": "bar"
           }
          ],
          "barpolar": [
           {
            "marker": {
             "line": {
              "color": "#E5ECF6",
              "width": 0.5
             },
             "pattern": {
              "fillmode": "overlay",
              "size": 10,
              "solidity": 0.2
             }
            },
            "type": "barpolar"
           }
          ],
          "carpet": [
           {
            "aaxis": {
             "endlinecolor": "#2a3f5f",
             "gridcolor": "white",
             "linecolor": "white",
             "minorgridcolor": "white",
             "startlinecolor": "#2a3f5f"
            },
            "baxis": {
             "endlinecolor": "#2a3f5f",
             "gridcolor": "white",
             "linecolor": "white",
             "minorgridcolor": "white",
             "startlinecolor": "#2a3f5f"
            },
            "type": "carpet"
           }
          ],
          "choropleth": [
           {
            "colorbar": {
             "outlinewidth": 0,
             "ticks": ""
            },
            "type": "choropleth"
           }
          ],
          "contour": [
           {
            "colorbar": {
             "outlinewidth": 0,
             "ticks": ""
            },
            "colorscale": [
             [
              0,
              "#0d0887"
             ],
             [
              0.1111111111111111,
              "#46039f"
             ],
             [
              0.2222222222222222,
              "#7201a8"
             ],
             [
              0.3333333333333333,
              "#9c179e"
             ],
             [
              0.4444444444444444,
              "#bd3786"
             ],
             [
              0.5555555555555556,
              "#d8576b"
             ],
             [
              0.6666666666666666,
              "#ed7953"
             ],
             [
              0.7777777777777778,
              "#fb9f3a"
             ],
             [
              0.8888888888888888,
              "#fdca26"
             ],
             [
              1,
              "#f0f921"
             ]
            ],
            "type": "contour"
           }
          ],
          "contourcarpet": [
           {
            "colorbar": {
             "outlinewidth": 0,
             "ticks": ""
            },
            "type": "contourcarpet"
           }
          ],
          "heatmap": [
           {
            "colorbar": {
             "outlinewidth": 0,
             "ticks": ""
            },
            "colorscale": [
             [
              0,
              "#0d0887"
             ],
             [
              0.1111111111111111,
              "#46039f"
             ],
             [
              0.2222222222222222,
              "#7201a8"
             ],
             [
              0.3333333333333333,
              "#9c179e"
             ],
             [
              0.4444444444444444,
              "#bd3786"
             ],
             [
              0.5555555555555556,
              "#d8576b"
             ],
             [
              0.6666666666666666,
              "#ed7953"
             ],
             [
              0.7777777777777778,
              "#fb9f3a"
             ],
             [
              0.8888888888888888,
              "#fdca26"
             ],
             [
              1,
              "#f0f921"
             ]
            ],
            "type": "heatmap"
           }
          ],
          "heatmapgl": [
           {
            "colorbar": {
             "outlinewidth": 0,
             "ticks": ""
            },
            "colorscale": [
             [
              0,
              "#0d0887"
             ],
             [
              0.1111111111111111,
              "#46039f"
             ],
             [
              0.2222222222222222,
              "#7201a8"
             ],
             [
              0.3333333333333333,
              "#9c179e"
             ],
             [
              0.4444444444444444,
              "#bd3786"
             ],
             [
              0.5555555555555556,
              "#d8576b"
             ],
             [
              0.6666666666666666,
              "#ed7953"
             ],
             [
              0.7777777777777778,
              "#fb9f3a"
             ],
             [
              0.8888888888888888,
              "#fdca26"
             ],
             [
              1,
              "#f0f921"
             ]
            ],
            "type": "heatmapgl"
           }
          ],
          "histogram": [
           {
            "marker": {
             "pattern": {
              "fillmode": "overlay",
              "size": 10,
              "solidity": 0.2
             }
            },
            "type": "histogram"
           }
          ],
          "histogram2d": [
           {
            "colorbar": {
             "outlinewidth": 0,
             "ticks": ""
            },
            "colorscale": [
             [
              0,
              "#0d0887"
             ],
             [
              0.1111111111111111,
              "#46039f"
             ],
             [
              0.2222222222222222,
              "#7201a8"
             ],
             [
              0.3333333333333333,
              "#9c179e"
             ],
             [
              0.4444444444444444,
              "#bd3786"
             ],
             [
              0.5555555555555556,
              "#d8576b"
             ],
             [
              0.6666666666666666,
              "#ed7953"
             ],
             [
              0.7777777777777778,
              "#fb9f3a"
             ],
             [
              0.8888888888888888,
              "#fdca26"
             ],
             [
              1,
              "#f0f921"
             ]
            ],
            "type": "histogram2d"
           }
          ],
          "histogram2dcontour": [
           {
            "colorbar": {
             "outlinewidth": 0,
             "ticks": ""
            },
            "colorscale": [
             [
              0,
              "#0d0887"
             ],
             [
              0.1111111111111111,
              "#46039f"
             ],
             [
              0.2222222222222222,
              "#7201a8"
             ],
             [
              0.3333333333333333,
              "#9c179e"
             ],
             [
              0.4444444444444444,
              "#bd3786"
             ],
             [
              0.5555555555555556,
              "#d8576b"
             ],
             [
              0.6666666666666666,
              "#ed7953"
             ],
             [
              0.7777777777777778,
              "#fb9f3a"
             ],
             [
              0.8888888888888888,
              "#fdca26"
             ],
             [
              1,
              "#f0f921"
             ]
            ],
            "type": "histogram2dcontour"
           }
          ],
          "mesh3d": [
           {
            "colorbar": {
             "outlinewidth": 0,
             "ticks": ""
            },
            "type": "mesh3d"
           }
          ],
          "parcoords": [
           {
            "line": {
             "colorbar": {
              "outlinewidth": 0,
              "ticks": ""
             }
            },
            "type": "parcoords"
           }
          ],
          "pie": [
           {
            "automargin": true,
            "type": "pie"
           }
          ],
          "scatter": [
           {
            "fillpattern": {
             "fillmode": "overlay",
             "size": 10,
             "solidity": 0.2
            },
            "type": "scatter"
           }
          ],
          "scatter3d": [
           {
            "line": {
             "colorbar": {
              "outlinewidth": 0,
              "ticks": ""
             }
            },
            "marker": {
             "colorbar": {
              "outlinewidth": 0,
              "ticks": ""
             }
            },
            "type": "scatter3d"
           }
          ],
          "scattercarpet": [
           {
            "marker": {
             "colorbar": {
              "outlinewidth": 0,
              "ticks": ""
             }
            },
            "type": "scattercarpet"
           }
          ],
          "scattergeo": [
           {
            "marker": {
             "colorbar": {
              "outlinewidth": 0,
              "ticks": ""
             }
            },
            "type": "scattergeo"
           }
          ],
          "scattergl": [
           {
            "marker": {
             "colorbar": {
              "outlinewidth": 0,
              "ticks": ""
             }
            },
            "type": "scattergl"
           }
          ],
          "scattermapbox": [
           {
            "marker": {
             "colorbar": {
              "outlinewidth": 0,
              "ticks": ""
             }
            },
            "type": "scattermapbox"
           }
          ],
          "scatterpolar": [
           {
            "marker": {
             "colorbar": {
              "outlinewidth": 0,
              "ticks": ""
             }
            },
            "type": "scatterpolar"
           }
          ],
          "scatterpolargl": [
           {
            "marker": {
             "colorbar": {
              "outlinewidth": 0,
              "ticks": ""
             }
            },
            "type": "scatterpolargl"
           }
          ],
          "scatterternary": [
           {
            "marker": {
             "colorbar": {
              "outlinewidth": 0,
              "ticks": ""
             }
            },
            "type": "scatterternary"
           }
          ],
          "surface": [
           {
            "colorbar": {
             "outlinewidth": 0,
             "ticks": ""
            },
            "colorscale": [
             [
              0,
              "#0d0887"
             ],
             [
              0.1111111111111111,
              "#46039f"
             ],
             [
              0.2222222222222222,
              "#7201a8"
             ],
             [
              0.3333333333333333,
              "#9c179e"
             ],
             [
              0.4444444444444444,
              "#bd3786"
             ],
             [
              0.5555555555555556,
              "#d8576b"
             ],
             [
              0.6666666666666666,
              "#ed7953"
             ],
             [
              0.7777777777777778,
              "#fb9f3a"
             ],
             [
              0.8888888888888888,
              "#fdca26"
             ],
             [
              1,
              "#f0f921"
             ]
            ],
            "type": "surface"
           }
          ],
          "table": [
           {
            "cells": {
             "fill": {
              "color": "#EBF0F8"
             },
             "line": {
              "color": "white"
             }
            },
            "header": {
             "fill": {
              "color": "#C8D4E3"
             },
             "line": {
              "color": "white"
             }
            },
            "type": "table"
           }
          ]
         },
         "layout": {
          "annotationdefaults": {
           "arrowcolor": "#2a3f5f",
           "arrowhead": 0,
           "arrowwidth": 1
          },
          "autotypenumbers": "strict",
          "coloraxis": {
           "colorbar": {
            "outlinewidth": 0,
            "ticks": ""
           }
          },
          "colorscale": {
           "diverging": [
            [
             0,
             "#8e0152"
            ],
            [
             0.1,
             "#c51b7d"
            ],
            [
             0.2,
             "#de77ae"
            ],
            [
             0.3,
             "#f1b6da"
            ],
            [
             0.4,
             "#fde0ef"
            ],
            [
             0.5,
             "#f7f7f7"
            ],
            [
             0.6,
             "#e6f5d0"
            ],
            [
             0.7,
             "#b8e186"
            ],
            [
             0.8,
             "#7fbc41"
            ],
            [
             0.9,
             "#4d9221"
            ],
            [
             1,
             "#276419"
            ]
           ],
           "sequential": [
            [
             0,
             "#0d0887"
            ],
            [
             0.1111111111111111,
             "#46039f"
            ],
            [
             0.2222222222222222,
             "#7201a8"
            ],
            [
             0.3333333333333333,
             "#9c179e"
            ],
            [
             0.4444444444444444,
             "#bd3786"
            ],
            [
             0.5555555555555556,
             "#d8576b"
            ],
            [
             0.6666666666666666,
             "#ed7953"
            ],
            [
             0.7777777777777778,
             "#fb9f3a"
            ],
            [
             0.8888888888888888,
             "#fdca26"
            ],
            [
             1,
             "#f0f921"
            ]
           ],
           "sequentialminus": [
            [
             0,
             "#0d0887"
            ],
            [
             0.1111111111111111,
             "#46039f"
            ],
            [
             0.2222222222222222,
             "#7201a8"
            ],
            [
             0.3333333333333333,
             "#9c179e"
            ],
            [
             0.4444444444444444,
             "#bd3786"
            ],
            [
             0.5555555555555556,
             "#d8576b"
            ],
            [
             0.6666666666666666,
             "#ed7953"
            ],
            [
             0.7777777777777778,
             "#fb9f3a"
            ],
            [
             0.8888888888888888,
             "#fdca26"
            ],
            [
             1,
             "#f0f921"
            ]
           ]
          },
          "colorway": [
           "#636efa",
           "#EF553B",
           "#00cc96",
           "#ab63fa",
           "#FFA15A",
           "#19d3f3",
           "#FF6692",
           "#B6E880",
           "#FF97FF",
           "#FECB52"
          ],
          "font": {
           "color": "#2a3f5f"
          },
          "geo": {
           "bgcolor": "white",
           "lakecolor": "white",
           "landcolor": "#E5ECF6",
           "showlakes": true,
           "showland": true,
           "subunitcolor": "white"
          },
          "hoverlabel": {
           "align": "left"
          },
          "hovermode": "closest",
          "mapbox": {
           "style": "light"
          },
          "paper_bgcolor": "white",
          "plot_bgcolor": "#E5ECF6",
          "polar": {
           "angularaxis": {
            "gridcolor": "white",
            "linecolor": "white",
            "ticks": ""
           },
           "bgcolor": "#E5ECF6",
           "radialaxis": {
            "gridcolor": "white",
            "linecolor": "white",
            "ticks": ""
           }
          },
          "scene": {
           "xaxis": {
            "backgroundcolor": "#E5ECF6",
            "gridcolor": "white",
            "gridwidth": 2,
            "linecolor": "white",
            "showbackground": true,
            "ticks": "",
            "zerolinecolor": "white"
           },
           "yaxis": {
            "backgroundcolor": "#E5ECF6",
            "gridcolor": "white",
            "gridwidth": 2,
            "linecolor": "white",
            "showbackground": true,
            "ticks": "",
            "zerolinecolor": "white"
           },
           "zaxis": {
            "backgroundcolor": "#E5ECF6",
            "gridcolor": "white",
            "gridwidth": 2,
            "linecolor": "white",
            "showbackground": true,
            "ticks": "",
            "zerolinecolor": "white"
           }
          },
          "shapedefaults": {
           "line": {
            "color": "#2a3f5f"
           }
          },
          "ternary": {
           "aaxis": {
            "gridcolor": "white",
            "linecolor": "white",
            "ticks": ""
           },
           "baxis": {
            "gridcolor": "white",
            "linecolor": "white",
            "ticks": ""
           },
           "bgcolor": "#E5ECF6",
           "caxis": {
            "gridcolor": "white",
            "linecolor": "white",
            "ticks": ""
           }
          },
          "title": {
           "x": 0.05
          },
          "xaxis": {
           "automargin": true,
           "gridcolor": "white",
           "linecolor": "white",
           "ticks": "",
           "title": {
            "standoff": 15
           },
           "zerolinecolor": "white",
           "zerolinewidth": 2
          },
          "yaxis": {
           "automargin": true,
           "gridcolor": "white",
           "linecolor": "white",
           "ticks": "",
           "title": {
            "standoff": 15
           },
           "zerolinecolor": "white",
           "zerolinewidth": 2
          }
         }
        },
        "title": {
         "text": "Construction Value Index"
        },
        "updatemenus": [
         {
          "buttons": [
           {
            "args": [
             null,
             {
              "frame": {
               "duration": 500,
               "redraw": true
              },
              "fromcurrent": true,
              "mode": "immediate",
              "transition": {
               "duration": 500,
               "easing": "linear"
              }
             }
            ],
            "label": "&#9654;",
            "method": "animate"
           },
           {
            "args": [
             [
              null
             ],
             {
              "frame": {
               "duration": 0,
               "redraw": true
              },
              "fromcurrent": true,
              "mode": "immediate",
              "transition": {
               "duration": 0,
               "easing": "linear"
              }
             }
            ],
            "label": "&#9724;",
            "method": "animate"
           }
          ],
          "direction": "left",
          "pad": {
           "r": 10,
           "t": 70
          },
          "showactive": false,
          "type": "buttons",
          "x": 0.1,
          "xanchor": "right",
          "y": 0,
          "yanchor": "top"
         }
        ]
       }
      },
      "text/html": [
       "<div>                            <div id=\"32ccea1c-fc30-43ad-9c38-bbfcb332f909\" class=\"plotly-graph-div\" style=\"height:525px; width:100%;\"></div>            <script type=\"text/javascript\">                require([\"plotly\"], function(Plotly) {                    window.PLOTLYENV=window.PLOTLYENV || {};                                    if (document.getElementById(\"32ccea1c-fc30-43ad-9c38-bbfcb332f909\")) {                    Plotly.newPlot(                        \"32ccea1c-fc30-43ad-9c38-bbfcb332f909\",                        [{\"coloraxis\":\"coloraxis\",\"geo\":\"geo\",\"hovertemplate\":\"<b>%{hovertext}</b><br><br>Year=2005<br>Country Code=%{location}<br>Value=%{z}<extra></extra>\",\"hovertext\":[\"Afghanistan\",\"Albania\",\"Algeria\",\"Angola\",\"Austria\",\"Azerbaijan\",\"Belgium\",\"Bulgaria\",\"Czechia\",\"Denmark\",\"Estonia\",\"Finland\",\"France\",\"Georgia\",\"Germany\",\"Greece\",\"Hong Kong SAR, China\",\"Hungary\",\"Iceland\",\"Ireland\",\"Israel\",\"Italy\",\"Jordan\",\"Kazakhstan\",\"Latvia\",\"Lebanon\",\"Lithuania\",\"Luxembourg\",\"Moldova\",\"Montenegro\",\"Morocco\",\"Netherlands\",\"Norway\",\"Poland\",\"Portugal\",\"Romania\",\"Russian Federation\",\"Serbia\",\"Singapore\",\"Slovak Republic\",\"Slovenia\",\"Spain\",\"Sweden\",\"Switzerland\",\"Turkiye\",\"Ukraine\",\"United Kingdom\"],\"locations\":[\"AFG\",\"ALB\",\"DZA\",\"AGO\",\"AUT\",\"AZE\",\"BEL\",\"BGR\",\"CZE\",\"DNK\",\"EST\",\"FIN\",\"FRA\",\"GEO\",\"DEU\",\"GRC\",\"HKG\",\"HUN\",\"ISL\",\"IRL\",\"ISR\",\"ITA\",\"JOR\",\"KAZ\",\"LVA\",\"LBN\",\"LTU\",\"LUX\",\"MDA\",\"MNE\",\"MAR\",\"NLD\",\"NOR\",\"POL\",\"PRT\",\"ROU\",\"RUS\",\"SRB\",\"SGP\",\"SVK\",\"SVN\",\"ESP\",\"SWE\",\"CHE\",\"TUR\",\"UKR\",\"GBR\"],\"name\":\"\",\"z\":[12.9917235668942,6.00394619569731,5.99627153509093,20.4959315130068,2.03332316370815,46.0828664812328,2.37848877340822,4.34633779805642,10.4155990239047,-0.863813832365409,12.3103207137096,3.76509869390161,1.31315516683163,9.18658476512468,0.366684238674694,-3.15340526677483,-1.40695098631619,4.53274418060717,6.52763629511553,6.1826156936385,8.10117048607873,0.78732310621848,7.13806528651013,10.5272649984028,6.99791974650491,5.06954176069891,9.48115557386411,-0.318319967495469,2.61982471510811,0.158408039734965,4.75898405038862,2.0122202538266,0.577188759248898,4.46261509179971,-2.48828006804123,4.46052307852047,4.08752223223084,4.42924639023612,8.36362614877292,6.39588663999966,3.51818950471427,2.55471726301634,2.42724541602746,4.12344007994689,10.6304431649548,-1.68152379668481,-0.88060354462695],\"type\":\"choropleth\"}],                        {\"template\":{\"data\":{\"histogram2dcontour\":[{\"type\":\"histogram2dcontour\",\"colorbar\":{\"outlinewidth\":0,\"ticks\":\"\"},\"colorscale\":[[0.0,\"#0d0887\"],[0.1111111111111111,\"#46039f\"],[0.2222222222222222,\"#7201a8\"],[0.3333333333333333,\"#9c179e\"],[0.4444444444444444,\"#bd3786\"],[0.5555555555555556,\"#d8576b\"],[0.6666666666666666,\"#ed7953\"],[0.7777777777777778,\"#fb9f3a\"],[0.8888888888888888,\"#fdca26\"],[1.0,\"#f0f921\"]]}],\"choropleth\":[{\"type\":\"choropleth\",\"colorbar\":{\"outlinewidth\":0,\"ticks\":\"\"}}],\"histogram2d\":[{\"type\":\"histogram2d\",\"colorbar\":{\"outlinewidth\":0,\"ticks\":\"\"},\"colorscale\":[[0.0,\"#0d0887\"],[0.1111111111111111,\"#46039f\"],[0.2222222222222222,\"#7201a8\"],[0.3333333333333333,\"#9c179e\"],[0.4444444444444444,\"#bd3786\"],[0.5555555555555556,\"#d8576b\"],[0.6666666666666666,\"#ed7953\"],[0.7777777777777778,\"#fb9f3a\"],[0.8888888888888888,\"#fdca26\"],[1.0,\"#f0f921\"]]}],\"heatmap\":[{\"type\":\"heatmap\",\"colorbar\":{\"outlinewidth\":0,\"ticks\":\"\"},\"colorscale\":[[0.0,\"#0d0887\"],[0.1111111111111111,\"#46039f\"],[0.2222222222222222,\"#7201a8\"],[0.3333333333333333,\"#9c179e\"],[0.4444444444444444,\"#bd3786\"],[0.5555555555555556,\"#d8576b\"],[0.6666666666666666,\"#ed7953\"],[0.7777777777777778,\"#fb9f3a\"],[0.8888888888888888,\"#fdca26\"],[1.0,\"#f0f921\"]]}],\"heatmapgl\":[{\"type\":\"heatmapgl\",\"colorbar\":{\"outlinewidth\":0,\"ticks\":\"\"},\"colorscale\":[[0.0,\"#0d0887\"],[0.1111111111111111,\"#46039f\"],[0.2222222222222222,\"#7201a8\"],[0.3333333333333333,\"#9c179e\"],[0.4444444444444444,\"#bd3786\"],[0.5555555555555556,\"#d8576b\"],[0.6666666666666666,\"#ed7953\"],[0.7777777777777778,\"#fb9f3a\"],[0.8888888888888888,\"#fdca26\"],[1.0,\"#f0f921\"]]}],\"contourcarpet\":[{\"type\":\"contourcarpet\",\"colorbar\":{\"outlinewidth\":0,\"ticks\":\"\"}}],\"contour\":[{\"type\":\"contour\",\"colorbar\":{\"outlinewidth\":0,\"ticks\":\"\"},\"colorscale\":[[0.0,\"#0d0887\"],[0.1111111111111111,\"#46039f\"],[0.2222222222222222,\"#7201a8\"],[0.3333333333333333,\"#9c179e\"],[0.4444444444444444,\"#bd3786\"],[0.5555555555555556,\"#d8576b\"],[0.6666666666666666,\"#ed7953\"],[0.7777777777777778,\"#fb9f3a\"],[0.8888888888888888,\"#fdca26\"],[1.0,\"#f0f921\"]]}],\"surface\":[{\"type\":\"surface\",\"colorbar\":{\"outlinewidth\":0,\"ticks\":\"\"},\"colorscale\":[[0.0,\"#0d0887\"],[0.1111111111111111,\"#46039f\"],[0.2222222222222222,\"#7201a8\"],[0.3333333333333333,\"#9c179e\"],[0.4444444444444444,\"#bd3786\"],[0.5555555555555556,\"#d8576b\"],[0.6666666666666666,\"#ed7953\"],[0.7777777777777778,\"#fb9f3a\"],[0.8888888888888888,\"#fdca26\"],[1.0,\"#f0f921\"]]}],\"mesh3d\":[{\"type\":\"mesh3d\",\"colorbar\":{\"outlinewidth\":0,\"ticks\":\"\"}}],\"scatter\":[{\"fillpattern\":{\"fillmode\":\"overlay\",\"size\":10,\"solidity\":0.2},\"type\":\"scatter\"}],\"parcoords\":[{\"type\":\"parcoords\",\"line\":{\"colorbar\":{\"outlinewidth\":0,\"ticks\":\"\"}}}],\"scatterpolargl\":[{\"type\":\"scatterpolargl\",\"marker\":{\"colorbar\":{\"outlinewidth\":0,\"ticks\":\"\"}}}],\"bar\":[{\"error_x\":{\"color\":\"#2a3f5f\"},\"error_y\":{\"color\":\"#2a3f5f\"},\"marker\":{\"line\":{\"color\":\"#E5ECF6\",\"width\":0.5},\"pattern\":{\"fillmode\":\"overlay\",\"size\":10,\"solidity\":0.2}},\"type\":\"bar\"}],\"scattergeo\":[{\"type\":\"scattergeo\",\"marker\":{\"colorbar\":{\"outlinewidth\":0,\"ticks\":\"\"}}}],\"scatterpolar\":[{\"type\":\"scatterpolar\",\"marker\":{\"colorbar\":{\"outlinewidth\":0,\"ticks\":\"\"}}}],\"histogram\":[{\"marker\":{\"pattern\":{\"fillmode\":\"overlay\",\"size\":10,\"solidity\":0.2}},\"type\":\"histogram\"}],\"scattergl\":[{\"type\":\"scattergl\",\"marker\":{\"colorbar\":{\"outlinewidth\":0,\"ticks\":\"\"}}}],\"scatter3d\":[{\"type\":\"scatter3d\",\"line\":{\"colorbar\":{\"outlinewidth\":0,\"ticks\":\"\"}},\"marker\":{\"colorbar\":{\"outlinewidth\":0,\"ticks\":\"\"}}}],\"scattermapbox\":[{\"type\":\"scattermapbox\",\"marker\":{\"colorbar\":{\"outlinewidth\":0,\"ticks\":\"\"}}}],\"scatterternary\":[{\"type\":\"scatterternary\",\"marker\":{\"colorbar\":{\"outlinewidth\":0,\"ticks\":\"\"}}}],\"scattercarpet\":[{\"type\":\"scattercarpet\",\"marker\":{\"colorbar\":{\"outlinewidth\":0,\"ticks\":\"\"}}}],\"carpet\":[{\"aaxis\":{\"endlinecolor\":\"#2a3f5f\",\"gridcolor\":\"white\",\"linecolor\":\"white\",\"minorgridcolor\":\"white\",\"startlinecolor\":\"#2a3f5f\"},\"baxis\":{\"endlinecolor\":\"#2a3f5f\",\"gridcolor\":\"white\",\"linecolor\":\"white\",\"minorgridcolor\":\"white\",\"startlinecolor\":\"#2a3f5f\"},\"type\":\"carpet\"}],\"table\":[{\"cells\":{\"fill\":{\"color\":\"#EBF0F8\"},\"line\":{\"color\":\"white\"}},\"header\":{\"fill\":{\"color\":\"#C8D4E3\"},\"line\":{\"color\":\"white\"}},\"type\":\"table\"}],\"barpolar\":[{\"marker\":{\"line\":{\"color\":\"#E5ECF6\",\"width\":0.5},\"pattern\":{\"fillmode\":\"overlay\",\"size\":10,\"solidity\":0.2}},\"type\":\"barpolar\"}],\"pie\":[{\"automargin\":true,\"type\":\"pie\"}]},\"layout\":{\"autotypenumbers\":\"strict\",\"colorway\":[\"#636efa\",\"#EF553B\",\"#00cc96\",\"#ab63fa\",\"#FFA15A\",\"#19d3f3\",\"#FF6692\",\"#B6E880\",\"#FF97FF\",\"#FECB52\"],\"font\":{\"color\":\"#2a3f5f\"},\"hovermode\":\"closest\",\"hoverlabel\":{\"align\":\"left\"},\"paper_bgcolor\":\"white\",\"plot_bgcolor\":\"#E5ECF6\",\"polar\":{\"bgcolor\":\"#E5ECF6\",\"angularaxis\":{\"gridcolor\":\"white\",\"linecolor\":\"white\",\"ticks\":\"\"},\"radialaxis\":{\"gridcolor\":\"white\",\"linecolor\":\"white\",\"ticks\":\"\"}},\"ternary\":{\"bgcolor\":\"#E5ECF6\",\"aaxis\":{\"gridcolor\":\"white\",\"linecolor\":\"white\",\"ticks\":\"\"},\"baxis\":{\"gridcolor\":\"white\",\"linecolor\":\"white\",\"ticks\":\"\"},\"caxis\":{\"gridcolor\":\"white\",\"linecolor\":\"white\",\"ticks\":\"\"}},\"coloraxis\":{\"colorbar\":{\"outlinewidth\":0,\"ticks\":\"\"}},\"colorscale\":{\"sequential\":[[0.0,\"#0d0887\"],[0.1111111111111111,\"#46039f\"],[0.2222222222222222,\"#7201a8\"],[0.3333333333333333,\"#9c179e\"],[0.4444444444444444,\"#bd3786\"],[0.5555555555555556,\"#d8576b\"],[0.6666666666666666,\"#ed7953\"],[0.7777777777777778,\"#fb9f3a\"],[0.8888888888888888,\"#fdca26\"],[1.0,\"#f0f921\"]],\"sequentialminus\":[[0.0,\"#0d0887\"],[0.1111111111111111,\"#46039f\"],[0.2222222222222222,\"#7201a8\"],[0.3333333333333333,\"#9c179e\"],[0.4444444444444444,\"#bd3786\"],[0.5555555555555556,\"#d8576b\"],[0.6666666666666666,\"#ed7953\"],[0.7777777777777778,\"#fb9f3a\"],[0.8888888888888888,\"#fdca26\"],[1.0,\"#f0f921\"]],\"diverging\":[[0,\"#8e0152\"],[0.1,\"#c51b7d\"],[0.2,\"#de77ae\"],[0.3,\"#f1b6da\"],[0.4,\"#fde0ef\"],[0.5,\"#f7f7f7\"],[0.6,\"#e6f5d0\"],[0.7,\"#b8e186\"],[0.8,\"#7fbc41\"],[0.9,\"#4d9221\"],[1,\"#276419\"]]},\"xaxis\":{\"gridcolor\":\"white\",\"linecolor\":\"white\",\"ticks\":\"\",\"title\":{\"standoff\":15},\"zerolinecolor\":\"white\",\"automargin\":true,\"zerolinewidth\":2},\"yaxis\":{\"gridcolor\":\"white\",\"linecolor\":\"white\",\"ticks\":\"\",\"title\":{\"standoff\":15},\"zerolinecolor\":\"white\",\"automargin\":true,\"zerolinewidth\":2},\"scene\":{\"xaxis\":{\"backgroundcolor\":\"#E5ECF6\",\"gridcolor\":\"white\",\"linecolor\":\"white\",\"showbackground\":true,\"ticks\":\"\",\"zerolinecolor\":\"white\",\"gridwidth\":2},\"yaxis\":{\"backgroundcolor\":\"#E5ECF6\",\"gridcolor\":\"white\",\"linecolor\":\"white\",\"showbackground\":true,\"ticks\":\"\",\"zerolinecolor\":\"white\",\"gridwidth\":2},\"zaxis\":{\"backgroundcolor\":\"#E5ECF6\",\"gridcolor\":\"white\",\"linecolor\":\"white\",\"showbackground\":true,\"ticks\":\"\",\"zerolinecolor\":\"white\",\"gridwidth\":2}},\"shapedefaults\":{\"line\":{\"color\":\"#2a3f5f\"}},\"annotationdefaults\":{\"arrowcolor\":\"#2a3f5f\",\"arrowhead\":0,\"arrowwidth\":1},\"geo\":{\"bgcolor\":\"white\",\"landcolor\":\"#E5ECF6\",\"subunitcolor\":\"white\",\"showland\":true,\"showlakes\":true,\"lakecolor\":\"white\"},\"title\":{\"x\":0.05},\"mapbox\":{\"style\":\"light\"}}},\"geo\":{\"domain\":{\"x\":[0.0,1.0],\"y\":[0.0,1.0]},\"center\":{},\"projection\":{\"type\":\"natural earth\"}},\"coloraxis\":{\"colorbar\":{\"title\":{\"text\":\"Value\"}},\"colorscale\":[[0.0,\"#0d0887\"],[0.1111111111111111,\"#46039f\"],[0.2222222222222222,\"#7201a8\"],[0.3333333333333333,\"#9c179e\"],[0.4444444444444444,\"#bd3786\"],[0.5555555555555556,\"#d8576b\"],[0.6666666666666666,\"#ed7953\"],[0.7777777777777778,\"#fb9f3a\"],[0.8888888888888888,\"#fdca26\"],[1.0,\"#f0f921\"]],\"cmin\":0,\"cmax\":14},\"legend\":{\"tracegroupgap\":0},\"margin\":{\"t\":60},\"updatemenus\":[{\"buttons\":[{\"args\":[null,{\"frame\":{\"duration\":500,\"redraw\":true},\"mode\":\"immediate\",\"fromcurrent\":true,\"transition\":{\"duration\":500,\"easing\":\"linear\"}}],\"label\":\"&#9654;\",\"method\":\"animate\"},{\"args\":[[null],{\"frame\":{\"duration\":0,\"redraw\":true},\"mode\":\"immediate\",\"fromcurrent\":true,\"transition\":{\"duration\":0,\"easing\":\"linear\"}}],\"label\":\"&#9724;\",\"method\":\"animate\"}],\"direction\":\"left\",\"pad\":{\"r\":10,\"t\":70},\"showactive\":false,\"type\":\"buttons\",\"x\":0.1,\"xanchor\":\"right\",\"y\":0,\"yanchor\":\"top\"}],\"sliders\":[{\"active\":0,\"currentvalue\":{\"prefix\":\"Year=\"},\"len\":0.9,\"pad\":{\"b\":10,\"t\":60},\"steps\":[{\"args\":[[\"2005\"],{\"frame\":{\"duration\":0,\"redraw\":true},\"mode\":\"immediate\",\"fromcurrent\":true,\"transition\":{\"duration\":0,\"easing\":\"linear\"}}],\"label\":\"2005\",\"method\":\"animate\"},{\"args\":[[\"2006\"],{\"frame\":{\"duration\":0,\"redraw\":true},\"mode\":\"immediate\",\"fromcurrent\":true,\"transition\":{\"duration\":0,\"easing\":\"linear\"}}],\"label\":\"2006\",\"method\":\"animate\"},{\"args\":[[\"2007\"],{\"frame\":{\"duration\":0,\"redraw\":true},\"mode\":\"immediate\",\"fromcurrent\":true,\"transition\":{\"duration\":0,\"easing\":\"linear\"}}],\"label\":\"2007\",\"method\":\"animate\"},{\"args\":[[\"2008\"],{\"frame\":{\"duration\":0,\"redraw\":true},\"mode\":\"immediate\",\"fromcurrent\":true,\"transition\":{\"duration\":0,\"easing\":\"linear\"}}],\"label\":\"2008\",\"method\":\"animate\"},{\"args\":[[\"2009\"],{\"frame\":{\"duration\":0,\"redraw\":true},\"mode\":\"immediate\",\"fromcurrent\":true,\"transition\":{\"duration\":0,\"easing\":\"linear\"}}],\"label\":\"2009\",\"method\":\"animate\"},{\"args\":[[\"2010\"],{\"frame\":{\"duration\":0,\"redraw\":true},\"mode\":\"immediate\",\"fromcurrent\":true,\"transition\":{\"duration\":0,\"easing\":\"linear\"}}],\"label\":\"2010\",\"method\":\"animate\"},{\"args\":[[\"2011\"],{\"frame\":{\"duration\":0,\"redraw\":true},\"mode\":\"immediate\",\"fromcurrent\":true,\"transition\":{\"duration\":0,\"easing\":\"linear\"}}],\"label\":\"2011\",\"method\":\"animate\"},{\"args\":[[\"2012\"],{\"frame\":{\"duration\":0,\"redraw\":true},\"mode\":\"immediate\",\"fromcurrent\":true,\"transition\":{\"duration\":0,\"easing\":\"linear\"}}],\"label\":\"2012\",\"method\":\"animate\"},{\"args\":[[\"2013\"],{\"frame\":{\"duration\":0,\"redraw\":true},\"mode\":\"immediate\",\"fromcurrent\":true,\"transition\":{\"duration\":0,\"easing\":\"linear\"}}],\"label\":\"2013\",\"method\":\"animate\"},{\"args\":[[\"2014\"],{\"frame\":{\"duration\":0,\"redraw\":true},\"mode\":\"immediate\",\"fromcurrent\":true,\"transition\":{\"duration\":0,\"easing\":\"linear\"}}],\"label\":\"2014\",\"method\":\"animate\"},{\"args\":[[\"2015\"],{\"frame\":{\"duration\":0,\"redraw\":true},\"mode\":\"immediate\",\"fromcurrent\":true,\"transition\":{\"duration\":0,\"easing\":\"linear\"}}],\"label\":\"2015\",\"method\":\"animate\"},{\"args\":[[\"2016\"],{\"frame\":{\"duration\":0,\"redraw\":true},\"mode\":\"immediate\",\"fromcurrent\":true,\"transition\":{\"duration\":0,\"easing\":\"linear\"}}],\"label\":\"2016\",\"method\":\"animate\"},{\"args\":[[\"2017\"],{\"frame\":{\"duration\":0,\"redraw\":true},\"mode\":\"immediate\",\"fromcurrent\":true,\"transition\":{\"duration\":0,\"easing\":\"linear\"}}],\"label\":\"2017\",\"method\":\"animate\"},{\"args\":[[\"2018\"],{\"frame\":{\"duration\":0,\"redraw\":true},\"mode\":\"immediate\",\"fromcurrent\":true,\"transition\":{\"duration\":0,\"easing\":\"linear\"}}],\"label\":\"2018\",\"method\":\"animate\"},{\"args\":[[\"2019\"],{\"frame\":{\"duration\":0,\"redraw\":true},\"mode\":\"immediate\",\"fromcurrent\":true,\"transition\":{\"duration\":0,\"easing\":\"linear\"}}],\"label\":\"2019\",\"method\":\"animate\"},{\"args\":[[\"2020\"],{\"frame\":{\"duration\":0,\"redraw\":true},\"mode\":\"immediate\",\"fromcurrent\":true,\"transition\":{\"duration\":0,\"easing\":\"linear\"}}],\"label\":\"2020\",\"method\":\"animate\"},{\"args\":[[\"2021\"],{\"frame\":{\"duration\":0,\"redraw\":true},\"mode\":\"immediate\",\"fromcurrent\":true,\"transition\":{\"duration\":0,\"easing\":\"linear\"}}],\"label\":\"2021\",\"method\":\"animate\"}],\"x\":0.1,\"xanchor\":\"left\",\"y\":0,\"yanchor\":\"top\"}],\"title\":{\"text\":\"Construction Value Index\"}},                        {\"responsive\": true}                    ).then(function(){\n",
       "                            Plotly.addFrames('32ccea1c-fc30-43ad-9c38-bbfcb332f909', [{\"data\":[{\"coloraxis\":\"coloraxis\",\"geo\":\"geo\",\"hovertemplate\":\"<b>%{hovertext}</b><br><br>Year=2005<br>Country Code=%{location}<br>Value=%{z}<extra></extra>\",\"hovertext\":[\"Afghanistan\",\"Albania\",\"Algeria\",\"Angola\",\"Austria\",\"Azerbaijan\",\"Belgium\",\"Bulgaria\",\"Czechia\",\"Denmark\",\"Estonia\",\"Finland\",\"France\",\"Georgia\",\"Germany\",\"Greece\",\"Hong Kong SAR, China\",\"Hungary\",\"Iceland\",\"Ireland\",\"Israel\",\"Italy\",\"Jordan\",\"Kazakhstan\",\"Latvia\",\"Lebanon\",\"Lithuania\",\"Luxembourg\",\"Moldova\",\"Montenegro\",\"Morocco\",\"Netherlands\",\"Norway\",\"Poland\",\"Portugal\",\"Romania\",\"Russian Federation\",\"Serbia\",\"Singapore\",\"Slovak Republic\",\"Slovenia\",\"Spain\",\"Sweden\",\"Switzerland\",\"Turkiye\",\"Ukraine\",\"United Kingdom\"],\"locations\":[\"AFG\",\"ALB\",\"DZA\",\"AGO\",\"AUT\",\"AZE\",\"BEL\",\"BGR\",\"CZE\",\"DNK\",\"EST\",\"FIN\",\"FRA\",\"GEO\",\"DEU\",\"GRC\",\"HKG\",\"HUN\",\"ISL\",\"IRL\",\"ISR\",\"ITA\",\"JOR\",\"KAZ\",\"LVA\",\"LBN\",\"LTU\",\"LUX\",\"MDA\",\"MNE\",\"MAR\",\"NLD\",\"NOR\",\"POL\",\"PRT\",\"ROU\",\"RUS\",\"SRB\",\"SGP\",\"SVK\",\"SVN\",\"ESP\",\"SWE\",\"CHE\",\"TUR\",\"UKR\",\"GBR\"],\"name\":\"\",\"z\":[12.9917235668942,6.00394619569731,5.99627153509093,20.4959315130068,2.03332316370815,46.0828664812328,2.37848877340822,4.34633779805642,10.4155990239047,-0.863813832365409,12.3103207137096,3.76509869390161,1.31315516683163,9.18658476512468,0.366684238674694,-3.15340526677483,-1.40695098631619,4.53274418060717,6.52763629511553,6.1826156936385,8.10117048607873,0.78732310621848,7.13806528651013,10.5272649984028,6.99791974650491,5.06954176069891,9.48115557386411,-0.318319967495469,2.61982471510811,0.158408039734965,4.75898405038862,2.0122202538266,0.577188759248898,4.46261509179971,-2.48828006804123,4.46052307852047,4.08752223223084,4.42924639023612,8.36362614877292,6.39588663999966,3.51818950471427,2.55471726301634,2.42724541602746,4.12344007994689,10.6304431649548,-1.68152379668481,-0.88060354462695],\"type\":\"choropleth\"}],\"name\":\"2005\"},{\"data\":[{\"coloraxis\":\"coloraxis\",\"geo\":\"geo\",\"hovertemplate\":\"<b>%{hovertext}</b><br><br>Year=2006<br>Country Code=%{location}<br>Value=%{z}<extra></extra>\",\"hovertext\":[\"Afghanistan\",\"Albania\",\"Algeria\",\"Angola\",\"Austria\",\"Azerbaijan\",\"Belgium\",\"Bulgaria\",\"Czechia\",\"Denmark\",\"Estonia\",\"Finland\",\"France\",\"Georgia\",\"Germany\",\"Greece\",\"Hong Kong SAR, China\",\"Hungary\",\"Iceland\",\"Ireland\",\"Israel\",\"Italy\",\"Jordan\",\"Kazakhstan\",\"Latvia\",\"Lebanon\",\"Lithuania\",\"Luxembourg\",\"Moldova\",\"Montenegro\",\"Morocco\",\"Netherlands\",\"Norway\",\"Poland\",\"Portugal\",\"Romania\",\"Russian Federation\",\"Serbia\",\"Singapore\",\"Slovak Republic\",\"Slovenia\",\"Spain\",\"Sweden\",\"Switzerland\",\"Turkiye\",\"Ukraine\",\"United Kingdom\"],\"locations\":[\"AFG\",\"ALB\",\"DZA\",\"AGO\",\"AUT\",\"AZE\",\"BEL\",\"BGR\",\"CZE\",\"DNK\",\"EST\",\"FIN\",\"FRA\",\"GEO\",\"DEU\",\"GRC\",\"HKG\",\"HUN\",\"ISL\",\"IRL\",\"ISR\",\"ITA\",\"JOR\",\"KAZ\",\"LVA\",\"LBN\",\"LTU\",\"LUX\",\"MDA\",\"MNE\",\"MAR\",\"NLD\",\"NOR\",\"POL\",\"PRT\",\"ROU\",\"RUS\",\"SRB\",\"SGP\",\"SVK\",\"SVN\",\"ESP\",\"SWE\",\"CHE\",\"TUR\",\"UKR\",\"GBR\"],\"name\":\"\",\"z\":[13.6675434911544,9.20291329507195,-0.532868126893447,13.193350732774,3.65298609242306,50.1810252841568,0.704294381010413,8.98388296134887,14.2128398954793,3.78682604399184,9.39697971182196,8.6898092065415,1.91834983141305,13.1772638478919,5.10874223119933,8.76818201279666,-2.13431463665839,4.40900409319764,7.77193843140648,2.54174062428689,3.85081252444044,2.76570010221992,9.70830394222568,13.3619950375148,14.5601836961295,-0.196590449471145,13.0264613483212,0.201180234068204,-3.79187291435316,7.89735302693755,4.40649898891752,2.00578288102187,-1.99276644296474,9.27921817677344,0.496885334142291,10.858754193294,4.48658253126253,2.30463450423323,11.3984463450324,17.22932009728,8.63307759842608,2.62400757520578,5.71353112069724,4.56100002263156,12.7753438645263,6.05488946807331,2.59924363116649],\"type\":\"choropleth\"}],\"name\":\"2006\"},{\"data\":[{\"coloraxis\":\"coloraxis\",\"geo\":\"geo\",\"hovertemplate\":\"<b>%{hovertext}</b><br><br>Year=2007<br>Country Code=%{location}<br>Value=%{z}<extra></extra>\",\"hovertext\":[\"Afghanistan\",\"Albania\",\"Algeria\",\"Angola\",\"Austria\",\"Azerbaijan\",\"Belgium\",\"Bulgaria\",\"Czechia\",\"Denmark\",\"Estonia\",\"Finland\",\"France\",\"Georgia\",\"Germany\",\"Greece\",\"Hong Kong SAR, China\",\"Hungary\",\"Iceland\",\"Ireland\",\"Israel\",\"Italy\",\"Jordan\",\"Kazakhstan\",\"Latvia\",\"Lebanon\",\"Lithuania\",\"Luxembourg\",\"Moldova\",\"Montenegro\",\"Morocco\",\"Netherlands\",\"Norway\",\"Poland\",\"Portugal\",\"Romania\",\"Russian Federation\",\"Serbia\",\"Singapore\",\"Slovak Republic\",\"Slovenia\",\"Spain\",\"Sweden\",\"Switzerland\",\"Turkiye\",\"Ukraine\",\"United Kingdom\"],\"locations\":[\"AFG\",\"ALB\",\"DZA\",\"AGO\",\"AUT\",\"AZE\",\"BEL\",\"BGR\",\"CZE\",\"DNK\",\"EST\",\"FIN\",\"FRA\",\"GEO\",\"DEU\",\"GRC\",\"HKG\",\"HUN\",\"ISL\",\"IRL\",\"ISR\",\"ITA\",\"JOR\",\"KAZ\",\"LVA\",\"LBN\",\"LTU\",\"LUX\",\"MDA\",\"MNE\",\"MAR\",\"NLD\",\"NOR\",\"POL\",\"PRT\",\"ROU\",\"RUS\",\"SRB\",\"SGP\",\"SVK\",\"SVN\",\"ESP\",\"SWE\",\"CHE\",\"TUR\",\"UKR\",\"GBR\"],\"name\":\"\",\"z\":[7.63312617546612,4.58274474222738,0.587236696811047,19.7989008658808,5.13794159484029,33.3218075278371,4.83849540352801,11.7719440290691,4.99050458120031,-2.47635570863586,7.26170371374506,8.32070773035194,2.6438057660806,14.4752121017607,3.65644987005021,-1.93410854800258,-0.174773305825042,3.57821791490326,4.09390419821982,4.82507015845913,5.51484829559278,1.72308968792694,9.06431927412632,7.98274714696883,6.14380596290063,17.6411487363295,11.1997103995073,14.4260134930055,-1.13591652433269,-0.412588526025587,6.44601902445478,4.31766294000198,-0.50325214831696,8.84618965269178,2.10535007029561,6.63254367054806,4.80724543283092,6.2515266902829,7.24902427680863,10.9051686731266,10.0972715381806,1.28644179072697,5.43508968704407,3.27727939568101,7.46674564813841,8.05522276139665,-1.60096922204521],\"type\":\"choropleth\"}],\"name\":\"2007\"},{\"data\":[{\"coloraxis\":\"coloraxis\",\"geo\":\"geo\",\"hovertemplate\":\"<b>%{hovertext}</b><br><br>Year=2008<br>Country Code=%{location}<br>Value=%{z}<extra></extra>\",\"hovertext\":[\"Afghanistan\",\"Albania\",\"Algeria\",\"Angola\",\"Austria\",\"Azerbaijan\",\"Belgium\",\"Bulgaria\",\"Czechia\",\"Denmark\",\"Estonia\",\"Finland\",\"France\",\"Georgia\",\"Germany\",\"Greece\",\"Hong Kong SAR, China\",\"Hungary\",\"Iceland\",\"Ireland\",\"Israel\",\"Italy\",\"Jordan\",\"Kazakhstan\",\"Latvia\",\"Lebanon\",\"Lithuania\",\"Luxembourg\",\"Moldova\",\"Montenegro\",\"Morocco\",\"Netherlands\",\"Norway\",\"Poland\",\"Portugal\",\"Romania\",\"Russian Federation\",\"Serbia\",\"Singapore\",\"Slovak Republic\",\"Slovenia\",\"Spain\",\"Sweden\",\"Switzerland\",\"Turkiye\",\"Ukraine\",\"United Kingdom\"],\"locations\":[\"AFG\",\"ALB\",\"DZA\",\"AGO\",\"AUT\",\"AZE\",\"BEL\",\"BGR\",\"CZE\",\"DNK\",\"EST\",\"FIN\",\"FRA\",\"GEO\",\"DEU\",\"GRC\",\"HKG\",\"HUN\",\"ISL\",\"IRL\",\"ISR\",\"ITA\",\"JOR\",\"KAZ\",\"LVA\",\"LBN\",\"LTU\",\"LUX\",\"MDA\",\"MNE\",\"MAR\",\"NLD\",\"NOR\",\"POL\",\"PRT\",\"ROU\",\"RUS\",\"SRB\",\"SGP\",\"SVK\",\"SVN\",\"ESP\",\"SWE\",\"CHE\",\"TUR\",\"UKR\",\"GBR\"],\"name\":\"\",\"z\":[5.74181791090413,6.9461474225045,-0.596500787842288,9.56677077645377,-0.278931921550551,9.61766569244867,-2.01808687622484,4.65051949398566,6.42356307866004,-1.21460028223612,-2.9007041436585,-2.5417597787817,-2.94646764133404,-4.69569564529152,-1.21925468246721,-12.6408333662926,1.43897499011028,-5.23266758160884,-0.781808509697811,-8.07917161056572,-2.27600991199088,-2.53260828145102,8.02463846842491,2.54269973731331,-4.28139088359464,9.22178142927972,1.73805993021774,-12.5424501372384,1.80000104294579,13.4535701083332,5.89969947407964,2.03238016237381,-0.705412670388569,4.88717712129301,-2.64555772592598,19.1875322168482,1.85114459313205,3.53433514663774,-0.695908923034949,5.99605066276898,2.64049013492804,-1.02273921726639,-4.7976836424243,2.70215213173563,-0.683539590460995,-6.36462618676802,-2.97038232476238],\"type\":\"choropleth\"}],\"name\":\"2008\"},{\"data\":[{\"coloraxis\":\"coloraxis\",\"geo\":\"geo\",\"hovertemplate\":\"<b>%{hovertext}</b><br><br>Year=2009<br>Country Code=%{location}<br>Value=%{z}<extra></extra>\",\"hovertext\":[\"Afghanistan\",\"Albania\",\"Algeria\",\"Angola\",\"Austria\",\"Azerbaijan\",\"Belgium\",\"Bulgaria\",\"Czechia\",\"Denmark\",\"Estonia\",\"Finland\",\"France\",\"Georgia\",\"Germany\",\"Greece\",\"Hong Kong SAR, China\",\"Hungary\",\"Iceland\",\"Ireland\",\"Israel\",\"Italy\",\"Jordan\",\"Kazakhstan\",\"Latvia\",\"Lebanon\",\"Lithuania\",\"Luxembourg\",\"Moldova\",\"Montenegro\",\"Morocco\",\"Netherlands\",\"Norway\",\"Poland\",\"Portugal\",\"Romania\",\"Russian Federation\",\"Serbia\",\"Singapore\",\"Slovak Republic\",\"Slovenia\",\"Spain\",\"Sweden\",\"Switzerland\",\"Turkiye\",\"Ukraine\",\"United Kingdom\"],\"locations\":[\"AFG\",\"ALB\",\"DZA\",\"AGO\",\"AUT\",\"AZE\",\"BEL\",\"BGR\",\"CZE\",\"DNK\",\"EST\",\"FIN\",\"FRA\",\"GEO\",\"DEU\",\"GRC\",\"HKG\",\"HUN\",\"ISL\",\"IRL\",\"ISR\",\"ITA\",\"JOR\",\"KAZ\",\"LVA\",\"LBN\",\"LTU\",\"LUX\",\"MDA\",\"MNE\",\"MAR\",\"NLD\",\"NOR\",\"POL\",\"PRT\",\"ROU\",\"RUS\",\"SRB\",\"SGP\",\"SVK\",\"SVN\",\"ESP\",\"SWE\",\"CHE\",\"TUR\",\"UKR\",\"GBR\"],\"name\":\"\",\"z\":[6.10714120703881,1.86202001364686,-4.32923661869296,-3.899999989337,-11.304145583722,10.4056919262452,-4.98375710826589,-4.11968294597837,-9.92735346288829,-10.5917497498819,-23.6253476449904,-17.9132299571099,-5.95800608821794,-3.78907252433655,-13.4639378485371,-0.463312909580026,-4.69969220475049,-12.664671719735,-16.5442924133146,-8.6021797455529,-2.52577517039495,-14.6313242065877,-1.9328671379043,1.51115972036114,-23.8453079336179,4.67103075627273,-24.8573149469762,-11.2022466093347,-19.8700006473619,-15.629870137415,-6.57674275612943,-7.89912086595621,-3.73823635417084,3.11899219634182,-8.3326405362577,-4.22609517149149,-10.4103792010411,-9.8162197869831,0.849065003110482,-13.0447651125694,-14.0997627145456,-9.67853843131286,-14.7330669341161,-9.15283414386391,-10.504060813614,-20.623873257509,-8.80727965180581],\"type\":\"choropleth\"}],\"name\":\"2009\"},{\"data\":[{\"coloraxis\":\"coloraxis\",\"geo\":\"geo\",\"hovertemplate\":\"<b>%{hovertext}</b><br><br>Year=2010<br>Country Code=%{location}<br>Value=%{z}<extra></extra>\",\"hovertext\":[\"Afghanistan\",\"Albania\",\"Algeria\",\"Angola\",\"Austria\",\"Azerbaijan\",\"Belgium\",\"Bulgaria\",\"Czechia\",\"Denmark\",\"Estonia\",\"Finland\",\"France\",\"Georgia\",\"Germany\",\"Greece\",\"Hong Kong SAR, China\",\"Hungary\",\"Iceland\",\"Ireland\",\"Israel\",\"Italy\",\"Jordan\",\"Kazakhstan\",\"Latvia\",\"Lebanon\",\"Lithuania\",\"Luxembourg\",\"Moldova\",\"Montenegro\",\"Morocco\",\"Netherlands\",\"Norway\",\"Poland\",\"Portugal\",\"Romania\",\"Russian Federation\",\"Serbia\",\"Singapore\",\"Slovak Republic\",\"Slovenia\",\"Spain\",\"Sweden\",\"Switzerland\",\"Turkiye\",\"Ukraine\",\"United Kingdom\"],\"locations\":[\"AFG\",\"ALB\",\"DZA\",\"AGO\",\"AUT\",\"AZE\",\"BEL\",\"BGR\",\"CZE\",\"DNK\",\"EST\",\"FIN\",\"FRA\",\"GEO\",\"DEU\",\"GRC\",\"HKG\",\"HUN\",\"ISL\",\"IRL\",\"ISR\",\"ITA\",\"JOR\",\"KAZ\",\"LVA\",\"LBN\",\"LTU\",\"LUX\",\"MDA\",\"MNE\",\"MAR\",\"NLD\",\"NOR\",\"POL\",\"PRT\",\"ROU\",\"RUS\",\"SRB\",\"SGP\",\"SVK\",\"SVN\",\"ESP\",\"SWE\",\"CHE\",\"TUR\",\"UKR\",\"GBR\"],\"name\":\"\",\"z\":[6.27060133432103,3.39983816194058,1.00293080525131,2.52999998821977,3.37975771635439,3.81742856162421,4.78844692171269,-5.74519778541107,6.68425111111435,0.151132034261096,10.972037104767,8.13488474910069,0.468514131917175,-3.63589641646747,14.7003701219027,-14.1281518628143,7.647295851241,4.24576242211074,-2.24868659788278,0.514786125671833,13.6055655996976,3.64452242125634,2.1844636815289,7.41545013083595,-6.38076327550806,6.16469159175045,4.02017174282589,2.87790656589053,5.82229130544786,5.43124264946304,10.2404206079146,1.55149116956177,-2.75350727664349,9.76698042673927,1.58446549011882,-4.3988835654168,6.61153675378256,-0.825991533420009,23.8306384806289,12.245753762255,-0.219127033184051,-3.01116990005879,12.5981012814133,6.19937180316461,11.4330962341185,4.92217830973595,2.22999387050345],\"type\":\"choropleth\"}],\"name\":\"2010\"},{\"data\":[{\"coloraxis\":\"coloraxis\",\"geo\":\"geo\",\"hovertemplate\":\"<b>%{hovertext}</b><br><br>Year=2011<br>Country Code=%{location}<br>Value=%{z}<extra></extra>\",\"hovertext\":[\"Afghanistan\",\"Albania\",\"Algeria\",\"Angola\",\"Austria\",\"Azerbaijan\",\"Belgium\",\"Bulgaria\",\"Czechia\",\"Denmark\",\"Estonia\",\"Finland\",\"France\",\"Georgia\",\"Germany\",\"Greece\",\"Hong Kong SAR, China\",\"Hungary\",\"Iceland\",\"Ireland\",\"Israel\",\"Italy\",\"Jordan\",\"Kazakhstan\",\"Latvia\",\"Lebanon\",\"Lithuania\",\"Luxembourg\",\"Moldova\",\"Montenegro\",\"Morocco\",\"Netherlands\",\"Norway\",\"Poland\",\"Portugal\",\"Romania\",\"Russian Federation\",\"Serbia\",\"Singapore\",\"Slovak Republic\",\"Slovenia\",\"Spain\",\"Sweden\",\"Switzerland\",\"Turkiye\",\"Ukraine\",\"United Kingdom\"],\"locations\":[\"AFG\",\"ALB\",\"DZA\",\"AGO\",\"AUT\",\"AZE\",\"BEL\",\"BGR\",\"CZE\",\"DNK\",\"EST\",\"FIN\",\"FRA\",\"GEO\",\"DEU\",\"GRC\",\"HKG\",\"HUN\",\"ISL\",\"IRL\",\"ISR\",\"ITA\",\"JOR\",\"KAZ\",\"LVA\",\"LBN\",\"LTU\",\"LUX\",\"MDA\",\"MNE\",\"MAR\",\"NLD\",\"NOR\",\"POL\",\"PRT\",\"ROU\",\"RUS\",\"SRB\",\"SGP\",\"SVK\",\"SVN\",\"ESP\",\"SWE\",\"CHE\",\"TUR\",\"UKR\",\"GBR\"],\"name\":\"\",\"z\":[9.80767041942536,2.26437554991978,-0.835677690926872,-1.40999999097289,3.98349562221733,-5.57475453952756,1.32708650561753,2.7018932239499,5.22204163669242,2.75012753803003,15.2433561316193,0.107788659889607,1.37609552323154,9.51071314358811,5.00710431548896,-11.8720763383172,8.86537508132446,-0.0405835038028783,2.64521813882628,1.36435510132711,2.56302192326285,0.0592316715851098,3.79824785601161,3.4748377962859,4.72644457391027,2.18020178509066,10.3674575262571,-4.99817017488091,7.48894375204752,-0.211605458450506,6.30158202578978,1.66038316230379,-1.2917287861514,9.52949600709074,-1.71200873365333,1.97406273685445,6.3928835762292,5.25857583320399,7.00560629794948,3.08439242746263,0.129967335602259,-4.79296229396243,4.38601096912936,6.23095710110344,19.3205466347348,4.60381044682801,-3.05296784058666],\"type\":\"choropleth\"}],\"name\":\"2011\"},{\"data\":[{\"coloraxis\":\"coloraxis\",\"geo\":\"geo\",\"hovertemplate\":\"<b>%{hovertext}</b><br><br>Year=2012<br>Country Code=%{location}<br>Value=%{z}<extra></extra>\",\"hovertext\":[\"Afghanistan\",\"Albania\",\"Algeria\",\"Angola\",\"Austria\",\"Azerbaijan\",\"Belgium\",\"Bulgaria\",\"Czechia\",\"Denmark\",\"Estonia\",\"Finland\",\"France\",\"Georgia\",\"Germany\",\"Greece\",\"Hong Kong SAR, China\",\"Hungary\",\"Iceland\",\"Ireland\",\"Israel\",\"Italy\",\"Jordan\",\"Kazakhstan\",\"Latvia\",\"Lebanon\",\"Lithuania\",\"Luxembourg\",\"Moldova\",\"Montenegro\",\"Morocco\",\"Netherlands\",\"Norway\",\"Poland\",\"Portugal\",\"Romania\",\"Russian Federation\",\"Serbia\",\"Singapore\",\"Slovak Republic\",\"Slovenia\",\"Spain\",\"Sweden\",\"Switzerland\",\"Turkiye\",\"Ukraine\",\"United Kingdom\"],\"locations\":[\"AFG\",\"ALB\",\"DZA\",\"AGO\",\"AUT\",\"AZE\",\"BEL\",\"BGR\",\"CZE\",\"DNK\",\"EST\",\"FIN\",\"FRA\",\"GEO\",\"DEU\",\"GRC\",\"HKG\",\"HUN\",\"ISL\",\"IRL\",\"ISR\",\"ITA\",\"JOR\",\"KAZ\",\"LVA\",\"LBN\",\"LTU\",\"LUX\",\"MDA\",\"MNE\",\"MAR\",\"NLD\",\"NOR\",\"POL\",\"PRT\",\"ROU\",\"RUS\",\"SRB\",\"SGP\",\"SVK\",\"SVN\",\"ESP\",\"SWE\",\"CHE\",\"TUR\",\"UKR\",\"GBR\"],\"name\":\"\",\"z\":[6.39407095410509,-6.14066215173217,-0.501279037878689,10.6899999980035,1.4707817129835,-0.938011847579077,-1.83998466785211,4.34685235064931,-4.05273358243599,1.600502348226,2.73636712342076,-7.66517533926151,-0.975949074249186,11.1786006307674,-0.0913365538908835,-5.86118589545723,4.35960412193414,-2.22579959306272,2.73574578683852,-2.2125672413176,-0.43995895957346,-4.86253348866748,0.476729978161686,1.897677777041,5.9190399958806,1.7512160806739,1.72754623412878,2.66038051515298,0.985830195012753,-8.48732817347303,0.7642912417829,-2.34192450434161,1.90704135010857,0.556493453428558,-5.82641011340269,-12.3916110794461,3.60255631015873,0.660834343539761,2.17843439021894,2.22277962785178,-3.31685106877899,-6.55968014396917,-3.00094624431127,-1.22971648205412,4.66390815549762,-2.68102478853957,-0.373802361583998],\"type\":\"choropleth\"}],\"name\":\"2012\"},{\"data\":[{\"coloraxis\":\"coloraxis\",\"geo\":\"geo\",\"hovertemplate\":\"<b>%{hovertext}</b><br><br>Year=2013<br>Country Code=%{location}<br>Value=%{z}<extra></extra>\",\"hovertext\":[\"Afghanistan\",\"Albania\",\"Algeria\",\"Angola\",\"Austria\",\"Azerbaijan\",\"Belgium\",\"Bulgaria\",\"Czechia\",\"Denmark\",\"Estonia\",\"Finland\",\"France\",\"Georgia\",\"Germany\",\"Greece\",\"Hong Kong SAR, China\",\"Hungary\",\"Iceland\",\"Ireland\",\"Israel\",\"Italy\",\"Jordan\",\"Kazakhstan\",\"Latvia\",\"Lebanon\",\"Lithuania\",\"Luxembourg\",\"Moldova\",\"Montenegro\",\"Morocco\",\"Netherlands\",\"Norway\",\"Poland\",\"Portugal\",\"Romania\",\"Russian Federation\",\"Serbia\",\"Singapore\",\"Slovak Republic\",\"Slovenia\",\"Spain\",\"Sweden\",\"Switzerland\",\"Turkiye\",\"Ukraine\",\"United Kingdom\"],\"locations\":[\"AFG\",\"ALB\",\"DZA\",\"AGO\",\"AUT\",\"AZE\",\"BEL\",\"BGR\",\"CZE\",\"DNK\",\"EST\",\"FIN\",\"FRA\",\"GEO\",\"DEU\",\"GRC\",\"HKG\",\"HUN\",\"ISL\",\"IRL\",\"ISR\",\"ITA\",\"JOR\",\"KAZ\",\"LVA\",\"LBN\",\"LTU\",\"LUX\",\"MDA\",\"MNE\",\"MAR\",\"NLD\",\"NOR\",\"POL\",\"PRT\",\"ROU\",\"RUS\",\"SRB\",\"SGP\",\"SVK\",\"SVN\",\"ESP\",\"SWE\",\"CHE\",\"TUR\",\"UKR\",\"GBR\"],\"name\":\"\",\"z\":[5.06099070863539,2.71720448128706,-2.63668322032342,3.20000000087393,0.590506167047124,4.51771296772722,-0.158781468599273,-2.7037029915945,-2.43352337128454,-1.26643763591281,1.8435837598502,-0.522739153162576,0.665773923509079,3.66498564124116,-0.755045144947118,-6.49438510334915,1.49842713391253,-1.20667337839781,6.41112661987037,-2.6572870893701,5.79394229309156,-3.05167756752157,1.83910213381236,3.12574065723936,-0.706023806139157,5.89973864611682,4.6330315098831,6.47789168116191,6.11622270457313,8.35291247276663,0.592679055100561,0.0282411111487022,-0.774122347692668,-2.51989573938812,-2.20505819473158,-2.26712601654597,0.403355365804401,3.18148938529959,1.80003330968826,-5.50373716944901,-1.98409971143158,-5.75514078973069,-3.5558373961958,2.12533870803331,10.7332941909246,-7.38395299590799,2.88991709589499],\"type\":\"choropleth\"}],\"name\":\"2013\"},{\"data\":[{\"coloraxis\":\"coloraxis\",\"geo\":\"geo\",\"hovertemplate\":\"<b>%{hovertext}</b><br><br>Year=2014<br>Country Code=%{location}<br>Value=%{z}<extra></extra>\",\"hovertext\":[\"Afghanistan\",\"Albania\",\"Algeria\",\"Angola\",\"Austria\",\"Azerbaijan\",\"Belgium\",\"Bulgaria\",\"Czechia\",\"Denmark\",\"Estonia\",\"Finland\",\"France\",\"Georgia\",\"Germany\",\"Greece\",\"Hong Kong SAR, China\",\"Hungary\",\"Iceland\",\"Ireland\",\"Israel\",\"Italy\",\"Jordan\",\"Kazakhstan\",\"Latvia\",\"Lebanon\",\"Lithuania\",\"Luxembourg\",\"Moldova\",\"Montenegro\",\"Morocco\",\"Netherlands\",\"Norway\",\"Poland\",\"Portugal\",\"Romania\",\"Russian Federation\",\"Serbia\",\"Singapore\",\"Slovak Republic\",\"Slovenia\",\"Spain\",\"Sweden\",\"Switzerland\",\"Turkiye\",\"Ukraine\",\"United Kingdom\"],\"locations\":[\"AFG\",\"ALB\",\"DZA\",\"AGO\",\"AUT\",\"AZE\",\"BEL\",\"BGR\",\"CZE\",\"DNK\",\"EST\",\"FIN\",\"FRA\",\"GEO\",\"DEU\",\"GRC\",\"HKG\",\"HUN\",\"ISL\",\"IRL\",\"ISR\",\"ITA\",\"JOR\",\"KAZ\",\"LVA\",\"LBN\",\"LTU\",\"LUX\",\"MDA\",\"MNE\",\"MAR\",\"NLD\",\"NOR\",\"POL\",\"PRT\",\"ROU\",\"RUS\",\"SRB\",\"SGP\",\"SVK\",\"SVN\",\"ESP\",\"SWE\",\"CHE\",\"TUR\",\"UKR\",\"GBR\"],\"name\":\"\",\"z\":[2.76578053797094,-3.31855847062698,1.49391194752739,-1.62000000501274,0.0219366723695202,0.150863778893751,3.18016167591774,0.593041937924156,3.28683400690659,0.451923792163839,2.70745329703711,-0.974170338332186,-0.428811332080286,6.98130099153731,4.42315673978391,-6.38921135419605,7.39603265954487,6.57857490630343,3.83147213572175,10.3322590271438,-0.858772816053772,-2.09656242420925,4.10286941547405,1.75909711715396,-2.33738948885096,-2.72303810546862,5.85942778043757,4.56007750762922,8.91160110299565,-0.162373481638227,37.7245413275382,-0.276200940314695,1.44567262565522,7.39397956859811,0.1392799703912,7.58032537809063,0.0918552698899333,-6.88764642908964,3.83689094956638,13.5436759348178,4.94282286027492,0.653553819385877,0.459705224106301,0.379178341279157,5.08043369060114,-14.2212596759407,2.38455567612137],\"type\":\"choropleth\"}],\"name\":\"2014\"},{\"data\":[{\"coloraxis\":\"coloraxis\",\"geo\":\"geo\",\"hovertemplate\":\"<b>%{hovertext}</b><br><br>Year=2015<br>Country Code=%{location}<br>Value=%{z}<extra></extra>\",\"hovertext\":[\"Afghanistan\",\"Albania\",\"Algeria\",\"Angola\",\"Austria\",\"Azerbaijan\",\"Belgium\",\"Bulgaria\",\"Czechia\",\"Denmark\",\"Estonia\",\"Finland\",\"France\",\"Georgia\",\"Germany\",\"Greece\",\"Hong Kong SAR, China\",\"Hungary\",\"Iceland\",\"Ireland\",\"Israel\",\"Italy\",\"Jordan\",\"Kazakhstan\",\"Latvia\",\"Lebanon\",\"Lithuania\",\"Luxembourg\",\"Moldova\",\"Montenegro\",\"Morocco\",\"Netherlands\",\"Norway\",\"Poland\",\"Portugal\",\"Romania\",\"Russian Federation\",\"Serbia\",\"Singapore\",\"Slovak Republic\",\"Slovenia\",\"Spain\",\"Sweden\",\"Switzerland\",\"Turkiye\",\"Ukraine\",\"United Kingdom\"],\"locations\":[\"AFG\",\"ALB\",\"DZA\",\"AGO\",\"AUT\",\"AZE\",\"BEL\",\"BGR\",\"CZE\",\"DNK\",\"EST\",\"FIN\",\"FRA\",\"GEO\",\"DEU\",\"GRC\",\"HKG\",\"HUN\",\"ISL\",\"IRL\",\"ISR\",\"ITA\",\"JOR\",\"KAZ\",\"LVA\",\"LBN\",\"LTU\",\"LUX\",\"MDA\",\"MNE\",\"MAR\",\"NLD\",\"NOR\",\"POL\",\"PRT\",\"ROU\",\"RUS\",\"SRB\",\"SGP\",\"SVK\",\"SVN\",\"ESP\",\"SWE\",\"CHE\",\"TUR\",\"UKR\",\"GBR\"],\"name\":\"\",\"z\":[4.17112132157884,2.57202261699526,1.85890720185078,7.49000000030127,-0.0093103692940133,-1.92824377110729,2.87793171486021,4.40388812417257,4.92437901347232,1.44623424252413,0.24623174616039,0.549024410155937,0.143314266478399,2.61944611109357,1.31988630954109,-0.783988337558526,2.41053992462103,7.69822674695877,4.7836066016574,70.1238917993713,1.06471153311243,0.500629644098254,2.40306552936774,0.104753704096524,5.05771271702977,-5.14279860623394,1.15868640708467,9.78908564887627,2.47231835352737,1.6841582325585,1.75352406888763,0.195948413918146,1.90386159111074,5.95317662428643,2.08020923549516,4.3337503087193,-0.783756850181476,6.19553459363019,-2.51610250126298,8.02439453546178,0.910789569354861,3.62723080680148,5.26152645369906,-0.282760389201115,5.03719489558929,-14.9808151088725,4.7552499886073],\"type\":\"choropleth\"}],\"name\":\"2015\"},{\"data\":[{\"coloraxis\":\"coloraxis\",\"geo\":\"geo\",\"hovertemplate\":\"<b>%{hovertext}</b><br><br>Year=2016<br>Country Code=%{location}<br>Value=%{z}<extra></extra>\",\"hovertext\":[\"Afghanistan\",\"Albania\",\"Algeria\",\"Angola\",\"Austria\",\"Azerbaijan\",\"Belgium\",\"Bulgaria\",\"Czechia\",\"Denmark\",\"Estonia\",\"Finland\",\"France\",\"Georgia\",\"Germany\",\"Greece\",\"Hong Kong SAR, China\",\"Hungary\",\"Iceland\",\"Ireland\",\"Israel\",\"Italy\",\"Jordan\",\"Kazakhstan\",\"Latvia\",\"Lebanon\",\"Lithuania\",\"Luxembourg\",\"Moldova\",\"Montenegro\",\"Morocco\",\"Netherlands\",\"Norway\",\"Poland\",\"Portugal\",\"Romania\",\"Russian Federation\",\"Serbia\",\"Singapore\",\"Slovak Republic\",\"Slovenia\",\"Spain\",\"Sweden\",\"Switzerland\",\"Turkiye\",\"Ukraine\",\"United Kingdom\"],\"locations\":[\"AFG\",\"ALB\",\"DZA\",\"AGO\",\"AUT\",\"AZE\",\"BEL\",\"BGR\",\"CZE\",\"DNK\",\"EST\",\"FIN\",\"FRA\",\"GEO\",\"DEU\",\"GRC\",\"HKG\",\"HUN\",\"ISL\",\"IRL\",\"ISR\",\"ITA\",\"JOR\",\"KAZ\",\"LVA\",\"LBN\",\"LTU\",\"LUX\",\"MDA\",\"MNE\",\"MAR\",\"NLD\",\"NOR\",\"POL\",\"PRT\",\"ROU\",\"RUS\",\"SRB\",\"SGP\",\"SVK\",\"SVN\",\"ESP\",\"SWE\",\"CHE\",\"TUR\",\"UKR\",\"GBR\"],\"name\":\"\",\"z\":[-0.765914438585867,1.89647552363607,6.25651596653634,1.01000000479696,3.03512839813969,-4.14243969754455,-0.852562139555204,3.92589172830175,1.99438477296859,5.77791045076816,6.17382173005208,3.86481274738659,-0.0582338503020452,6.68225808933269,4.06023225510764,2.18086409530314,3.02409390858436,-0.453194720883673,5.53991314253921,-1.26734045554954,-1.79108206821033,2.69421446430268,0.81422400019693,1.71046341679745,0.027523602234524,2.27352519102524,0.761982857164625,6.14830649676415,0.669556571061818,6.39253417011896,1.89507064432388,2.3046579272423,0.53099913452219,2.14243464493198,1.24392596741411,2.07729613092059,1.6825610027057,2.6612683276001,2.78321386691974,-1.00180302663701,3.70497612345659,4.036282646064,-0.445638840809366,1.88618054246909,4.58218444701286,2.81123377794637,-0.0209228116565043],\"type\":\"choropleth\"}],\"name\":\"2016\"},{\"data\":[{\"coloraxis\":\"coloraxis\",\"geo\":\"geo\",\"hovertemplate\":\"<b>%{hovertext}</b><br><br>Year=2017<br>Country Code=%{location}<br>Value=%{z}<extra></extra>\",\"hovertext\":[\"Afghanistan\",\"Albania\",\"Algeria\",\"Angola\",\"Austria\",\"Azerbaijan\",\"Belgium\",\"Bulgaria\",\"Czechia\",\"Denmark\",\"Estonia\",\"Finland\",\"France\",\"Georgia\",\"Germany\",\"Greece\",\"Hong Kong SAR, China\",\"Hungary\",\"Iceland\",\"Ireland\",\"Israel\",\"Italy\",\"Jordan\",\"Kazakhstan\",\"Latvia\",\"Lebanon\",\"Lithuania\",\"Luxembourg\",\"Moldova\",\"Montenegro\",\"Morocco\",\"Netherlands\",\"Norway\",\"Poland\",\"Portugal\",\"Romania\",\"Russian Federation\",\"Serbia\",\"Singapore\",\"Slovak Republic\",\"Slovenia\",\"Spain\",\"Sweden\",\"Switzerland\",\"Turkiye\",\"Ukraine\",\"United Kingdom\"],\"locations\":[\"AFG\",\"ALB\",\"DZA\",\"AGO\",\"AUT\",\"AZE\",\"BEL\",\"BGR\",\"CZE\",\"DNK\",\"EST\",\"FIN\",\"FRA\",\"GEO\",\"DEU\",\"GRC\",\"HKG\",\"HUN\",\"ISL\",\"IRL\",\"ISR\",\"ITA\",\"JOR\",\"KAZ\",\"LVA\",\"LBN\",\"LTU\",\"LUX\",\"MDA\",\"MNE\",\"MAR\",\"NLD\",\"NOR\",\"POL\",\"PRT\",\"ROU\",\"RUS\",\"SRB\",\"SGP\",\"SVK\",\"SVN\",\"ESP\",\"SWE\",\"CHE\",\"TUR\",\"UKR\",\"GBR\"],\"name\":\"\",\"z\":[9.20679243849179,1.79370466355886,1.08439954335763,-1.6500000043438,3.38255281270405,-3.54648249978995,1.10083072974028,0.982102890575646,6.6264039656146,5.9654068339911,6.3289356963482,6.19515722410054,1.37029390467298,4.36955261336102,3.4023923464144,-2.18629994222731,-0.648270046726665,4.42077257619557,4.6327347192435,4.23445208380777,3.40635165294098,2.92741001311808,1.74374098431191,6.30003250010466,7.22021022501596,-2.97758545449332,5.25156113286182,-7.46721214701009,3.83381292199583,8.23771165887759,3.38576597796217,4.64447058273679,3.20576796974559,1.1674533665975,4.14233647027424,6.44379200038844,1.8071529367885,3.03570461819773,6.98878769024473,1.47642756182303,6.99659484339227,3.45685263405686,4.3516334319681,4.33490012649777,9.31809286152236,1.77721025377609,1.15816641423652],\"type\":\"choropleth\"}],\"name\":\"2017\"},{\"data\":[{\"coloraxis\":\"coloraxis\",\"geo\":\"geo\",\"hovertemplate\":\"<b>%{hovertext}</b><br><br>Year=2018<br>Country Code=%{location}<br>Value=%{z}<extra></extra>\",\"hovertext\":[\"Afghanistan\",\"Albania\",\"Algeria\",\"Angola\",\"Austria\",\"Azerbaijan\",\"Belgium\",\"Bulgaria\",\"Czechia\",\"Denmark\",\"Estonia\",\"Finland\",\"France\",\"Georgia\",\"Germany\",\"Greece\",\"Hong Kong SAR, China\",\"Hungary\",\"Iceland\",\"Ireland\",\"Israel\",\"Italy\",\"Jordan\",\"Kazakhstan\",\"Latvia\",\"Lebanon\",\"Lithuania\",\"Luxembourg\",\"Moldova\",\"Montenegro\",\"Morocco\",\"Netherlands\",\"Norway\",\"Poland\",\"Portugal\",\"Romania\",\"Russian Federation\",\"Serbia\",\"Singapore\",\"Slovak Republic\",\"Slovenia\",\"Spain\",\"Sweden\",\"Switzerland\",\"Turkiye\",\"Ukraine\",\"United Kingdom\"],\"locations\":[\"AFG\",\"ALB\",\"DZA\",\"AGO\",\"AUT\",\"AZE\",\"BEL\",\"BGR\",\"CZE\",\"DNK\",\"EST\",\"FIN\",\"FRA\",\"GEO\",\"DEU\",\"GRC\",\"HKG\",\"HUN\",\"ISL\",\"IRL\",\"ISR\",\"ITA\",\"JOR\",\"KAZ\",\"LVA\",\"LBN\",\"LTU\",\"LUX\",\"MDA\",\"MNE\",\"MAR\",\"NLD\",\"NOR\",\"POL\",\"PRT\",\"ROU\",\"RUS\",\"SRB\",\"SGP\",\"SVK\",\"SVN\",\"ESP\",\"SWE\",\"CHE\",\"TUR\",\"UKR\",\"GBR\"],\"name\":\"\",\"z\":[11.0746416505214,9.79454268996784,-1.23183046109078,-4.51647408016582,3.22877995958217,-0.663005845945094,0.399218602613189,-0.00472357334471951,1.44264861222676,0.966052220188928,4.85699450244579,-2.36294374206371,1.84585487153839,-0.53148956411971,0.885406547332138,3.69671992860987,2.43262809194191,4.27556795665751,4.26461909270795,10.825574554703,7.51047107218869,1.87880897053665,1.21104280840095,4.45526008841988,3.14476252297662,-3.93010721264955,4.42898097565572,0.664555770816747,8.26372188485578,14.8117785087496,3.14716220938587,2.854683798276,-1.85384430185384,5.79498114166834,4.37171342120119,4.49155415103822,2.88249690852219,2.7118271400643,5.58753102599267,6.99025067340078,3.94106437523148,0.574421500021472,1.04034855704278,5.58423927329761,0.519909056961936,2.71736136410084,1.79447638794767],\"type\":\"choropleth\"}],\"name\":\"2018\"},{\"data\":[{\"coloraxis\":\"coloraxis\",\"geo\":\"geo\",\"hovertemplate\":\"<b>%{hovertext}</b><br><br>Year=2019<br>Country Code=%{location}<br>Value=%{z}<extra></extra>\",\"hovertext\":[\"Afghanistan\",\"Albania\",\"Algeria\",\"Angola\",\"Austria\",\"Azerbaijan\",\"Belgium\",\"Bulgaria\",\"Czechia\",\"Denmark\",\"Estonia\",\"Finland\",\"France\",\"Georgia\",\"Germany\",\"Greece\",\"Hong Kong SAR, China\",\"Hungary\",\"Iceland\",\"Ireland\",\"Israel\",\"Italy\",\"Jordan\",\"Kazakhstan\",\"Latvia\",\"Lebanon\",\"Lithuania\",\"Luxembourg\",\"Moldova\",\"Montenegro\",\"Morocco\",\"Netherlands\",\"Norway\",\"Poland\",\"Portugal\",\"Romania\",\"Russian Federation\",\"Serbia\",\"Singapore\",\"Slovak Republic\",\"Slovenia\",\"Spain\",\"Sweden\",\"Switzerland\",\"Turkiye\",\"Ukraine\",\"United Kingdom\"],\"locations\":[\"AFG\",\"ALB\",\"DZA\",\"AGO\",\"AUT\",\"AZE\",\"BEL\",\"BGR\",\"CZE\",\"DNK\",\"EST\",\"FIN\",\"FRA\",\"GEO\",\"DEU\",\"GRC\",\"HKG\",\"HUN\",\"ISL\",\"IRL\",\"ISR\",\"ITA\",\"JOR\",\"KAZ\",\"LVA\",\"LBN\",\"LTU\",\"LUX\",\"MDA\",\"MNE\",\"MAR\",\"NLD\",\"NOR\",\"POL\",\"PRT\",\"ROU\",\"RUS\",\"SRB\",\"SGP\",\"SVK\",\"SVN\",\"ESP\",\"SWE\",\"CHE\",\"TUR\",\"UKR\",\"GBR\"],\"name\":\"\",\"z\":[4.84886809201079,0.82115087494175,-1.14027122430664,-3.5600000021762,0.583485289732181,0.877181119423454,3.67081471962759,-0.0751734434625746,1.93825341392953,1.61080980270513,-2.96130877057823,0.70492884742248,1.93317401480549,2.70491999026912,-1.46450178428155,1.45659754358907,-6.39828038583818,4.51257568055368,2.34839695593098,2.31537767898963,3.8959744775803,0.383797809643923,1.41663352767078,6.61781811092794,2.49478700074026,-16.9044252941753,4.78520419109978,11.8074053425707,6.04880615477353,3.78893905968927,4.06736627178516,1.02149603720365,-1.06733818925048,3.43054322791774,1.30819448825292,-0.414659168830028,1.5506194556002,6.14860765873404,-1.15798221561477,3.91384260068467,7.04461176853538,2.25468267112878,0.214747328777349,2.67076957764758,-2.93496634842508,2.32558139534885,2.08922918108092],\"type\":\"choropleth\"}],\"name\":\"2019\"},{\"data\":[{\"coloraxis\":\"coloraxis\",\"geo\":\"geo\",\"hovertemplate\":\"<b>%{hovertext}</b><br><br>Year=2020<br>Country Code=%{location}<br>Value=%{z}<extra></extra>\",\"hovertext\":[\"Afghanistan\",\"Albania\",\"Algeria\",\"Angola\",\"Austria\",\"Azerbaijan\",\"Belgium\",\"Bulgaria\",\"Czechia\",\"Denmark\",\"Estonia\",\"Finland\",\"France\",\"Georgia\",\"Germany\",\"Greece\",\"Hong Kong SAR, China\",\"Hungary\",\"Iceland\",\"Ireland\",\"Israel\",\"Italy\",\"Jordan\",\"Kazakhstan\",\"Latvia\",\"Lebanon\",\"Lithuania\",\"Luxembourg\",\"Moldova\",\"Montenegro\",\"Morocco\",\"Netherlands\",\"Norway\",\"Poland\",\"Portugal\",\"Romania\",\"Russian Federation\",\"Serbia\",\"Singapore\",\"Slovak Republic\",\"Slovenia\",\"Spain\",\"Sweden\",\"Switzerland\",\"Turkiye\",\"Ukraine\",\"United Kingdom\"],\"locations\":[\"AFG\",\"ALB\",\"DZA\",\"AGO\",\"AUT\",\"AZE\",\"BEL\",\"BGR\",\"CZE\",\"DNK\",\"EST\",\"FIN\",\"FRA\",\"GEO\",\"DEU\",\"GRC\",\"HKG\",\"HUN\",\"ISL\",\"IRL\",\"ISR\",\"ITA\",\"JOR\",\"KAZ\",\"LVA\",\"LBN\",\"LTU\",\"LUX\",\"MDA\",\"MNE\",\"MAR\",\"NLD\",\"NOR\",\"POL\",\"PRT\",\"ROU\",\"RUS\",\"SRB\",\"SGP\",\"SVK\",\"SVN\",\"ESP\",\"SWE\",\"CHE\",\"TUR\",\"UKR\",\"GBR\"],\"name\":\"\",\"z\":[-4.63025317112874,-4.9921500767101,-6.85661432347737,-10.4615558615497,-4.21324229823156,-5.98172692004269,-3.56176878146323,-8.21867773844276,-9.91542380289,-3.10864202288791,-0.499091323492024,-1.13047221546351,-11.6136494635932,-6.83713890770635,-5.89948530212315,2.50399076282142,-11.7199344752397,-7.87142553939508,-2.72887113071674,20.340744852339,-0.531168562276847,-10.2461555280227,-2.42784815972475,3.05455277803929,1.83100017905669,-21.7814079511959,1.26345129759771,-4.22742882243988,-2.79937736165704,-9.86107724866321,-5.23161842214522,-2.09487431977701,4.18073620465083,-4.49920664521554,-5.92787876229872,-4.21275958919227,-2.32625706159614,-0.516611944451611,0.345296796554479,-12.5601873699279,-3.28125297539704,-13.1367146733459,-0.527359877550197,-3.92844390595086,0.957042835252551,-3.23663280626531,-3.14119410174737],\"type\":\"choropleth\"}],\"name\":\"2020\"},{\"data\":[{\"coloraxis\":\"coloraxis\",\"geo\":\"geo\",\"hovertemplate\":\"<b>%{hovertext}</b><br><br>Year=2021<br>Country Code=%{location}<br>Value=%{z}<extra></extra>\",\"hovertext\":[\"Afghanistan\",\"Albania\",\"Algeria\",\"Angola\",\"Austria\",\"Azerbaijan\",\"Belgium\",\"Bulgaria\",\"Czechia\",\"Denmark\",\"Estonia\",\"Finland\",\"France\",\"Georgia\",\"Germany\",\"Greece\",\"Hong Kong SAR, China\",\"Hungary\",\"Iceland\",\"Ireland\",\"Israel\",\"Italy\",\"Jordan\",\"Kazakhstan\",\"Latvia\",\"Lebanon\",\"Lithuania\",\"Luxembourg\",\"Moldova\",\"Montenegro\",\"Morocco\",\"Netherlands\",\"Norway\",\"Poland\",\"Portugal\",\"Romania\",\"Russian Federation\",\"Serbia\",\"Singapore\",\"Slovak Republic\",\"Slovenia\",\"Spain\",\"Sweden\",\"Switzerland\",\"Turkiye\",\"Ukraine\",\"United Kingdom\"],\"locations\":[\"AFG\",\"ALB\",\"DZA\",\"AGO\",\"AUT\",\"AZE\",\"BEL\",\"BGR\",\"CZE\",\"DNK\",\"EST\",\"FIN\",\"FRA\",\"GEO\",\"DEU\",\"GRC\",\"HKG\",\"HUN\",\"ISL\",\"IRL\",\"ISR\",\"ITA\",\"JOR\",\"KAZ\",\"LVA\",\"LBN\",\"LTU\",\"LUX\",\"MDA\",\"MNE\",\"MAR\",\"NLD\",\"NOR\",\"POL\",\"PRT\",\"ROU\",\"RUS\",\"SRB\",\"SGP\",\"SVK\",\"SVN\",\"ESP\",\"SWE\",\"CHE\",\"TUR\",\"UKR\",\"GBR\"],\"name\":\"\",\"z\":[-14.1851563481973,16.0039845265799,7.35957482400735,-8.33801683121347,6.77344797068838,1.95022763860835,1.2787587334153,1.71644647042706,3.29584111131116,5.24629590711154,7.13172255303299,2.77141504969238,6.98012894553899,2.39738755190373,3.61438797162468,10.6723169169118,2.08387882164833,6.64192978427207,5.64641557676654,20.3276642801272,6.04632845947559,13.4645524961235,3.02016499996145,5.09518339934203,1.92802708740136,-6.85474529351441,8.57802766433899,2.86578909654702,-0.670329178255173,1.38919050918813,6.84466892778836,4.93313795842252,2.19239121739929,3.35668316544952,5.62699770885135,4.06591889151473,4.9037259481012,8.62831692105412,13.3227709826871,2.4552180337832,9.4252428731596,4.02631667475646,5.71742103595483,7.90548044973885,12.4635145534884,2.56562864207022,9.12138854740259],\"type\":\"choropleth\"}],\"name\":\"2021\"}]);\n",
       "                        }).then(function(){\n",
       "                            \n",
       "var gd = document.getElementById('32ccea1c-fc30-43ad-9c38-bbfcb332f909');\n",
       "var x = new MutationObserver(function (mutations, observer) {{\n",
       "        var display = window.getComputedStyle(gd).display;\n",
       "        if (!display || display === 'none') {{\n",
       "            console.log([gd, 'removed!']);\n",
       "            Plotly.purge(gd);\n",
       "            observer.disconnect();\n",
       "        }}\n",
       "}});\n",
       "\n",
       "// Listen for the removal of the full notebook cells\n",
       "var notebookContainer = gd.closest('#notebook-container');\n",
       "if (notebookContainer) {{\n",
       "    x.observe(notebookContainer, {childList: true});\n",
       "}}\n",
       "\n",
       "// Listen for the clearing of the current output cell\n",
       "var outputEl = gd.closest('.output');\n",
       "if (outputEl) {{\n",
       "    x.observe(outputEl, {childList: true});\n",
       "}}\n",
       "\n",
       "                        })                };                });            </script>        </div>"
      ]
     },
     "metadata": {},
     "output_type": "display_data"
    }
   ],
   "source": [
    "import plotly.express as px\n",
    "\n",
    "color_scale = px.colors.sequential.Plasma[:14]\n",
    "fig=px.choropleth(df2,locations='Country Code',\n",
    "                 color='Value',\n",
    "                 hover_name='Country Name',\n",
    "                 animation_frame='Year',\n",
    "                 color_continuous_scale=color_scale,\n",
    "                 range_color=(0,14))\n",
    "fig.update_layout(\n",
    "title_text='Construction Value Index',\n",
    "geo= dict(projection={'type':'natural earth'}))\n",
    "fig.show()\n",
    "fig.write_html(\"C:/Users/farha/Downloads/NaturalMap.html\")\n",
    "    "
   ]
  },
  {
   "cell_type": "markdown",
   "id": "78510966",
   "metadata": {},
   "source": [
    "## Statistics\n",
    "- mean\n",
    "- median\n",
    "- standart deviation"
   ]
  },
  {
   "cell_type": "code",
   "execution_count": 20,
   "id": "99e8f1d1",
   "metadata": {},
   "outputs": [
    {
     "data": {
      "text/html": [
       "<div>\n",
       "<style scoped>\n",
       "    .dataframe tbody tr th:only-of-type {\n",
       "        vertical-align: middle;\n",
       "    }\n",
       "\n",
       "    .dataframe tbody tr th {\n",
       "        vertical-align: top;\n",
       "    }\n",
       "\n",
       "    .dataframe thead th {\n",
       "        text-align: right;\n",
       "    }\n",
       "</style>\n",
       "<table border=\"1\" class=\"dataframe\">\n",
       "  <thead>\n",
       "    <tr style=\"text-align: right;\">\n",
       "      <th></th>\n",
       "      <th>Year</th>\n",
       "      <th>Value</th>\n",
       "    </tr>\n",
       "  </thead>\n",
       "  <tbody>\n",
       "    <tr>\n",
       "      <th>count</th>\n",
       "      <td>799.000000</td>\n",
       "      <td>799.000000</td>\n",
       "    </tr>\n",
       "    <tr>\n",
       "      <th>mean</th>\n",
       "      <td>2013.000000</td>\n",
       "      <td>2.149220</td>\n",
       "    </tr>\n",
       "    <tr>\n",
       "      <th>std</th>\n",
       "      <td>4.902048</td>\n",
       "      <td>7.162367</td>\n",
       "    </tr>\n",
       "    <tr>\n",
       "      <th>min</th>\n",
       "      <td>2005.000000</td>\n",
       "      <td>-24.857315</td>\n",
       "    </tr>\n",
       "    <tr>\n",
       "      <th>25%</th>\n",
       "      <td>2009.000000</td>\n",
       "      <td>-0.804990</td>\n",
       "    </tr>\n",
       "    <tr>\n",
       "      <th>50%</th>\n",
       "      <td>2013.000000</td>\n",
       "      <td>2.180202</td>\n",
       "    </tr>\n",
       "    <tr>\n",
       "      <th>75%</th>\n",
       "      <td>2017.000000</td>\n",
       "      <td>5.123342</td>\n",
       "    </tr>\n",
       "    <tr>\n",
       "      <th>max</th>\n",
       "      <td>2021.000000</td>\n",
       "      <td>70.123892</td>\n",
       "    </tr>\n",
       "  </tbody>\n",
       "</table>\n",
       "</div>"
      ],
      "text/plain": [
       "              Year       Value\n",
       "count   799.000000  799.000000\n",
       "mean   2013.000000    2.149220\n",
       "std       4.902048    7.162367\n",
       "min    2005.000000  -24.857315\n",
       "25%    2009.000000   -0.804990\n",
       "50%    2013.000000    2.180202\n",
       "75%    2017.000000    5.123342\n",
       "max    2021.000000   70.123892"
      ]
     },
     "execution_count": 20,
     "metadata": {},
     "output_type": "execute_result"
    }
   ],
   "source": [
    "df2.describe()"
   ]
  },
  {
   "cell_type": "markdown",
   "id": "f0d8234f",
   "metadata": {},
   "source": [
    "## Checked stats from map and decided to choose three countries with most close values"
   ]
  },
  {
   "cell_type": "code",
   "execution_count": 21,
   "id": "dd8aec24",
   "metadata": {},
   "outputs": [
    {
     "name": "stdout",
     "output_type": "stream",
     "text": [
      "count    51.000000\n",
      "mean      3.706693\n",
      "std      11.370468\n",
      "min     -14.733067\n",
      "25%      -0.486499\n",
      "50%       2.541741\n",
      "75%       5.509664\n",
      "max      70.123892\n",
      "Name: Value, dtype: float64\n"
     ]
    }
   ],
   "source": [
    "\n",
    "# Selected similar value countries\n",
    "countries = ['Ireland', 'Sweden', 'Switzerland']  \n",
    "\n",
    "# Filtered the dataset based on the selected countries\n",
    "filtered_df2 = df2[(df2['Country Name'].isin(countries))]\n",
    "\n",
    "# Perform descriptive statistics on the filtered dataset\n",
    "summary_stats = filtered_df2['Value'].describe()\n",
    "\n",
    "print(summary_stats)"
   ]
  },
  {
   "cell_type": "markdown",
   "id": "2a3f3cb1",
   "metadata": {},
   "source": [
    "### visualisation for statistic"
   ]
  },
  {
   "cell_type": "code",
   "execution_count": 22,
   "id": "bf5c59a8",
   "metadata": {},
   "outputs": [],
   "source": [
    "import matplotlib.pyplot as plt"
   ]
  },
  {
   "cell_type": "code",
   "execution_count": 95,
   "id": "d5647274",
   "metadata": {},
   "outputs": [
    {
     "data": {
      "application/vnd.plotly.v1+json": {
       "config": {
        "plotlyServerURL": "https://plot.ly"
       },
       "data": [
        {
         "alignmentgroup": "True",
         "boxpoints": "all",
         "hovertemplate": "Color=blue<br>Country Name=%{x}<br>Value=%{y}<extra></extra>",
         "legendgroup": "blue",
         "marker": {
          "color": "#636efa"
         },
         "name": "blue",
         "notched": false,
         "offsetgroup": "blue",
         "orientation": "v",
         "showlegend": true,
         "type": "box",
         "x": [
          "Ireland",
          "Ireland",
          "Ireland",
          "Ireland",
          "Ireland",
          "Ireland",
          "Ireland",
          "Ireland",
          "Ireland",
          "Ireland",
          "Ireland",
          "Ireland",
          "Ireland",
          "Ireland",
          "Ireland",
          "Ireland",
          "Ireland"
         ],
         "x0": " ",
         "xaxis": "x",
         "y": [
          6.1826156936385,
          2.54174062428689,
          4.82507015845913,
          -8.07917161056572,
          -8.6021797455529,
          0.514786125671833,
          1.36435510132711,
          -2.2125672413176,
          -2.6572870893701,
          10.3322590271438,
          70.1238917993713,
          -1.26734045554954,
          4.23445208380777,
          10.825574554703,
          2.31537767898963,
          20.340744852339,
          20.3276642801272
         ],
         "y0": " ",
         "yaxis": "y"
        },
        {
         "alignmentgroup": "True",
         "boxpoints": "all",
         "hovertemplate": "Color=red<br>Country Name=%{x}<br>Value=%{y}<extra></extra>",
         "legendgroup": "red",
         "marker": {
          "color": "#EF553B"
         },
         "name": "red",
         "notched": false,
         "offsetgroup": "red",
         "orientation": "v",
         "showlegend": true,
         "type": "box",
         "x": [
          "Sweden",
          "Sweden",
          "Sweden",
          "Sweden",
          "Sweden",
          "Sweden",
          "Sweden",
          "Sweden",
          "Sweden",
          "Sweden",
          "Sweden",
          "Sweden",
          "Sweden",
          "Sweden",
          "Sweden",
          "Sweden",
          "Sweden"
         ],
         "x0": " ",
         "xaxis": "x",
         "y": [
          2.42724541602746,
          5.71353112069724,
          5.43508968704407,
          -4.7976836424243,
          -14.7330669341161,
          12.5981012814133,
          4.38601096912936,
          -3.00094624431127,
          -3.5558373961958,
          0.459705224106301,
          5.26152645369906,
          -0.445638840809366,
          4.3516334319681,
          1.04034855704278,
          0.214747328777349,
          -0.527359877550197,
          5.71742103595483
         ],
         "y0": " ",
         "yaxis": "y"
        },
        {
         "alignmentgroup": "True",
         "boxpoints": "all",
         "hovertemplate": "Color=green<br>Country Name=%{x}<br>Value=%{y}<extra></extra>",
         "legendgroup": "green",
         "marker": {
          "color": "#00cc96"
         },
         "name": "green",
         "notched": false,
         "offsetgroup": "green",
         "orientation": "v",
         "showlegend": true,
         "type": "box",
         "x": [
          "Switzerland",
          "Switzerland",
          "Switzerland",
          "Switzerland",
          "Switzerland",
          "Switzerland",
          "Switzerland",
          "Switzerland",
          "Switzerland",
          "Switzerland",
          "Switzerland",
          "Switzerland",
          "Switzerland",
          "Switzerland",
          "Switzerland",
          "Switzerland",
          "Switzerland"
         ],
         "x0": " ",
         "xaxis": "x",
         "y": [
          4.12344007994689,
          4.56100002263156,
          3.27727939568101,
          2.70215213173563,
          -9.15283414386391,
          6.19937180316461,
          6.23095710110344,
          -1.22971648205412,
          2.12533870803331,
          0.379178341279157,
          -0.282760389201115,
          1.88618054246909,
          4.33490012649777,
          5.58423927329761,
          2.67076957764758,
          -3.92844390595086,
          7.90548044973885
         ],
         "y0": " ",
         "yaxis": "y"
        }
       ],
       "layout": {
        "boxmode": "group",
        "legend": {
         "title": {
          "text": "Color"
         },
         "tracegroupgap": 0
        },
        "template": {
         "data": {
          "bar": [
           {
            "error_x": {
             "color": "#2a3f5f"
            },
            "error_y": {
             "color": "#2a3f5f"
            },
            "marker": {
             "line": {
              "color": "#E5ECF6",
              "width": 0.5
             },
             "pattern": {
              "fillmode": "overlay",
              "size": 10,
              "solidity": 0.2
             }
            },
            "type": "bar"
           }
          ],
          "barpolar": [
           {
            "marker": {
             "line": {
              "color": "#E5ECF6",
              "width": 0.5
             },
             "pattern": {
              "fillmode": "overlay",
              "size": 10,
              "solidity": 0.2
             }
            },
            "type": "barpolar"
           }
          ],
          "carpet": [
           {
            "aaxis": {
             "endlinecolor": "#2a3f5f",
             "gridcolor": "white",
             "linecolor": "white",
             "minorgridcolor": "white",
             "startlinecolor": "#2a3f5f"
            },
            "baxis": {
             "endlinecolor": "#2a3f5f",
             "gridcolor": "white",
             "linecolor": "white",
             "minorgridcolor": "white",
             "startlinecolor": "#2a3f5f"
            },
            "type": "carpet"
           }
          ],
          "choropleth": [
           {
            "colorbar": {
             "outlinewidth": 0,
             "ticks": ""
            },
            "type": "choropleth"
           }
          ],
          "contour": [
           {
            "colorbar": {
             "outlinewidth": 0,
             "ticks": ""
            },
            "colorscale": [
             [
              0,
              "#0d0887"
             ],
             [
              0.1111111111111111,
              "#46039f"
             ],
             [
              0.2222222222222222,
              "#7201a8"
             ],
             [
              0.3333333333333333,
              "#9c179e"
             ],
             [
              0.4444444444444444,
              "#bd3786"
             ],
             [
              0.5555555555555556,
              "#d8576b"
             ],
             [
              0.6666666666666666,
              "#ed7953"
             ],
             [
              0.7777777777777778,
              "#fb9f3a"
             ],
             [
              0.8888888888888888,
              "#fdca26"
             ],
             [
              1,
              "#f0f921"
             ]
            ],
            "type": "contour"
           }
          ],
          "contourcarpet": [
           {
            "colorbar": {
             "outlinewidth": 0,
             "ticks": ""
            },
            "type": "contourcarpet"
           }
          ],
          "heatmap": [
           {
            "colorbar": {
             "outlinewidth": 0,
             "ticks": ""
            },
            "colorscale": [
             [
              0,
              "#0d0887"
             ],
             [
              0.1111111111111111,
              "#46039f"
             ],
             [
              0.2222222222222222,
              "#7201a8"
             ],
             [
              0.3333333333333333,
              "#9c179e"
             ],
             [
              0.4444444444444444,
              "#bd3786"
             ],
             [
              0.5555555555555556,
              "#d8576b"
             ],
             [
              0.6666666666666666,
              "#ed7953"
             ],
             [
              0.7777777777777778,
              "#fb9f3a"
             ],
             [
              0.8888888888888888,
              "#fdca26"
             ],
             [
              1,
              "#f0f921"
             ]
            ],
            "type": "heatmap"
           }
          ],
          "heatmapgl": [
           {
            "colorbar": {
             "outlinewidth": 0,
             "ticks": ""
            },
            "colorscale": [
             [
              0,
              "#0d0887"
             ],
             [
              0.1111111111111111,
              "#46039f"
             ],
             [
              0.2222222222222222,
              "#7201a8"
             ],
             [
              0.3333333333333333,
              "#9c179e"
             ],
             [
              0.4444444444444444,
              "#bd3786"
             ],
             [
              0.5555555555555556,
              "#d8576b"
             ],
             [
              0.6666666666666666,
              "#ed7953"
             ],
             [
              0.7777777777777778,
              "#fb9f3a"
             ],
             [
              0.8888888888888888,
              "#fdca26"
             ],
             [
              1,
              "#f0f921"
             ]
            ],
            "type": "heatmapgl"
           }
          ],
          "histogram": [
           {
            "marker": {
             "pattern": {
              "fillmode": "overlay",
              "size": 10,
              "solidity": 0.2
             }
            },
            "type": "histogram"
           }
          ],
          "histogram2d": [
           {
            "colorbar": {
             "outlinewidth": 0,
             "ticks": ""
            },
            "colorscale": [
             [
              0,
              "#0d0887"
             ],
             [
              0.1111111111111111,
              "#46039f"
             ],
             [
              0.2222222222222222,
              "#7201a8"
             ],
             [
              0.3333333333333333,
              "#9c179e"
             ],
             [
              0.4444444444444444,
              "#bd3786"
             ],
             [
              0.5555555555555556,
              "#d8576b"
             ],
             [
              0.6666666666666666,
              "#ed7953"
             ],
             [
              0.7777777777777778,
              "#fb9f3a"
             ],
             [
              0.8888888888888888,
              "#fdca26"
             ],
             [
              1,
              "#f0f921"
             ]
            ],
            "type": "histogram2d"
           }
          ],
          "histogram2dcontour": [
           {
            "colorbar": {
             "outlinewidth": 0,
             "ticks": ""
            },
            "colorscale": [
             [
              0,
              "#0d0887"
             ],
             [
              0.1111111111111111,
              "#46039f"
             ],
             [
              0.2222222222222222,
              "#7201a8"
             ],
             [
              0.3333333333333333,
              "#9c179e"
             ],
             [
              0.4444444444444444,
              "#bd3786"
             ],
             [
              0.5555555555555556,
              "#d8576b"
             ],
             [
              0.6666666666666666,
              "#ed7953"
             ],
             [
              0.7777777777777778,
              "#fb9f3a"
             ],
             [
              0.8888888888888888,
              "#fdca26"
             ],
             [
              1,
              "#f0f921"
             ]
            ],
            "type": "histogram2dcontour"
           }
          ],
          "mesh3d": [
           {
            "colorbar": {
             "outlinewidth": 0,
             "ticks": ""
            },
            "type": "mesh3d"
           }
          ],
          "parcoords": [
           {
            "line": {
             "colorbar": {
              "outlinewidth": 0,
              "ticks": ""
             }
            },
            "type": "parcoords"
           }
          ],
          "pie": [
           {
            "automargin": true,
            "type": "pie"
           }
          ],
          "scatter": [
           {
            "fillpattern": {
             "fillmode": "overlay",
             "size": 10,
             "solidity": 0.2
            },
            "type": "scatter"
           }
          ],
          "scatter3d": [
           {
            "line": {
             "colorbar": {
              "outlinewidth": 0,
              "ticks": ""
             }
            },
            "marker": {
             "colorbar": {
              "outlinewidth": 0,
              "ticks": ""
             }
            },
            "type": "scatter3d"
           }
          ],
          "scattercarpet": [
           {
            "marker": {
             "colorbar": {
              "outlinewidth": 0,
              "ticks": ""
             }
            },
            "type": "scattercarpet"
           }
          ],
          "scattergeo": [
           {
            "marker": {
             "colorbar": {
              "outlinewidth": 0,
              "ticks": ""
             }
            },
            "type": "scattergeo"
           }
          ],
          "scattergl": [
           {
            "marker": {
             "colorbar": {
              "outlinewidth": 0,
              "ticks": ""
             }
            },
            "type": "scattergl"
           }
          ],
          "scattermapbox": [
           {
            "marker": {
             "colorbar": {
              "outlinewidth": 0,
              "ticks": ""
             }
            },
            "type": "scattermapbox"
           }
          ],
          "scatterpolar": [
           {
            "marker": {
             "colorbar": {
              "outlinewidth": 0,
              "ticks": ""
             }
            },
            "type": "scatterpolar"
           }
          ],
          "scatterpolargl": [
           {
            "marker": {
             "colorbar": {
              "outlinewidth": 0,
              "ticks": ""
             }
            },
            "type": "scatterpolargl"
           }
          ],
          "scatterternary": [
           {
            "marker": {
             "colorbar": {
              "outlinewidth": 0,
              "ticks": ""
             }
            },
            "type": "scatterternary"
           }
          ],
          "surface": [
           {
            "colorbar": {
             "outlinewidth": 0,
             "ticks": ""
            },
            "colorscale": [
             [
              0,
              "#0d0887"
             ],
             [
              0.1111111111111111,
              "#46039f"
             ],
             [
              0.2222222222222222,
              "#7201a8"
             ],
             [
              0.3333333333333333,
              "#9c179e"
             ],
             [
              0.4444444444444444,
              "#bd3786"
             ],
             [
              0.5555555555555556,
              "#d8576b"
             ],
             [
              0.6666666666666666,
              "#ed7953"
             ],
             [
              0.7777777777777778,
              "#fb9f3a"
             ],
             [
              0.8888888888888888,
              "#fdca26"
             ],
             [
              1,
              "#f0f921"
             ]
            ],
            "type": "surface"
           }
          ],
          "table": [
           {
            "cells": {
             "fill": {
              "color": "#EBF0F8"
             },
             "line": {
              "color": "white"
             }
            },
            "header": {
             "fill": {
              "color": "#C8D4E3"
             },
             "line": {
              "color": "white"
             }
            },
            "type": "table"
           }
          ]
         },
         "layout": {
          "annotationdefaults": {
           "arrowcolor": "#2a3f5f",
           "arrowhead": 0,
           "arrowwidth": 1
          },
          "autotypenumbers": "strict",
          "coloraxis": {
           "colorbar": {
            "outlinewidth": 0,
            "ticks": ""
           }
          },
          "colorscale": {
           "diverging": [
            [
             0,
             "#8e0152"
            ],
            [
             0.1,
             "#c51b7d"
            ],
            [
             0.2,
             "#de77ae"
            ],
            [
             0.3,
             "#f1b6da"
            ],
            [
             0.4,
             "#fde0ef"
            ],
            [
             0.5,
             "#f7f7f7"
            ],
            [
             0.6,
             "#e6f5d0"
            ],
            [
             0.7,
             "#b8e186"
            ],
            [
             0.8,
             "#7fbc41"
            ],
            [
             0.9,
             "#4d9221"
            ],
            [
             1,
             "#276419"
            ]
           ],
           "sequential": [
            [
             0,
             "#0d0887"
            ],
            [
             0.1111111111111111,
             "#46039f"
            ],
            [
             0.2222222222222222,
             "#7201a8"
            ],
            [
             0.3333333333333333,
             "#9c179e"
            ],
            [
             0.4444444444444444,
             "#bd3786"
            ],
            [
             0.5555555555555556,
             "#d8576b"
            ],
            [
             0.6666666666666666,
             "#ed7953"
            ],
            [
             0.7777777777777778,
             "#fb9f3a"
            ],
            [
             0.8888888888888888,
             "#fdca26"
            ],
            [
             1,
             "#f0f921"
            ]
           ],
           "sequentialminus": [
            [
             0,
             "#0d0887"
            ],
            [
             0.1111111111111111,
             "#46039f"
            ],
            [
             0.2222222222222222,
             "#7201a8"
            ],
            [
             0.3333333333333333,
             "#9c179e"
            ],
            [
             0.4444444444444444,
             "#bd3786"
            ],
            [
             0.5555555555555556,
             "#d8576b"
            ],
            [
             0.6666666666666666,
             "#ed7953"
            ],
            [
             0.7777777777777778,
             "#fb9f3a"
            ],
            [
             0.8888888888888888,
             "#fdca26"
            ],
            [
             1,
             "#f0f921"
            ]
           ]
          },
          "colorway": [
           "#636efa",
           "#EF553B",
           "#00cc96",
           "#ab63fa",
           "#FFA15A",
           "#19d3f3",
           "#FF6692",
           "#B6E880",
           "#FF97FF",
           "#FECB52"
          ],
          "font": {
           "color": "#2a3f5f"
          },
          "geo": {
           "bgcolor": "white",
           "lakecolor": "white",
           "landcolor": "#E5ECF6",
           "showlakes": true,
           "showland": true,
           "subunitcolor": "white"
          },
          "hoverlabel": {
           "align": "left"
          },
          "hovermode": "closest",
          "mapbox": {
           "style": "light"
          },
          "paper_bgcolor": "white",
          "plot_bgcolor": "#E5ECF6",
          "polar": {
           "angularaxis": {
            "gridcolor": "white",
            "linecolor": "white",
            "ticks": ""
           },
           "bgcolor": "#E5ECF6",
           "radialaxis": {
            "gridcolor": "white",
            "linecolor": "white",
            "ticks": ""
           }
          },
          "scene": {
           "xaxis": {
            "backgroundcolor": "#E5ECF6",
            "gridcolor": "white",
            "gridwidth": 2,
            "linecolor": "white",
            "showbackground": true,
            "ticks": "",
            "zerolinecolor": "white"
           },
           "yaxis": {
            "backgroundcolor": "#E5ECF6",
            "gridcolor": "white",
            "gridwidth": 2,
            "linecolor": "white",
            "showbackground": true,
            "ticks": "",
            "zerolinecolor": "white"
           },
           "zaxis": {
            "backgroundcolor": "#E5ECF6",
            "gridcolor": "white",
            "gridwidth": 2,
            "linecolor": "white",
            "showbackground": true,
            "ticks": "",
            "zerolinecolor": "white"
           }
          },
          "shapedefaults": {
           "line": {
            "color": "#2a3f5f"
           }
          },
          "ternary": {
           "aaxis": {
            "gridcolor": "white",
            "linecolor": "white",
            "ticks": ""
           },
           "baxis": {
            "gridcolor": "white",
            "linecolor": "white",
            "ticks": ""
           },
           "bgcolor": "#E5ECF6",
           "caxis": {
            "gridcolor": "white",
            "linecolor": "white",
            "ticks": ""
           }
          },
          "title": {
           "x": 0.05
          },
          "xaxis": {
           "automargin": true,
           "gridcolor": "white",
           "linecolor": "white",
           "ticks": "",
           "title": {
            "standoff": 15
           },
           "zerolinecolor": "white",
           "zerolinewidth": 2
          },
          "yaxis": {
           "automargin": true,
           "gridcolor": "white",
           "linecolor": "white",
           "ticks": "",
           "title": {
            "standoff": 15
           },
           "zerolinecolor": "white",
           "zerolinewidth": 2
          }
         }
        },
        "title": {
         "text": "Construction Value Distribution by Country"
        },
        "xaxis": {
         "anchor": "y",
         "domain": [
          0,
          1
         ],
         "title": {
          "text": "Country Name"
         }
        },
        "yaxis": {
         "anchor": "x",
         "domain": [
          0,
          1
         ],
         "title": {
          "text": "Value"
         }
        }
       }
      },
      "text/html": [
       "<div>                            <div id=\"2533ef9f-ad33-4043-bddb-4b2ad65fa62c\" class=\"plotly-graph-div\" style=\"height:525px; width:100%;\"></div>            <script type=\"text/javascript\">                require([\"plotly\"], function(Plotly) {                    window.PLOTLYENV=window.PLOTLYENV || {};                                    if (document.getElementById(\"2533ef9f-ad33-4043-bddb-4b2ad65fa62c\")) {                    Plotly.newPlot(                        \"2533ef9f-ad33-4043-bddb-4b2ad65fa62c\",                        [{\"alignmentgroup\":\"True\",\"boxpoints\":\"all\",\"hovertemplate\":\"Color=blue<br>Country Name=%{x}<br>Value=%{y}<extra></extra>\",\"legendgroup\":\"blue\",\"marker\":{\"color\":\"#636efa\"},\"name\":\"blue\",\"notched\":false,\"offsetgroup\":\"blue\",\"orientation\":\"v\",\"showlegend\":true,\"x\":[\"Ireland\",\"Ireland\",\"Ireland\",\"Ireland\",\"Ireland\",\"Ireland\",\"Ireland\",\"Ireland\",\"Ireland\",\"Ireland\",\"Ireland\",\"Ireland\",\"Ireland\",\"Ireland\",\"Ireland\",\"Ireland\",\"Ireland\"],\"x0\":\" \",\"xaxis\":\"x\",\"y\":[6.1826156936385,2.54174062428689,4.82507015845913,-8.07917161056572,-8.6021797455529,0.514786125671833,1.36435510132711,-2.2125672413176,-2.6572870893701,10.3322590271438,70.1238917993713,-1.26734045554954,4.23445208380777,10.825574554703,2.31537767898963,20.340744852339,20.3276642801272],\"y0\":\" \",\"yaxis\":\"y\",\"type\":\"box\"},{\"alignmentgroup\":\"True\",\"boxpoints\":\"all\",\"hovertemplate\":\"Color=red<br>Country Name=%{x}<br>Value=%{y}<extra></extra>\",\"legendgroup\":\"red\",\"marker\":{\"color\":\"#EF553B\"},\"name\":\"red\",\"notched\":false,\"offsetgroup\":\"red\",\"orientation\":\"v\",\"showlegend\":true,\"x\":[\"Sweden\",\"Sweden\",\"Sweden\",\"Sweden\",\"Sweden\",\"Sweden\",\"Sweden\",\"Sweden\",\"Sweden\",\"Sweden\",\"Sweden\",\"Sweden\",\"Sweden\",\"Sweden\",\"Sweden\",\"Sweden\",\"Sweden\"],\"x0\":\" \",\"xaxis\":\"x\",\"y\":[2.42724541602746,5.71353112069724,5.43508968704407,-4.7976836424243,-14.7330669341161,12.5981012814133,4.38601096912936,-3.00094624431127,-3.5558373961958,0.459705224106301,5.26152645369906,-0.445638840809366,4.3516334319681,1.04034855704278,0.214747328777349,-0.527359877550197,5.71742103595483],\"y0\":\" \",\"yaxis\":\"y\",\"type\":\"box\"},{\"alignmentgroup\":\"True\",\"boxpoints\":\"all\",\"hovertemplate\":\"Color=green<br>Country Name=%{x}<br>Value=%{y}<extra></extra>\",\"legendgroup\":\"green\",\"marker\":{\"color\":\"#00cc96\"},\"name\":\"green\",\"notched\":false,\"offsetgroup\":\"green\",\"orientation\":\"v\",\"showlegend\":true,\"x\":[\"Switzerland\",\"Switzerland\",\"Switzerland\",\"Switzerland\",\"Switzerland\",\"Switzerland\",\"Switzerland\",\"Switzerland\",\"Switzerland\",\"Switzerland\",\"Switzerland\",\"Switzerland\",\"Switzerland\",\"Switzerland\",\"Switzerland\",\"Switzerland\",\"Switzerland\"],\"x0\":\" \",\"xaxis\":\"x\",\"y\":[4.12344007994689,4.56100002263156,3.27727939568101,2.70215213173563,-9.15283414386391,6.19937180316461,6.23095710110344,-1.22971648205412,2.12533870803331,0.379178341279157,-0.282760389201115,1.88618054246909,4.33490012649777,5.58423927329761,2.67076957764758,-3.92844390595086,7.90548044973885],\"y0\":\" \",\"yaxis\":\"y\",\"type\":\"box\"}],                        {\"template\":{\"data\":{\"histogram2dcontour\":[{\"type\":\"histogram2dcontour\",\"colorbar\":{\"outlinewidth\":0,\"ticks\":\"\"},\"colorscale\":[[0.0,\"#0d0887\"],[0.1111111111111111,\"#46039f\"],[0.2222222222222222,\"#7201a8\"],[0.3333333333333333,\"#9c179e\"],[0.4444444444444444,\"#bd3786\"],[0.5555555555555556,\"#d8576b\"],[0.6666666666666666,\"#ed7953\"],[0.7777777777777778,\"#fb9f3a\"],[0.8888888888888888,\"#fdca26\"],[1.0,\"#f0f921\"]]}],\"choropleth\":[{\"type\":\"choropleth\",\"colorbar\":{\"outlinewidth\":0,\"ticks\":\"\"}}],\"histogram2d\":[{\"type\":\"histogram2d\",\"colorbar\":{\"outlinewidth\":0,\"ticks\":\"\"},\"colorscale\":[[0.0,\"#0d0887\"],[0.1111111111111111,\"#46039f\"],[0.2222222222222222,\"#7201a8\"],[0.3333333333333333,\"#9c179e\"],[0.4444444444444444,\"#bd3786\"],[0.5555555555555556,\"#d8576b\"],[0.6666666666666666,\"#ed7953\"],[0.7777777777777778,\"#fb9f3a\"],[0.8888888888888888,\"#fdca26\"],[1.0,\"#f0f921\"]]}],\"heatmap\":[{\"type\":\"heatmap\",\"colorbar\":{\"outlinewidth\":0,\"ticks\":\"\"},\"colorscale\":[[0.0,\"#0d0887\"],[0.1111111111111111,\"#46039f\"],[0.2222222222222222,\"#7201a8\"],[0.3333333333333333,\"#9c179e\"],[0.4444444444444444,\"#bd3786\"],[0.5555555555555556,\"#d8576b\"],[0.6666666666666666,\"#ed7953\"],[0.7777777777777778,\"#fb9f3a\"],[0.8888888888888888,\"#fdca26\"],[1.0,\"#f0f921\"]]}],\"heatmapgl\":[{\"type\":\"heatmapgl\",\"colorbar\":{\"outlinewidth\":0,\"ticks\":\"\"},\"colorscale\":[[0.0,\"#0d0887\"],[0.1111111111111111,\"#46039f\"],[0.2222222222222222,\"#7201a8\"],[0.3333333333333333,\"#9c179e\"],[0.4444444444444444,\"#bd3786\"],[0.5555555555555556,\"#d8576b\"],[0.6666666666666666,\"#ed7953\"],[0.7777777777777778,\"#fb9f3a\"],[0.8888888888888888,\"#fdca26\"],[1.0,\"#f0f921\"]]}],\"contourcarpet\":[{\"type\":\"contourcarpet\",\"colorbar\":{\"outlinewidth\":0,\"ticks\":\"\"}}],\"contour\":[{\"type\":\"contour\",\"colorbar\":{\"outlinewidth\":0,\"ticks\":\"\"},\"colorscale\":[[0.0,\"#0d0887\"],[0.1111111111111111,\"#46039f\"],[0.2222222222222222,\"#7201a8\"],[0.3333333333333333,\"#9c179e\"],[0.4444444444444444,\"#bd3786\"],[0.5555555555555556,\"#d8576b\"],[0.6666666666666666,\"#ed7953\"],[0.7777777777777778,\"#fb9f3a\"],[0.8888888888888888,\"#fdca26\"],[1.0,\"#f0f921\"]]}],\"surface\":[{\"type\":\"surface\",\"colorbar\":{\"outlinewidth\":0,\"ticks\":\"\"},\"colorscale\":[[0.0,\"#0d0887\"],[0.1111111111111111,\"#46039f\"],[0.2222222222222222,\"#7201a8\"],[0.3333333333333333,\"#9c179e\"],[0.4444444444444444,\"#bd3786\"],[0.5555555555555556,\"#d8576b\"],[0.6666666666666666,\"#ed7953\"],[0.7777777777777778,\"#fb9f3a\"],[0.8888888888888888,\"#fdca26\"],[1.0,\"#f0f921\"]]}],\"mesh3d\":[{\"type\":\"mesh3d\",\"colorbar\":{\"outlinewidth\":0,\"ticks\":\"\"}}],\"scatter\":[{\"fillpattern\":{\"fillmode\":\"overlay\",\"size\":10,\"solidity\":0.2},\"type\":\"scatter\"}],\"parcoords\":[{\"type\":\"parcoords\",\"line\":{\"colorbar\":{\"outlinewidth\":0,\"ticks\":\"\"}}}],\"scatterpolargl\":[{\"type\":\"scatterpolargl\",\"marker\":{\"colorbar\":{\"outlinewidth\":0,\"ticks\":\"\"}}}],\"bar\":[{\"error_x\":{\"color\":\"#2a3f5f\"},\"error_y\":{\"color\":\"#2a3f5f\"},\"marker\":{\"line\":{\"color\":\"#E5ECF6\",\"width\":0.5},\"pattern\":{\"fillmode\":\"overlay\",\"size\":10,\"solidity\":0.2}},\"type\":\"bar\"}],\"scattergeo\":[{\"type\":\"scattergeo\",\"marker\":{\"colorbar\":{\"outlinewidth\":0,\"ticks\":\"\"}}}],\"scatterpolar\":[{\"type\":\"scatterpolar\",\"marker\":{\"colorbar\":{\"outlinewidth\":0,\"ticks\":\"\"}}}],\"histogram\":[{\"marker\":{\"pattern\":{\"fillmode\":\"overlay\",\"size\":10,\"solidity\":0.2}},\"type\":\"histogram\"}],\"scattergl\":[{\"type\":\"scattergl\",\"marker\":{\"colorbar\":{\"outlinewidth\":0,\"ticks\":\"\"}}}],\"scatter3d\":[{\"type\":\"scatter3d\",\"line\":{\"colorbar\":{\"outlinewidth\":0,\"ticks\":\"\"}},\"marker\":{\"colorbar\":{\"outlinewidth\":0,\"ticks\":\"\"}}}],\"scattermapbox\":[{\"type\":\"scattermapbox\",\"marker\":{\"colorbar\":{\"outlinewidth\":0,\"ticks\":\"\"}}}],\"scatterternary\":[{\"type\":\"scatterternary\",\"marker\":{\"colorbar\":{\"outlinewidth\":0,\"ticks\":\"\"}}}],\"scattercarpet\":[{\"type\":\"scattercarpet\",\"marker\":{\"colorbar\":{\"outlinewidth\":0,\"ticks\":\"\"}}}],\"carpet\":[{\"aaxis\":{\"endlinecolor\":\"#2a3f5f\",\"gridcolor\":\"white\",\"linecolor\":\"white\",\"minorgridcolor\":\"white\",\"startlinecolor\":\"#2a3f5f\"},\"baxis\":{\"endlinecolor\":\"#2a3f5f\",\"gridcolor\":\"white\",\"linecolor\":\"white\",\"minorgridcolor\":\"white\",\"startlinecolor\":\"#2a3f5f\"},\"type\":\"carpet\"}],\"table\":[{\"cells\":{\"fill\":{\"color\":\"#EBF0F8\"},\"line\":{\"color\":\"white\"}},\"header\":{\"fill\":{\"color\":\"#C8D4E3\"},\"line\":{\"color\":\"white\"}},\"type\":\"table\"}],\"barpolar\":[{\"marker\":{\"line\":{\"color\":\"#E5ECF6\",\"width\":0.5},\"pattern\":{\"fillmode\":\"overlay\",\"size\":10,\"solidity\":0.2}},\"type\":\"barpolar\"}],\"pie\":[{\"automargin\":true,\"type\":\"pie\"}]},\"layout\":{\"autotypenumbers\":\"strict\",\"colorway\":[\"#636efa\",\"#EF553B\",\"#00cc96\",\"#ab63fa\",\"#FFA15A\",\"#19d3f3\",\"#FF6692\",\"#B6E880\",\"#FF97FF\",\"#FECB52\"],\"font\":{\"color\":\"#2a3f5f\"},\"hovermode\":\"closest\",\"hoverlabel\":{\"align\":\"left\"},\"paper_bgcolor\":\"white\",\"plot_bgcolor\":\"#E5ECF6\",\"polar\":{\"bgcolor\":\"#E5ECF6\",\"angularaxis\":{\"gridcolor\":\"white\",\"linecolor\":\"white\",\"ticks\":\"\"},\"radialaxis\":{\"gridcolor\":\"white\",\"linecolor\":\"white\",\"ticks\":\"\"}},\"ternary\":{\"bgcolor\":\"#E5ECF6\",\"aaxis\":{\"gridcolor\":\"white\",\"linecolor\":\"white\",\"ticks\":\"\"},\"baxis\":{\"gridcolor\":\"white\",\"linecolor\":\"white\",\"ticks\":\"\"},\"caxis\":{\"gridcolor\":\"white\",\"linecolor\":\"white\",\"ticks\":\"\"}},\"coloraxis\":{\"colorbar\":{\"outlinewidth\":0,\"ticks\":\"\"}},\"colorscale\":{\"sequential\":[[0.0,\"#0d0887\"],[0.1111111111111111,\"#46039f\"],[0.2222222222222222,\"#7201a8\"],[0.3333333333333333,\"#9c179e\"],[0.4444444444444444,\"#bd3786\"],[0.5555555555555556,\"#d8576b\"],[0.6666666666666666,\"#ed7953\"],[0.7777777777777778,\"#fb9f3a\"],[0.8888888888888888,\"#fdca26\"],[1.0,\"#f0f921\"]],\"sequentialminus\":[[0.0,\"#0d0887\"],[0.1111111111111111,\"#46039f\"],[0.2222222222222222,\"#7201a8\"],[0.3333333333333333,\"#9c179e\"],[0.4444444444444444,\"#bd3786\"],[0.5555555555555556,\"#d8576b\"],[0.6666666666666666,\"#ed7953\"],[0.7777777777777778,\"#fb9f3a\"],[0.8888888888888888,\"#fdca26\"],[1.0,\"#f0f921\"]],\"diverging\":[[0,\"#8e0152\"],[0.1,\"#c51b7d\"],[0.2,\"#de77ae\"],[0.3,\"#f1b6da\"],[0.4,\"#fde0ef\"],[0.5,\"#f7f7f7\"],[0.6,\"#e6f5d0\"],[0.7,\"#b8e186\"],[0.8,\"#7fbc41\"],[0.9,\"#4d9221\"],[1,\"#276419\"]]},\"xaxis\":{\"gridcolor\":\"white\",\"linecolor\":\"white\",\"ticks\":\"\",\"title\":{\"standoff\":15},\"zerolinecolor\":\"white\",\"automargin\":true,\"zerolinewidth\":2},\"yaxis\":{\"gridcolor\":\"white\",\"linecolor\":\"white\",\"ticks\":\"\",\"title\":{\"standoff\":15},\"zerolinecolor\":\"white\",\"automargin\":true,\"zerolinewidth\":2},\"scene\":{\"xaxis\":{\"backgroundcolor\":\"#E5ECF6\",\"gridcolor\":\"white\",\"linecolor\":\"white\",\"showbackground\":true,\"ticks\":\"\",\"zerolinecolor\":\"white\",\"gridwidth\":2},\"yaxis\":{\"backgroundcolor\":\"#E5ECF6\",\"gridcolor\":\"white\",\"linecolor\":\"white\",\"showbackground\":true,\"ticks\":\"\",\"zerolinecolor\":\"white\",\"gridwidth\":2},\"zaxis\":{\"backgroundcolor\":\"#E5ECF6\",\"gridcolor\":\"white\",\"linecolor\":\"white\",\"showbackground\":true,\"ticks\":\"\",\"zerolinecolor\":\"white\",\"gridwidth\":2}},\"shapedefaults\":{\"line\":{\"color\":\"#2a3f5f\"}},\"annotationdefaults\":{\"arrowcolor\":\"#2a3f5f\",\"arrowhead\":0,\"arrowwidth\":1},\"geo\":{\"bgcolor\":\"white\",\"landcolor\":\"#E5ECF6\",\"subunitcolor\":\"white\",\"showland\":true,\"showlakes\":true,\"lakecolor\":\"white\"},\"title\":{\"x\":0.05},\"mapbox\":{\"style\":\"light\"}}},\"xaxis\":{\"anchor\":\"y\",\"domain\":[0.0,1.0],\"title\":{\"text\":\"Country Name\"}},\"yaxis\":{\"anchor\":\"x\",\"domain\":[0.0,1.0],\"title\":{\"text\":\"Value\"}},\"legend\":{\"title\":{\"text\":\"Color\"},\"tracegroupgap\":0},\"title\":{\"text\":\"Construction Value Distribution by Country\"},\"boxmode\":\"group\"},                        {\"responsive\": true}                    ).then(function(){\n",
       "                            \n",
       "var gd = document.getElementById('2533ef9f-ad33-4043-bddb-4b2ad65fa62c');\n",
       "var x = new MutationObserver(function (mutations, observer) {{\n",
       "        var display = window.getComputedStyle(gd).display;\n",
       "        if (!display || display === 'none') {{\n",
       "            console.log([gd, 'removed!']);\n",
       "            Plotly.purge(gd);\n",
       "            observer.disconnect();\n",
       "        }}\n",
       "}});\n",
       "\n",
       "// Listen for the removal of the full notebook cells\n",
       "var notebookContainer = gd.closest('#notebook-container');\n",
       "if (notebookContainer) {{\n",
       "    x.observe(notebookContainer, {childList: true});\n",
       "}}\n",
       "\n",
       "// Listen for the clearing of the current output cell\n",
       "var outputEl = gd.closest('.output');\n",
       "if (outputEl) {{\n",
       "    x.observe(outputEl, {childList: true});\n",
       "}}\n",
       "\n",
       "                        })                };                });            </script>        </div>"
      ]
     },
     "metadata": {},
     "output_type": "display_data"
    }
   ],
   "source": [
    "# Mapping countries to colors\n",
    "color_mapping = {'Ireland': 'blue', 'Sweden': 'red', 'Switzerland': 'green'}\n",
    "\n",
    "# Created a new column in the DataFrame to represent the colors\n",
    "filtered_df2['Color'] = filtered_df2['Country Name'].map(color_mapping)\n",
    "\n",
    "fig = px.box(filtered_df2, x='Country Name', y='Value', points='all',\n",
    "             color='Color', title='Construction Value Distribution by Country')\n",
    "fig.show()\n",
    "fig.write_html(\"C:/Users/farha/Downloads/ValueDistribution.html\")"
   ]
  },
  {
   "cell_type": "code",
   "execution_count": 24,
   "id": "c240a22a",
   "metadata": {},
   "outputs": [],
   "source": [
    "import plotly.graph_objects as go\n",
    "import matplotlib.pyplot as plt"
   ]
  },
  {
   "cell_type": "code",
   "execution_count": 96,
   "id": "8b8f120a",
   "metadata": {},
   "outputs": [
    {
     "data": {
      "application/vnd.plotly.v1+json": {
       "config": {
        "plotlyServerURL": "https://plot.ly"
       },
       "data": [
        {
         "marker": {
          "color": "blue"
         },
         "name": "Ireland",
         "orientation": "h",
         "type": "bar",
         "x": [
          6.1826156936385,
          2.54174062428689,
          4.82507015845913,
          -8.07917161056572,
          -8.6021797455529,
          0.514786125671833,
          1.36435510132711,
          -2.2125672413176,
          -2.6572870893701,
          10.3322590271438,
          70.1238917993713,
          -1.26734045554954,
          4.23445208380777,
          10.825574554703,
          2.31537767898963,
          20.340744852339,
          20.3276642801272
         ],
         "y": [
          2005,
          2006,
          2007,
          2008,
          2009,
          2010,
          2011,
          2012,
          2013,
          2014,
          2015,
          2016,
          2017,
          2018,
          2019,
          2020,
          2021
         ]
        },
        {
         "marker": {
          "color": "red"
         },
         "name": "Sweden",
         "orientation": "h",
         "type": "bar",
         "x": [
          2.42724541602746,
          5.71353112069724,
          5.43508968704407,
          -4.7976836424243,
          -14.7330669341161,
          12.5981012814133,
          4.38601096912936,
          -3.00094624431127,
          -3.5558373961958,
          0.459705224106301,
          5.26152645369906,
          -0.445638840809366,
          4.3516334319681,
          1.04034855704278,
          0.214747328777349,
          -0.527359877550197,
          5.71742103595483
         ],
         "y": [
          2005,
          2006,
          2007,
          2008,
          2009,
          2010,
          2011,
          2012,
          2013,
          2014,
          2015,
          2016,
          2017,
          2018,
          2019,
          2020,
          2021
         ]
        },
        {
         "marker": {
          "color": "green"
         },
         "name": "Switzerland",
         "orientation": "h",
         "type": "bar",
         "x": [
          4.12344007994689,
          4.56100002263156,
          3.27727939568101,
          2.70215213173563,
          -9.15283414386391,
          6.19937180316461,
          6.23095710110344,
          -1.22971648205412,
          2.12533870803331,
          0.379178341279157,
          -0.282760389201115,
          1.88618054246909,
          4.33490012649777,
          5.58423927329761,
          2.67076957764758,
          -3.92844390595086,
          7.90548044973885
         ],
         "y": [
          2005,
          2006,
          2007,
          2008,
          2009,
          2010,
          2011,
          2012,
          2013,
          2014,
          2015,
          2016,
          2017,
          2018,
          2019,
          2020,
          2021
         ]
        }
       ],
       "layout": {
        "template": {
         "data": {
          "bar": [
           {
            "error_x": {
             "color": "#2a3f5f"
            },
            "error_y": {
             "color": "#2a3f5f"
            },
            "marker": {
             "line": {
              "color": "#E5ECF6",
              "width": 0.5
             },
             "pattern": {
              "fillmode": "overlay",
              "size": 10,
              "solidity": 0.2
             }
            },
            "type": "bar"
           }
          ],
          "barpolar": [
           {
            "marker": {
             "line": {
              "color": "#E5ECF6",
              "width": 0.5
             },
             "pattern": {
              "fillmode": "overlay",
              "size": 10,
              "solidity": 0.2
             }
            },
            "type": "barpolar"
           }
          ],
          "carpet": [
           {
            "aaxis": {
             "endlinecolor": "#2a3f5f",
             "gridcolor": "white",
             "linecolor": "white",
             "minorgridcolor": "white",
             "startlinecolor": "#2a3f5f"
            },
            "baxis": {
             "endlinecolor": "#2a3f5f",
             "gridcolor": "white",
             "linecolor": "white",
             "minorgridcolor": "white",
             "startlinecolor": "#2a3f5f"
            },
            "type": "carpet"
           }
          ],
          "choropleth": [
           {
            "colorbar": {
             "outlinewidth": 0,
             "ticks": ""
            },
            "type": "choropleth"
           }
          ],
          "contour": [
           {
            "colorbar": {
             "outlinewidth": 0,
             "ticks": ""
            },
            "colorscale": [
             [
              0,
              "#0d0887"
             ],
             [
              0.1111111111111111,
              "#46039f"
             ],
             [
              0.2222222222222222,
              "#7201a8"
             ],
             [
              0.3333333333333333,
              "#9c179e"
             ],
             [
              0.4444444444444444,
              "#bd3786"
             ],
             [
              0.5555555555555556,
              "#d8576b"
             ],
             [
              0.6666666666666666,
              "#ed7953"
             ],
             [
              0.7777777777777778,
              "#fb9f3a"
             ],
             [
              0.8888888888888888,
              "#fdca26"
             ],
             [
              1,
              "#f0f921"
             ]
            ],
            "type": "contour"
           }
          ],
          "contourcarpet": [
           {
            "colorbar": {
             "outlinewidth": 0,
             "ticks": ""
            },
            "type": "contourcarpet"
           }
          ],
          "heatmap": [
           {
            "colorbar": {
             "outlinewidth": 0,
             "ticks": ""
            },
            "colorscale": [
             [
              0,
              "#0d0887"
             ],
             [
              0.1111111111111111,
              "#46039f"
             ],
             [
              0.2222222222222222,
              "#7201a8"
             ],
             [
              0.3333333333333333,
              "#9c179e"
             ],
             [
              0.4444444444444444,
              "#bd3786"
             ],
             [
              0.5555555555555556,
              "#d8576b"
             ],
             [
              0.6666666666666666,
              "#ed7953"
             ],
             [
              0.7777777777777778,
              "#fb9f3a"
             ],
             [
              0.8888888888888888,
              "#fdca26"
             ],
             [
              1,
              "#f0f921"
             ]
            ],
            "type": "heatmap"
           }
          ],
          "heatmapgl": [
           {
            "colorbar": {
             "outlinewidth": 0,
             "ticks": ""
            },
            "colorscale": [
             [
              0,
              "#0d0887"
             ],
             [
              0.1111111111111111,
              "#46039f"
             ],
             [
              0.2222222222222222,
              "#7201a8"
             ],
             [
              0.3333333333333333,
              "#9c179e"
             ],
             [
              0.4444444444444444,
              "#bd3786"
             ],
             [
              0.5555555555555556,
              "#d8576b"
             ],
             [
              0.6666666666666666,
              "#ed7953"
             ],
             [
              0.7777777777777778,
              "#fb9f3a"
             ],
             [
              0.8888888888888888,
              "#fdca26"
             ],
             [
              1,
              "#f0f921"
             ]
            ],
            "type": "heatmapgl"
           }
          ],
          "histogram": [
           {
            "marker": {
             "pattern": {
              "fillmode": "overlay",
              "size": 10,
              "solidity": 0.2
             }
            },
            "type": "histogram"
           }
          ],
          "histogram2d": [
           {
            "colorbar": {
             "outlinewidth": 0,
             "ticks": ""
            },
            "colorscale": [
             [
              0,
              "#0d0887"
             ],
             [
              0.1111111111111111,
              "#46039f"
             ],
             [
              0.2222222222222222,
              "#7201a8"
             ],
             [
              0.3333333333333333,
              "#9c179e"
             ],
             [
              0.4444444444444444,
              "#bd3786"
             ],
             [
              0.5555555555555556,
              "#d8576b"
             ],
             [
              0.6666666666666666,
              "#ed7953"
             ],
             [
              0.7777777777777778,
              "#fb9f3a"
             ],
             [
              0.8888888888888888,
              "#fdca26"
             ],
             [
              1,
              "#f0f921"
             ]
            ],
            "type": "histogram2d"
           }
          ],
          "histogram2dcontour": [
           {
            "colorbar": {
             "outlinewidth": 0,
             "ticks": ""
            },
            "colorscale": [
             [
              0,
              "#0d0887"
             ],
             [
              0.1111111111111111,
              "#46039f"
             ],
             [
              0.2222222222222222,
              "#7201a8"
             ],
             [
              0.3333333333333333,
              "#9c179e"
             ],
             [
              0.4444444444444444,
              "#bd3786"
             ],
             [
              0.5555555555555556,
              "#d8576b"
             ],
             [
              0.6666666666666666,
              "#ed7953"
             ],
             [
              0.7777777777777778,
              "#fb9f3a"
             ],
             [
              0.8888888888888888,
              "#fdca26"
             ],
             [
              1,
              "#f0f921"
             ]
            ],
            "type": "histogram2dcontour"
           }
          ],
          "mesh3d": [
           {
            "colorbar": {
             "outlinewidth": 0,
             "ticks": ""
            },
            "type": "mesh3d"
           }
          ],
          "parcoords": [
           {
            "line": {
             "colorbar": {
              "outlinewidth": 0,
              "ticks": ""
             }
            },
            "type": "parcoords"
           }
          ],
          "pie": [
           {
            "automargin": true,
            "type": "pie"
           }
          ],
          "scatter": [
           {
            "fillpattern": {
             "fillmode": "overlay",
             "size": 10,
             "solidity": 0.2
            },
            "type": "scatter"
           }
          ],
          "scatter3d": [
           {
            "line": {
             "colorbar": {
              "outlinewidth": 0,
              "ticks": ""
             }
            },
            "marker": {
             "colorbar": {
              "outlinewidth": 0,
              "ticks": ""
             }
            },
            "type": "scatter3d"
           }
          ],
          "scattercarpet": [
           {
            "marker": {
             "colorbar": {
              "outlinewidth": 0,
              "ticks": ""
             }
            },
            "type": "scattercarpet"
           }
          ],
          "scattergeo": [
           {
            "marker": {
             "colorbar": {
              "outlinewidth": 0,
              "ticks": ""
             }
            },
            "type": "scattergeo"
           }
          ],
          "scattergl": [
           {
            "marker": {
             "colorbar": {
              "outlinewidth": 0,
              "ticks": ""
             }
            },
            "type": "scattergl"
           }
          ],
          "scattermapbox": [
           {
            "marker": {
             "colorbar": {
              "outlinewidth": 0,
              "ticks": ""
             }
            },
            "type": "scattermapbox"
           }
          ],
          "scatterpolar": [
           {
            "marker": {
             "colorbar": {
              "outlinewidth": 0,
              "ticks": ""
             }
            },
            "type": "scatterpolar"
           }
          ],
          "scatterpolargl": [
           {
            "marker": {
             "colorbar": {
              "outlinewidth": 0,
              "ticks": ""
             }
            },
            "type": "scatterpolargl"
           }
          ],
          "scatterternary": [
           {
            "marker": {
             "colorbar": {
              "outlinewidth": 0,
              "ticks": ""
             }
            },
            "type": "scatterternary"
           }
          ],
          "surface": [
           {
            "colorbar": {
             "outlinewidth": 0,
             "ticks": ""
            },
            "colorscale": [
             [
              0,
              "#0d0887"
             ],
             [
              0.1111111111111111,
              "#46039f"
             ],
             [
              0.2222222222222222,
              "#7201a8"
             ],
             [
              0.3333333333333333,
              "#9c179e"
             ],
             [
              0.4444444444444444,
              "#bd3786"
             ],
             [
              0.5555555555555556,
              "#d8576b"
             ],
             [
              0.6666666666666666,
              "#ed7953"
             ],
             [
              0.7777777777777778,
              "#fb9f3a"
             ],
             [
              0.8888888888888888,
              "#fdca26"
             ],
             [
              1,
              "#f0f921"
             ]
            ],
            "type": "surface"
           }
          ],
          "table": [
           {
            "cells": {
             "fill": {
              "color": "#EBF0F8"
             },
             "line": {
              "color": "white"
             }
            },
            "header": {
             "fill": {
              "color": "#C8D4E3"
             },
             "line": {
              "color": "white"
             }
            },
            "type": "table"
           }
          ]
         },
         "layout": {
          "annotationdefaults": {
           "arrowcolor": "#2a3f5f",
           "arrowhead": 0,
           "arrowwidth": 1
          },
          "autotypenumbers": "strict",
          "coloraxis": {
           "colorbar": {
            "outlinewidth": 0,
            "ticks": ""
           }
          },
          "colorscale": {
           "diverging": [
            [
             0,
             "#8e0152"
            ],
            [
             0.1,
             "#c51b7d"
            ],
            [
             0.2,
             "#de77ae"
            ],
            [
             0.3,
             "#f1b6da"
            ],
            [
             0.4,
             "#fde0ef"
            ],
            [
             0.5,
             "#f7f7f7"
            ],
            [
             0.6,
             "#e6f5d0"
            ],
            [
             0.7,
             "#b8e186"
            ],
            [
             0.8,
             "#7fbc41"
            ],
            [
             0.9,
             "#4d9221"
            ],
            [
             1,
             "#276419"
            ]
           ],
           "sequential": [
            [
             0,
             "#0d0887"
            ],
            [
             0.1111111111111111,
             "#46039f"
            ],
            [
             0.2222222222222222,
             "#7201a8"
            ],
            [
             0.3333333333333333,
             "#9c179e"
            ],
            [
             0.4444444444444444,
             "#bd3786"
            ],
            [
             0.5555555555555556,
             "#d8576b"
            ],
            [
             0.6666666666666666,
             "#ed7953"
            ],
            [
             0.7777777777777778,
             "#fb9f3a"
            ],
            [
             0.8888888888888888,
             "#fdca26"
            ],
            [
             1,
             "#f0f921"
            ]
           ],
           "sequentialminus": [
            [
             0,
             "#0d0887"
            ],
            [
             0.1111111111111111,
             "#46039f"
            ],
            [
             0.2222222222222222,
             "#7201a8"
            ],
            [
             0.3333333333333333,
             "#9c179e"
            ],
            [
             0.4444444444444444,
             "#bd3786"
            ],
            [
             0.5555555555555556,
             "#d8576b"
            ],
            [
             0.6666666666666666,
             "#ed7953"
            ],
            [
             0.7777777777777778,
             "#fb9f3a"
            ],
            [
             0.8888888888888888,
             "#fdca26"
            ],
            [
             1,
             "#f0f921"
            ]
           ]
          },
          "colorway": [
           "#636efa",
           "#EF553B",
           "#00cc96",
           "#ab63fa",
           "#FFA15A",
           "#19d3f3",
           "#FF6692",
           "#B6E880",
           "#FF97FF",
           "#FECB52"
          ],
          "font": {
           "color": "#2a3f5f"
          },
          "geo": {
           "bgcolor": "white",
           "lakecolor": "white",
           "landcolor": "#E5ECF6",
           "showlakes": true,
           "showland": true,
           "subunitcolor": "white"
          },
          "hoverlabel": {
           "align": "left"
          },
          "hovermode": "closest",
          "mapbox": {
           "style": "light"
          },
          "paper_bgcolor": "white",
          "plot_bgcolor": "#E5ECF6",
          "polar": {
           "angularaxis": {
            "gridcolor": "white",
            "linecolor": "white",
            "ticks": ""
           },
           "bgcolor": "#E5ECF6",
           "radialaxis": {
            "gridcolor": "white",
            "linecolor": "white",
            "ticks": ""
           }
          },
          "scene": {
           "xaxis": {
            "backgroundcolor": "#E5ECF6",
            "gridcolor": "white",
            "gridwidth": 2,
            "linecolor": "white",
            "showbackground": true,
            "ticks": "",
            "zerolinecolor": "white"
           },
           "yaxis": {
            "backgroundcolor": "#E5ECF6",
            "gridcolor": "white",
            "gridwidth": 2,
            "linecolor": "white",
            "showbackground": true,
            "ticks": "",
            "zerolinecolor": "white"
           },
           "zaxis": {
            "backgroundcolor": "#E5ECF6",
            "gridcolor": "white",
            "gridwidth": 2,
            "linecolor": "white",
            "showbackground": true,
            "ticks": "",
            "zerolinecolor": "white"
           }
          },
          "shapedefaults": {
           "line": {
            "color": "#2a3f5f"
           }
          },
          "ternary": {
           "aaxis": {
            "gridcolor": "white",
            "linecolor": "white",
            "ticks": ""
           },
           "baxis": {
            "gridcolor": "white",
            "linecolor": "white",
            "ticks": ""
           },
           "bgcolor": "#E5ECF6",
           "caxis": {
            "gridcolor": "white",
            "linecolor": "white",
            "ticks": ""
           }
          },
          "title": {
           "x": 0.05
          },
          "xaxis": {
           "automargin": true,
           "gridcolor": "white",
           "linecolor": "white",
           "ticks": "",
           "title": {
            "standoff": 15
           },
           "zerolinecolor": "white",
           "zerolinewidth": 2
          },
          "yaxis": {
           "automargin": true,
           "gridcolor": "white",
           "linecolor": "white",
           "ticks": "",
           "title": {
            "standoff": 15
           },
           "zerolinecolor": "white",
           "zerolinewidth": 2
          }
         }
        },
        "title": {
         "text": "Construction Value by Year"
        },
        "xaxis": {
         "title": {
          "text": "Value"
         }
        },
        "yaxis": {
         "title": {
          "text": "Year"
         }
        }
       }
      },
      "text/html": [
       "<div>                            <div id=\"3f3fd4d4-fa24-4b0c-b500-864d48e886d4\" class=\"plotly-graph-div\" style=\"height:525px; width:100%;\"></div>            <script type=\"text/javascript\">                require([\"plotly\"], function(Plotly) {                    window.PLOTLYENV=window.PLOTLYENV || {};                                    if (document.getElementById(\"3f3fd4d4-fa24-4b0c-b500-864d48e886d4\")) {                    Plotly.newPlot(                        \"3f3fd4d4-fa24-4b0c-b500-864d48e886d4\",                        [{\"marker\":{\"color\":\"blue\"},\"name\":\"Ireland\",\"orientation\":\"h\",\"x\":[6.1826156936385,2.54174062428689,4.82507015845913,-8.07917161056572,-8.6021797455529,0.514786125671833,1.36435510132711,-2.2125672413176,-2.6572870893701,10.3322590271438,70.1238917993713,-1.26734045554954,4.23445208380777,10.825574554703,2.31537767898963,20.340744852339,20.3276642801272],\"y\":[2005,2006,2007,2008,2009,2010,2011,2012,2013,2014,2015,2016,2017,2018,2019,2020,2021],\"type\":\"bar\"},{\"marker\":{\"color\":\"red\"},\"name\":\"Sweden\",\"orientation\":\"h\",\"x\":[2.42724541602746,5.71353112069724,5.43508968704407,-4.7976836424243,-14.7330669341161,12.5981012814133,4.38601096912936,-3.00094624431127,-3.5558373961958,0.459705224106301,5.26152645369906,-0.445638840809366,4.3516334319681,1.04034855704278,0.214747328777349,-0.527359877550197,5.71742103595483],\"y\":[2005,2006,2007,2008,2009,2010,2011,2012,2013,2014,2015,2016,2017,2018,2019,2020,2021],\"type\":\"bar\"},{\"marker\":{\"color\":\"green\"},\"name\":\"Switzerland\",\"orientation\":\"h\",\"x\":[4.12344007994689,4.56100002263156,3.27727939568101,2.70215213173563,-9.15283414386391,6.19937180316461,6.23095710110344,-1.22971648205412,2.12533870803331,0.379178341279157,-0.282760389201115,1.88618054246909,4.33490012649777,5.58423927329761,2.67076957764758,-3.92844390595086,7.90548044973885],\"y\":[2005,2006,2007,2008,2009,2010,2011,2012,2013,2014,2015,2016,2017,2018,2019,2020,2021],\"type\":\"bar\"}],                        {\"template\":{\"data\":{\"histogram2dcontour\":[{\"type\":\"histogram2dcontour\",\"colorbar\":{\"outlinewidth\":0,\"ticks\":\"\"},\"colorscale\":[[0.0,\"#0d0887\"],[0.1111111111111111,\"#46039f\"],[0.2222222222222222,\"#7201a8\"],[0.3333333333333333,\"#9c179e\"],[0.4444444444444444,\"#bd3786\"],[0.5555555555555556,\"#d8576b\"],[0.6666666666666666,\"#ed7953\"],[0.7777777777777778,\"#fb9f3a\"],[0.8888888888888888,\"#fdca26\"],[1.0,\"#f0f921\"]]}],\"choropleth\":[{\"type\":\"choropleth\",\"colorbar\":{\"outlinewidth\":0,\"ticks\":\"\"}}],\"histogram2d\":[{\"type\":\"histogram2d\",\"colorbar\":{\"outlinewidth\":0,\"ticks\":\"\"},\"colorscale\":[[0.0,\"#0d0887\"],[0.1111111111111111,\"#46039f\"],[0.2222222222222222,\"#7201a8\"],[0.3333333333333333,\"#9c179e\"],[0.4444444444444444,\"#bd3786\"],[0.5555555555555556,\"#d8576b\"],[0.6666666666666666,\"#ed7953\"],[0.7777777777777778,\"#fb9f3a\"],[0.8888888888888888,\"#fdca26\"],[1.0,\"#f0f921\"]]}],\"heatmap\":[{\"type\":\"heatmap\",\"colorbar\":{\"outlinewidth\":0,\"ticks\":\"\"},\"colorscale\":[[0.0,\"#0d0887\"],[0.1111111111111111,\"#46039f\"],[0.2222222222222222,\"#7201a8\"],[0.3333333333333333,\"#9c179e\"],[0.4444444444444444,\"#bd3786\"],[0.5555555555555556,\"#d8576b\"],[0.6666666666666666,\"#ed7953\"],[0.7777777777777778,\"#fb9f3a\"],[0.8888888888888888,\"#fdca26\"],[1.0,\"#f0f921\"]]}],\"heatmapgl\":[{\"type\":\"heatmapgl\",\"colorbar\":{\"outlinewidth\":0,\"ticks\":\"\"},\"colorscale\":[[0.0,\"#0d0887\"],[0.1111111111111111,\"#46039f\"],[0.2222222222222222,\"#7201a8\"],[0.3333333333333333,\"#9c179e\"],[0.4444444444444444,\"#bd3786\"],[0.5555555555555556,\"#d8576b\"],[0.6666666666666666,\"#ed7953\"],[0.7777777777777778,\"#fb9f3a\"],[0.8888888888888888,\"#fdca26\"],[1.0,\"#f0f921\"]]}],\"contourcarpet\":[{\"type\":\"contourcarpet\",\"colorbar\":{\"outlinewidth\":0,\"ticks\":\"\"}}],\"contour\":[{\"type\":\"contour\",\"colorbar\":{\"outlinewidth\":0,\"ticks\":\"\"},\"colorscale\":[[0.0,\"#0d0887\"],[0.1111111111111111,\"#46039f\"],[0.2222222222222222,\"#7201a8\"],[0.3333333333333333,\"#9c179e\"],[0.4444444444444444,\"#bd3786\"],[0.5555555555555556,\"#d8576b\"],[0.6666666666666666,\"#ed7953\"],[0.7777777777777778,\"#fb9f3a\"],[0.8888888888888888,\"#fdca26\"],[1.0,\"#f0f921\"]]}],\"surface\":[{\"type\":\"surface\",\"colorbar\":{\"outlinewidth\":0,\"ticks\":\"\"},\"colorscale\":[[0.0,\"#0d0887\"],[0.1111111111111111,\"#46039f\"],[0.2222222222222222,\"#7201a8\"],[0.3333333333333333,\"#9c179e\"],[0.4444444444444444,\"#bd3786\"],[0.5555555555555556,\"#d8576b\"],[0.6666666666666666,\"#ed7953\"],[0.7777777777777778,\"#fb9f3a\"],[0.8888888888888888,\"#fdca26\"],[1.0,\"#f0f921\"]]}],\"mesh3d\":[{\"type\":\"mesh3d\",\"colorbar\":{\"outlinewidth\":0,\"ticks\":\"\"}}],\"scatter\":[{\"fillpattern\":{\"fillmode\":\"overlay\",\"size\":10,\"solidity\":0.2},\"type\":\"scatter\"}],\"parcoords\":[{\"type\":\"parcoords\",\"line\":{\"colorbar\":{\"outlinewidth\":0,\"ticks\":\"\"}}}],\"scatterpolargl\":[{\"type\":\"scatterpolargl\",\"marker\":{\"colorbar\":{\"outlinewidth\":0,\"ticks\":\"\"}}}],\"bar\":[{\"error_x\":{\"color\":\"#2a3f5f\"},\"error_y\":{\"color\":\"#2a3f5f\"},\"marker\":{\"line\":{\"color\":\"#E5ECF6\",\"width\":0.5},\"pattern\":{\"fillmode\":\"overlay\",\"size\":10,\"solidity\":0.2}},\"type\":\"bar\"}],\"scattergeo\":[{\"type\":\"scattergeo\",\"marker\":{\"colorbar\":{\"outlinewidth\":0,\"ticks\":\"\"}}}],\"scatterpolar\":[{\"type\":\"scatterpolar\",\"marker\":{\"colorbar\":{\"outlinewidth\":0,\"ticks\":\"\"}}}],\"histogram\":[{\"marker\":{\"pattern\":{\"fillmode\":\"overlay\",\"size\":10,\"solidity\":0.2}},\"type\":\"histogram\"}],\"scattergl\":[{\"type\":\"scattergl\",\"marker\":{\"colorbar\":{\"outlinewidth\":0,\"ticks\":\"\"}}}],\"scatter3d\":[{\"type\":\"scatter3d\",\"line\":{\"colorbar\":{\"outlinewidth\":0,\"ticks\":\"\"}},\"marker\":{\"colorbar\":{\"outlinewidth\":0,\"ticks\":\"\"}}}],\"scattermapbox\":[{\"type\":\"scattermapbox\",\"marker\":{\"colorbar\":{\"outlinewidth\":0,\"ticks\":\"\"}}}],\"scatterternary\":[{\"type\":\"scatterternary\",\"marker\":{\"colorbar\":{\"outlinewidth\":0,\"ticks\":\"\"}}}],\"scattercarpet\":[{\"type\":\"scattercarpet\",\"marker\":{\"colorbar\":{\"outlinewidth\":0,\"ticks\":\"\"}}}],\"carpet\":[{\"aaxis\":{\"endlinecolor\":\"#2a3f5f\",\"gridcolor\":\"white\",\"linecolor\":\"white\",\"minorgridcolor\":\"white\",\"startlinecolor\":\"#2a3f5f\"},\"baxis\":{\"endlinecolor\":\"#2a3f5f\",\"gridcolor\":\"white\",\"linecolor\":\"white\",\"minorgridcolor\":\"white\",\"startlinecolor\":\"#2a3f5f\"},\"type\":\"carpet\"}],\"table\":[{\"cells\":{\"fill\":{\"color\":\"#EBF0F8\"},\"line\":{\"color\":\"white\"}},\"header\":{\"fill\":{\"color\":\"#C8D4E3\"},\"line\":{\"color\":\"white\"}},\"type\":\"table\"}],\"barpolar\":[{\"marker\":{\"line\":{\"color\":\"#E5ECF6\",\"width\":0.5},\"pattern\":{\"fillmode\":\"overlay\",\"size\":10,\"solidity\":0.2}},\"type\":\"barpolar\"}],\"pie\":[{\"automargin\":true,\"type\":\"pie\"}]},\"layout\":{\"autotypenumbers\":\"strict\",\"colorway\":[\"#636efa\",\"#EF553B\",\"#00cc96\",\"#ab63fa\",\"#FFA15A\",\"#19d3f3\",\"#FF6692\",\"#B6E880\",\"#FF97FF\",\"#FECB52\"],\"font\":{\"color\":\"#2a3f5f\"},\"hovermode\":\"closest\",\"hoverlabel\":{\"align\":\"left\"},\"paper_bgcolor\":\"white\",\"plot_bgcolor\":\"#E5ECF6\",\"polar\":{\"bgcolor\":\"#E5ECF6\",\"angularaxis\":{\"gridcolor\":\"white\",\"linecolor\":\"white\",\"ticks\":\"\"},\"radialaxis\":{\"gridcolor\":\"white\",\"linecolor\":\"white\",\"ticks\":\"\"}},\"ternary\":{\"bgcolor\":\"#E5ECF6\",\"aaxis\":{\"gridcolor\":\"white\",\"linecolor\":\"white\",\"ticks\":\"\"},\"baxis\":{\"gridcolor\":\"white\",\"linecolor\":\"white\",\"ticks\":\"\"},\"caxis\":{\"gridcolor\":\"white\",\"linecolor\":\"white\",\"ticks\":\"\"}},\"coloraxis\":{\"colorbar\":{\"outlinewidth\":0,\"ticks\":\"\"}},\"colorscale\":{\"sequential\":[[0.0,\"#0d0887\"],[0.1111111111111111,\"#46039f\"],[0.2222222222222222,\"#7201a8\"],[0.3333333333333333,\"#9c179e\"],[0.4444444444444444,\"#bd3786\"],[0.5555555555555556,\"#d8576b\"],[0.6666666666666666,\"#ed7953\"],[0.7777777777777778,\"#fb9f3a\"],[0.8888888888888888,\"#fdca26\"],[1.0,\"#f0f921\"]],\"sequentialminus\":[[0.0,\"#0d0887\"],[0.1111111111111111,\"#46039f\"],[0.2222222222222222,\"#7201a8\"],[0.3333333333333333,\"#9c179e\"],[0.4444444444444444,\"#bd3786\"],[0.5555555555555556,\"#d8576b\"],[0.6666666666666666,\"#ed7953\"],[0.7777777777777778,\"#fb9f3a\"],[0.8888888888888888,\"#fdca26\"],[1.0,\"#f0f921\"]],\"diverging\":[[0,\"#8e0152\"],[0.1,\"#c51b7d\"],[0.2,\"#de77ae\"],[0.3,\"#f1b6da\"],[0.4,\"#fde0ef\"],[0.5,\"#f7f7f7\"],[0.6,\"#e6f5d0\"],[0.7,\"#b8e186\"],[0.8,\"#7fbc41\"],[0.9,\"#4d9221\"],[1,\"#276419\"]]},\"xaxis\":{\"gridcolor\":\"white\",\"linecolor\":\"white\",\"ticks\":\"\",\"title\":{\"standoff\":15},\"zerolinecolor\":\"white\",\"automargin\":true,\"zerolinewidth\":2},\"yaxis\":{\"gridcolor\":\"white\",\"linecolor\":\"white\",\"ticks\":\"\",\"title\":{\"standoff\":15},\"zerolinecolor\":\"white\",\"automargin\":true,\"zerolinewidth\":2},\"scene\":{\"xaxis\":{\"backgroundcolor\":\"#E5ECF6\",\"gridcolor\":\"white\",\"linecolor\":\"white\",\"showbackground\":true,\"ticks\":\"\",\"zerolinecolor\":\"white\",\"gridwidth\":2},\"yaxis\":{\"backgroundcolor\":\"#E5ECF6\",\"gridcolor\":\"white\",\"linecolor\":\"white\",\"showbackground\":true,\"ticks\":\"\",\"zerolinecolor\":\"white\",\"gridwidth\":2},\"zaxis\":{\"backgroundcolor\":\"#E5ECF6\",\"gridcolor\":\"white\",\"linecolor\":\"white\",\"showbackground\":true,\"ticks\":\"\",\"zerolinecolor\":\"white\",\"gridwidth\":2}},\"shapedefaults\":{\"line\":{\"color\":\"#2a3f5f\"}},\"annotationdefaults\":{\"arrowcolor\":\"#2a3f5f\",\"arrowhead\":0,\"arrowwidth\":1},\"geo\":{\"bgcolor\":\"white\",\"landcolor\":\"#E5ECF6\",\"subunitcolor\":\"white\",\"showland\":true,\"showlakes\":true,\"lakecolor\":\"white\"},\"title\":{\"x\":0.05},\"mapbox\":{\"style\":\"light\"}}},\"title\":{\"text\":\"Construction Value by Year\"},\"xaxis\":{\"title\":{\"text\":\"Value\"}},\"yaxis\":{\"title\":{\"text\":\"Year\"}}},                        {\"responsive\": true}                    ).then(function(){\n",
       "                            \n",
       "var gd = document.getElementById('3f3fd4d4-fa24-4b0c-b500-864d48e886d4');\n",
       "var x = new MutationObserver(function (mutations, observer) {{\n",
       "        var display = window.getComputedStyle(gd).display;\n",
       "        if (!display || display === 'none') {{\n",
       "            console.log([gd, 'removed!']);\n",
       "            Plotly.purge(gd);\n",
       "            observer.disconnect();\n",
       "        }}\n",
       "}});\n",
       "\n",
       "// Listen for the removal of the full notebook cells\n",
       "var notebookContainer = gd.closest('#notebook-container');\n",
       "if (notebookContainer) {{\n",
       "    x.observe(notebookContainer, {childList: true});\n",
       "}}\n",
       "\n",
       "// Listen for the clearing of the current output cell\n",
       "var outputEl = gd.closest('.output');\n",
       "if (outputEl) {{\n",
       "    x.observe(outputEl, {childList: true});\n",
       "}}\n",
       "\n",
       "                        })                };                });            </script>        </div>"
      ]
     },
     "metadata": {},
     "output_type": "display_data"
    }
   ],
   "source": [
    "fig = go.Figure()\n",
    "\n",
    "# Creating a bar chart to visualize construction value by year for different countries\n",
    "\n",
    "for country in countries:\n",
    "    country_data = filtered_df2[filtered_df2['Country Name'] == country]\n",
    "    fig.add_trace(go.Bar(\n",
    "        y=country_data['Year'],\n",
    "        x=country_data['Value'],\n",
    "        name=country,\n",
    "        orientation='h',\n",
    "        marker=dict(color=color_mapping[country])\n",
    "    ))\n",
    "\n",
    "fig.update_layout(\n",
    "    title='Construction Value by Year',\n",
    "    xaxis=dict(title='Value'),\n",
    "    yaxis=dict(title='Year')\n",
    ")\n",
    "\n",
    "fig.show()\n",
    "fig.write_html(\"C:/Users/farha/Downloads/BarChartByYear.html\")"
   ]
  },
  {
   "cell_type": "code",
   "execution_count": 97,
   "id": "dac49952",
   "metadata": {},
   "outputs": [
    {
     "data": {
      "application/vnd.plotly.v1+json": {
       "config": {
        "plotlyServerURL": "https://plot.ly"
       },
       "data": [
        {
         "mode": "lines",
         "name": "Ireland",
         "type": "scatter",
         "x": [
          2005,
          2006,
          2007,
          2008,
          2009,
          2010,
          2011,
          2012,
          2013,
          2014,
          2015,
          2016,
          2017,
          2018,
          2019,
          2020,
          2021
         ],
         "y": [
          6.1826156936385,
          2.54174062428689,
          4.82507015845913,
          -8.07917161056572,
          -8.6021797455529,
          0.514786125671833,
          1.36435510132711,
          -2.2125672413176,
          -2.6572870893701,
          10.3322590271438,
          70.1238917993713,
          -1.26734045554954,
          4.23445208380777,
          10.825574554703,
          2.31537767898963,
          20.340744852339,
          20.3276642801272
         ]
        },
        {
         "mode": "lines",
         "name": "Sweden",
         "type": "scatter",
         "x": [
          2005,
          2006,
          2007,
          2008,
          2009,
          2010,
          2011,
          2012,
          2013,
          2014,
          2015,
          2016,
          2017,
          2018,
          2019,
          2020,
          2021
         ],
         "y": [
          2.42724541602746,
          5.71353112069724,
          5.43508968704407,
          -4.7976836424243,
          -14.7330669341161,
          12.5981012814133,
          4.38601096912936,
          -3.00094624431127,
          -3.5558373961958,
          0.459705224106301,
          5.26152645369906,
          -0.445638840809366,
          4.3516334319681,
          1.04034855704278,
          0.214747328777349,
          -0.527359877550197,
          5.71742103595483
         ]
        },
        {
         "mode": "lines",
         "name": "Switzerland",
         "type": "scatter",
         "x": [
          2005,
          2006,
          2007,
          2008,
          2009,
          2010,
          2011,
          2012,
          2013,
          2014,
          2015,
          2016,
          2017,
          2018,
          2019,
          2020,
          2021
         ],
         "y": [
          4.12344007994689,
          4.56100002263156,
          3.27727939568101,
          2.70215213173563,
          -9.15283414386391,
          6.19937180316461,
          6.23095710110344,
          -1.22971648205412,
          2.12533870803331,
          0.379178341279157,
          -0.282760389201115,
          1.88618054246909,
          4.33490012649777,
          5.58423927329761,
          2.67076957764758,
          -3.92844390595086,
          7.90548044973885
         ]
        }
       ],
       "layout": {
        "template": {
         "data": {
          "bar": [
           {
            "error_x": {
             "color": "#2a3f5f"
            },
            "error_y": {
             "color": "#2a3f5f"
            },
            "marker": {
             "line": {
              "color": "#E5ECF6",
              "width": 0.5
             },
             "pattern": {
              "fillmode": "overlay",
              "size": 10,
              "solidity": 0.2
             }
            },
            "type": "bar"
           }
          ],
          "barpolar": [
           {
            "marker": {
             "line": {
              "color": "#E5ECF6",
              "width": 0.5
             },
             "pattern": {
              "fillmode": "overlay",
              "size": 10,
              "solidity": 0.2
             }
            },
            "type": "barpolar"
           }
          ],
          "carpet": [
           {
            "aaxis": {
             "endlinecolor": "#2a3f5f",
             "gridcolor": "white",
             "linecolor": "white",
             "minorgridcolor": "white",
             "startlinecolor": "#2a3f5f"
            },
            "baxis": {
             "endlinecolor": "#2a3f5f",
             "gridcolor": "white",
             "linecolor": "white",
             "minorgridcolor": "white",
             "startlinecolor": "#2a3f5f"
            },
            "type": "carpet"
           }
          ],
          "choropleth": [
           {
            "colorbar": {
             "outlinewidth": 0,
             "ticks": ""
            },
            "type": "choropleth"
           }
          ],
          "contour": [
           {
            "colorbar": {
             "outlinewidth": 0,
             "ticks": ""
            },
            "colorscale": [
             [
              0,
              "#0d0887"
             ],
             [
              0.1111111111111111,
              "#46039f"
             ],
             [
              0.2222222222222222,
              "#7201a8"
             ],
             [
              0.3333333333333333,
              "#9c179e"
             ],
             [
              0.4444444444444444,
              "#bd3786"
             ],
             [
              0.5555555555555556,
              "#d8576b"
             ],
             [
              0.6666666666666666,
              "#ed7953"
             ],
             [
              0.7777777777777778,
              "#fb9f3a"
             ],
             [
              0.8888888888888888,
              "#fdca26"
             ],
             [
              1,
              "#f0f921"
             ]
            ],
            "type": "contour"
           }
          ],
          "contourcarpet": [
           {
            "colorbar": {
             "outlinewidth": 0,
             "ticks": ""
            },
            "type": "contourcarpet"
           }
          ],
          "heatmap": [
           {
            "colorbar": {
             "outlinewidth": 0,
             "ticks": ""
            },
            "colorscale": [
             [
              0,
              "#0d0887"
             ],
             [
              0.1111111111111111,
              "#46039f"
             ],
             [
              0.2222222222222222,
              "#7201a8"
             ],
             [
              0.3333333333333333,
              "#9c179e"
             ],
             [
              0.4444444444444444,
              "#bd3786"
             ],
             [
              0.5555555555555556,
              "#d8576b"
             ],
             [
              0.6666666666666666,
              "#ed7953"
             ],
             [
              0.7777777777777778,
              "#fb9f3a"
             ],
             [
              0.8888888888888888,
              "#fdca26"
             ],
             [
              1,
              "#f0f921"
             ]
            ],
            "type": "heatmap"
           }
          ],
          "heatmapgl": [
           {
            "colorbar": {
             "outlinewidth": 0,
             "ticks": ""
            },
            "colorscale": [
             [
              0,
              "#0d0887"
             ],
             [
              0.1111111111111111,
              "#46039f"
             ],
             [
              0.2222222222222222,
              "#7201a8"
             ],
             [
              0.3333333333333333,
              "#9c179e"
             ],
             [
              0.4444444444444444,
              "#bd3786"
             ],
             [
              0.5555555555555556,
              "#d8576b"
             ],
             [
              0.6666666666666666,
              "#ed7953"
             ],
             [
              0.7777777777777778,
              "#fb9f3a"
             ],
             [
              0.8888888888888888,
              "#fdca26"
             ],
             [
              1,
              "#f0f921"
             ]
            ],
            "type": "heatmapgl"
           }
          ],
          "histogram": [
           {
            "marker": {
             "pattern": {
              "fillmode": "overlay",
              "size": 10,
              "solidity": 0.2
             }
            },
            "type": "histogram"
           }
          ],
          "histogram2d": [
           {
            "colorbar": {
             "outlinewidth": 0,
             "ticks": ""
            },
            "colorscale": [
             [
              0,
              "#0d0887"
             ],
             [
              0.1111111111111111,
              "#46039f"
             ],
             [
              0.2222222222222222,
              "#7201a8"
             ],
             [
              0.3333333333333333,
              "#9c179e"
             ],
             [
              0.4444444444444444,
              "#bd3786"
             ],
             [
              0.5555555555555556,
              "#d8576b"
             ],
             [
              0.6666666666666666,
              "#ed7953"
             ],
             [
              0.7777777777777778,
              "#fb9f3a"
             ],
             [
              0.8888888888888888,
              "#fdca26"
             ],
             [
              1,
              "#f0f921"
             ]
            ],
            "type": "histogram2d"
           }
          ],
          "histogram2dcontour": [
           {
            "colorbar": {
             "outlinewidth": 0,
             "ticks": ""
            },
            "colorscale": [
             [
              0,
              "#0d0887"
             ],
             [
              0.1111111111111111,
              "#46039f"
             ],
             [
              0.2222222222222222,
              "#7201a8"
             ],
             [
              0.3333333333333333,
              "#9c179e"
             ],
             [
              0.4444444444444444,
              "#bd3786"
             ],
             [
              0.5555555555555556,
              "#d8576b"
             ],
             [
              0.6666666666666666,
              "#ed7953"
             ],
             [
              0.7777777777777778,
              "#fb9f3a"
             ],
             [
              0.8888888888888888,
              "#fdca26"
             ],
             [
              1,
              "#f0f921"
             ]
            ],
            "type": "histogram2dcontour"
           }
          ],
          "mesh3d": [
           {
            "colorbar": {
             "outlinewidth": 0,
             "ticks": ""
            },
            "type": "mesh3d"
           }
          ],
          "parcoords": [
           {
            "line": {
             "colorbar": {
              "outlinewidth": 0,
              "ticks": ""
             }
            },
            "type": "parcoords"
           }
          ],
          "pie": [
           {
            "automargin": true,
            "type": "pie"
           }
          ],
          "scatter": [
           {
            "fillpattern": {
             "fillmode": "overlay",
             "size": 10,
             "solidity": 0.2
            },
            "type": "scatter"
           }
          ],
          "scatter3d": [
           {
            "line": {
             "colorbar": {
              "outlinewidth": 0,
              "ticks": ""
             }
            },
            "marker": {
             "colorbar": {
              "outlinewidth": 0,
              "ticks": ""
             }
            },
            "type": "scatter3d"
           }
          ],
          "scattercarpet": [
           {
            "marker": {
             "colorbar": {
              "outlinewidth": 0,
              "ticks": ""
             }
            },
            "type": "scattercarpet"
           }
          ],
          "scattergeo": [
           {
            "marker": {
             "colorbar": {
              "outlinewidth": 0,
              "ticks": ""
             }
            },
            "type": "scattergeo"
           }
          ],
          "scattergl": [
           {
            "marker": {
             "colorbar": {
              "outlinewidth": 0,
              "ticks": ""
             }
            },
            "type": "scattergl"
           }
          ],
          "scattermapbox": [
           {
            "marker": {
             "colorbar": {
              "outlinewidth": 0,
              "ticks": ""
             }
            },
            "type": "scattermapbox"
           }
          ],
          "scatterpolar": [
           {
            "marker": {
             "colorbar": {
              "outlinewidth": 0,
              "ticks": ""
             }
            },
            "type": "scatterpolar"
           }
          ],
          "scatterpolargl": [
           {
            "marker": {
             "colorbar": {
              "outlinewidth": 0,
              "ticks": ""
             }
            },
            "type": "scatterpolargl"
           }
          ],
          "scatterternary": [
           {
            "marker": {
             "colorbar": {
              "outlinewidth": 0,
              "ticks": ""
             }
            },
            "type": "scatterternary"
           }
          ],
          "surface": [
           {
            "colorbar": {
             "outlinewidth": 0,
             "ticks": ""
            },
            "colorscale": [
             [
              0,
              "#0d0887"
             ],
             [
              0.1111111111111111,
              "#46039f"
             ],
             [
              0.2222222222222222,
              "#7201a8"
             ],
             [
              0.3333333333333333,
              "#9c179e"
             ],
             [
              0.4444444444444444,
              "#bd3786"
             ],
             [
              0.5555555555555556,
              "#d8576b"
             ],
             [
              0.6666666666666666,
              "#ed7953"
             ],
             [
              0.7777777777777778,
              "#fb9f3a"
             ],
             [
              0.8888888888888888,
              "#fdca26"
             ],
             [
              1,
              "#f0f921"
             ]
            ],
            "type": "surface"
           }
          ],
          "table": [
           {
            "cells": {
             "fill": {
              "color": "#EBF0F8"
             },
             "line": {
              "color": "white"
             }
            },
            "header": {
             "fill": {
              "color": "#C8D4E3"
             },
             "line": {
              "color": "white"
             }
            },
            "type": "table"
           }
          ]
         },
         "layout": {
          "annotationdefaults": {
           "arrowcolor": "#2a3f5f",
           "arrowhead": 0,
           "arrowwidth": 1
          },
          "autotypenumbers": "strict",
          "coloraxis": {
           "colorbar": {
            "outlinewidth": 0,
            "ticks": ""
           }
          },
          "colorscale": {
           "diverging": [
            [
             0,
             "#8e0152"
            ],
            [
             0.1,
             "#c51b7d"
            ],
            [
             0.2,
             "#de77ae"
            ],
            [
             0.3,
             "#f1b6da"
            ],
            [
             0.4,
             "#fde0ef"
            ],
            [
             0.5,
             "#f7f7f7"
            ],
            [
             0.6,
             "#e6f5d0"
            ],
            [
             0.7,
             "#b8e186"
            ],
            [
             0.8,
             "#7fbc41"
            ],
            [
             0.9,
             "#4d9221"
            ],
            [
             1,
             "#276419"
            ]
           ],
           "sequential": [
            [
             0,
             "#0d0887"
            ],
            [
             0.1111111111111111,
             "#46039f"
            ],
            [
             0.2222222222222222,
             "#7201a8"
            ],
            [
             0.3333333333333333,
             "#9c179e"
            ],
            [
             0.4444444444444444,
             "#bd3786"
            ],
            [
             0.5555555555555556,
             "#d8576b"
            ],
            [
             0.6666666666666666,
             "#ed7953"
            ],
            [
             0.7777777777777778,
             "#fb9f3a"
            ],
            [
             0.8888888888888888,
             "#fdca26"
            ],
            [
             1,
             "#f0f921"
            ]
           ],
           "sequentialminus": [
            [
             0,
             "#0d0887"
            ],
            [
             0.1111111111111111,
             "#46039f"
            ],
            [
             0.2222222222222222,
             "#7201a8"
            ],
            [
             0.3333333333333333,
             "#9c179e"
            ],
            [
             0.4444444444444444,
             "#bd3786"
            ],
            [
             0.5555555555555556,
             "#d8576b"
            ],
            [
             0.6666666666666666,
             "#ed7953"
            ],
            [
             0.7777777777777778,
             "#fb9f3a"
            ],
            [
             0.8888888888888888,
             "#fdca26"
            ],
            [
             1,
             "#f0f921"
            ]
           ]
          },
          "colorway": [
           "#636efa",
           "#EF553B",
           "#00cc96",
           "#ab63fa",
           "#FFA15A",
           "#19d3f3",
           "#FF6692",
           "#B6E880",
           "#FF97FF",
           "#FECB52"
          ],
          "font": {
           "color": "#2a3f5f"
          },
          "geo": {
           "bgcolor": "white",
           "lakecolor": "white",
           "landcolor": "#E5ECF6",
           "showlakes": true,
           "showland": true,
           "subunitcolor": "white"
          },
          "hoverlabel": {
           "align": "left"
          },
          "hovermode": "closest",
          "mapbox": {
           "style": "light"
          },
          "paper_bgcolor": "white",
          "plot_bgcolor": "#E5ECF6",
          "polar": {
           "angularaxis": {
            "gridcolor": "white",
            "linecolor": "white",
            "ticks": ""
           },
           "bgcolor": "#E5ECF6",
           "radialaxis": {
            "gridcolor": "white",
            "linecolor": "white",
            "ticks": ""
           }
          },
          "scene": {
           "xaxis": {
            "backgroundcolor": "#E5ECF6",
            "gridcolor": "white",
            "gridwidth": 2,
            "linecolor": "white",
            "showbackground": true,
            "ticks": "",
            "zerolinecolor": "white"
           },
           "yaxis": {
            "backgroundcolor": "#E5ECF6",
            "gridcolor": "white",
            "gridwidth": 2,
            "linecolor": "white",
            "showbackground": true,
            "ticks": "",
            "zerolinecolor": "white"
           },
           "zaxis": {
            "backgroundcolor": "#E5ECF6",
            "gridcolor": "white",
            "gridwidth": 2,
            "linecolor": "white",
            "showbackground": true,
            "ticks": "",
            "zerolinecolor": "white"
           }
          },
          "shapedefaults": {
           "line": {
            "color": "#2a3f5f"
           }
          },
          "ternary": {
           "aaxis": {
            "gridcolor": "white",
            "linecolor": "white",
            "ticks": ""
           },
           "baxis": {
            "gridcolor": "white",
            "linecolor": "white",
            "ticks": ""
           },
           "bgcolor": "#E5ECF6",
           "caxis": {
            "gridcolor": "white",
            "linecolor": "white",
            "ticks": ""
           }
          },
          "title": {
           "x": 0.05
          },
          "xaxis": {
           "automargin": true,
           "gridcolor": "white",
           "linecolor": "white",
           "ticks": "",
           "title": {
            "standoff": 15
           },
           "zerolinecolor": "white",
           "zerolinewidth": 2
          },
          "yaxis": {
           "automargin": true,
           "gridcolor": "white",
           "linecolor": "white",
           "ticks": "",
           "title": {
            "standoff": 15
           },
           "zerolinecolor": "white",
           "zerolinewidth": 2
          }
         }
        },
        "title": {
         "text": "Construction Value Trend"
        },
        "xaxis": {
         "title": {
          "text": "Year"
         }
        },
        "yaxis": {
         "title": {
          "text": "Construction Value"
         }
        }
       }
      },
      "text/html": [
       "<div>                            <div id=\"b33d141f-8b7c-434a-84db-b21bda1bfbaa\" class=\"plotly-graph-div\" style=\"height:525px; width:100%;\"></div>            <script type=\"text/javascript\">                require([\"plotly\"], function(Plotly) {                    window.PLOTLYENV=window.PLOTLYENV || {};                                    if (document.getElementById(\"b33d141f-8b7c-434a-84db-b21bda1bfbaa\")) {                    Plotly.newPlot(                        \"b33d141f-8b7c-434a-84db-b21bda1bfbaa\",                        [{\"mode\":\"lines\",\"name\":\"Ireland\",\"x\":[2005,2006,2007,2008,2009,2010,2011,2012,2013,2014,2015,2016,2017,2018,2019,2020,2021],\"y\":[6.1826156936385,2.54174062428689,4.82507015845913,-8.07917161056572,-8.6021797455529,0.514786125671833,1.36435510132711,-2.2125672413176,-2.6572870893701,10.3322590271438,70.1238917993713,-1.26734045554954,4.23445208380777,10.825574554703,2.31537767898963,20.340744852339,20.3276642801272],\"type\":\"scatter\"},{\"mode\":\"lines\",\"name\":\"Sweden\",\"x\":[2005,2006,2007,2008,2009,2010,2011,2012,2013,2014,2015,2016,2017,2018,2019,2020,2021],\"y\":[2.42724541602746,5.71353112069724,5.43508968704407,-4.7976836424243,-14.7330669341161,12.5981012814133,4.38601096912936,-3.00094624431127,-3.5558373961958,0.459705224106301,5.26152645369906,-0.445638840809366,4.3516334319681,1.04034855704278,0.214747328777349,-0.527359877550197,5.71742103595483],\"type\":\"scatter\"},{\"mode\":\"lines\",\"name\":\"Switzerland\",\"x\":[2005,2006,2007,2008,2009,2010,2011,2012,2013,2014,2015,2016,2017,2018,2019,2020,2021],\"y\":[4.12344007994689,4.56100002263156,3.27727939568101,2.70215213173563,-9.15283414386391,6.19937180316461,6.23095710110344,-1.22971648205412,2.12533870803331,0.379178341279157,-0.282760389201115,1.88618054246909,4.33490012649777,5.58423927329761,2.67076957764758,-3.92844390595086,7.90548044973885],\"type\":\"scatter\"}],                        {\"template\":{\"data\":{\"histogram2dcontour\":[{\"type\":\"histogram2dcontour\",\"colorbar\":{\"outlinewidth\":0,\"ticks\":\"\"},\"colorscale\":[[0.0,\"#0d0887\"],[0.1111111111111111,\"#46039f\"],[0.2222222222222222,\"#7201a8\"],[0.3333333333333333,\"#9c179e\"],[0.4444444444444444,\"#bd3786\"],[0.5555555555555556,\"#d8576b\"],[0.6666666666666666,\"#ed7953\"],[0.7777777777777778,\"#fb9f3a\"],[0.8888888888888888,\"#fdca26\"],[1.0,\"#f0f921\"]]}],\"choropleth\":[{\"type\":\"choropleth\",\"colorbar\":{\"outlinewidth\":0,\"ticks\":\"\"}}],\"histogram2d\":[{\"type\":\"histogram2d\",\"colorbar\":{\"outlinewidth\":0,\"ticks\":\"\"},\"colorscale\":[[0.0,\"#0d0887\"],[0.1111111111111111,\"#46039f\"],[0.2222222222222222,\"#7201a8\"],[0.3333333333333333,\"#9c179e\"],[0.4444444444444444,\"#bd3786\"],[0.5555555555555556,\"#d8576b\"],[0.6666666666666666,\"#ed7953\"],[0.7777777777777778,\"#fb9f3a\"],[0.8888888888888888,\"#fdca26\"],[1.0,\"#f0f921\"]]}],\"heatmap\":[{\"type\":\"heatmap\",\"colorbar\":{\"outlinewidth\":0,\"ticks\":\"\"},\"colorscale\":[[0.0,\"#0d0887\"],[0.1111111111111111,\"#46039f\"],[0.2222222222222222,\"#7201a8\"],[0.3333333333333333,\"#9c179e\"],[0.4444444444444444,\"#bd3786\"],[0.5555555555555556,\"#d8576b\"],[0.6666666666666666,\"#ed7953\"],[0.7777777777777778,\"#fb9f3a\"],[0.8888888888888888,\"#fdca26\"],[1.0,\"#f0f921\"]]}],\"heatmapgl\":[{\"type\":\"heatmapgl\",\"colorbar\":{\"outlinewidth\":0,\"ticks\":\"\"},\"colorscale\":[[0.0,\"#0d0887\"],[0.1111111111111111,\"#46039f\"],[0.2222222222222222,\"#7201a8\"],[0.3333333333333333,\"#9c179e\"],[0.4444444444444444,\"#bd3786\"],[0.5555555555555556,\"#d8576b\"],[0.6666666666666666,\"#ed7953\"],[0.7777777777777778,\"#fb9f3a\"],[0.8888888888888888,\"#fdca26\"],[1.0,\"#f0f921\"]]}],\"contourcarpet\":[{\"type\":\"contourcarpet\",\"colorbar\":{\"outlinewidth\":0,\"ticks\":\"\"}}],\"contour\":[{\"type\":\"contour\",\"colorbar\":{\"outlinewidth\":0,\"ticks\":\"\"},\"colorscale\":[[0.0,\"#0d0887\"],[0.1111111111111111,\"#46039f\"],[0.2222222222222222,\"#7201a8\"],[0.3333333333333333,\"#9c179e\"],[0.4444444444444444,\"#bd3786\"],[0.5555555555555556,\"#d8576b\"],[0.6666666666666666,\"#ed7953\"],[0.7777777777777778,\"#fb9f3a\"],[0.8888888888888888,\"#fdca26\"],[1.0,\"#f0f921\"]]}],\"surface\":[{\"type\":\"surface\",\"colorbar\":{\"outlinewidth\":0,\"ticks\":\"\"},\"colorscale\":[[0.0,\"#0d0887\"],[0.1111111111111111,\"#46039f\"],[0.2222222222222222,\"#7201a8\"],[0.3333333333333333,\"#9c179e\"],[0.4444444444444444,\"#bd3786\"],[0.5555555555555556,\"#d8576b\"],[0.6666666666666666,\"#ed7953\"],[0.7777777777777778,\"#fb9f3a\"],[0.8888888888888888,\"#fdca26\"],[1.0,\"#f0f921\"]]}],\"mesh3d\":[{\"type\":\"mesh3d\",\"colorbar\":{\"outlinewidth\":0,\"ticks\":\"\"}}],\"scatter\":[{\"fillpattern\":{\"fillmode\":\"overlay\",\"size\":10,\"solidity\":0.2},\"type\":\"scatter\"}],\"parcoords\":[{\"type\":\"parcoords\",\"line\":{\"colorbar\":{\"outlinewidth\":0,\"ticks\":\"\"}}}],\"scatterpolargl\":[{\"type\":\"scatterpolargl\",\"marker\":{\"colorbar\":{\"outlinewidth\":0,\"ticks\":\"\"}}}],\"bar\":[{\"error_x\":{\"color\":\"#2a3f5f\"},\"error_y\":{\"color\":\"#2a3f5f\"},\"marker\":{\"line\":{\"color\":\"#E5ECF6\",\"width\":0.5},\"pattern\":{\"fillmode\":\"overlay\",\"size\":10,\"solidity\":0.2}},\"type\":\"bar\"}],\"scattergeo\":[{\"type\":\"scattergeo\",\"marker\":{\"colorbar\":{\"outlinewidth\":0,\"ticks\":\"\"}}}],\"scatterpolar\":[{\"type\":\"scatterpolar\",\"marker\":{\"colorbar\":{\"outlinewidth\":0,\"ticks\":\"\"}}}],\"histogram\":[{\"marker\":{\"pattern\":{\"fillmode\":\"overlay\",\"size\":10,\"solidity\":0.2}},\"type\":\"histogram\"}],\"scattergl\":[{\"type\":\"scattergl\",\"marker\":{\"colorbar\":{\"outlinewidth\":0,\"ticks\":\"\"}}}],\"scatter3d\":[{\"type\":\"scatter3d\",\"line\":{\"colorbar\":{\"outlinewidth\":0,\"ticks\":\"\"}},\"marker\":{\"colorbar\":{\"outlinewidth\":0,\"ticks\":\"\"}}}],\"scattermapbox\":[{\"type\":\"scattermapbox\",\"marker\":{\"colorbar\":{\"outlinewidth\":0,\"ticks\":\"\"}}}],\"scatterternary\":[{\"type\":\"scatterternary\",\"marker\":{\"colorbar\":{\"outlinewidth\":0,\"ticks\":\"\"}}}],\"scattercarpet\":[{\"type\":\"scattercarpet\",\"marker\":{\"colorbar\":{\"outlinewidth\":0,\"ticks\":\"\"}}}],\"carpet\":[{\"aaxis\":{\"endlinecolor\":\"#2a3f5f\",\"gridcolor\":\"white\",\"linecolor\":\"white\",\"minorgridcolor\":\"white\",\"startlinecolor\":\"#2a3f5f\"},\"baxis\":{\"endlinecolor\":\"#2a3f5f\",\"gridcolor\":\"white\",\"linecolor\":\"white\",\"minorgridcolor\":\"white\",\"startlinecolor\":\"#2a3f5f\"},\"type\":\"carpet\"}],\"table\":[{\"cells\":{\"fill\":{\"color\":\"#EBF0F8\"},\"line\":{\"color\":\"white\"}},\"header\":{\"fill\":{\"color\":\"#C8D4E3\"},\"line\":{\"color\":\"white\"}},\"type\":\"table\"}],\"barpolar\":[{\"marker\":{\"line\":{\"color\":\"#E5ECF6\",\"width\":0.5},\"pattern\":{\"fillmode\":\"overlay\",\"size\":10,\"solidity\":0.2}},\"type\":\"barpolar\"}],\"pie\":[{\"automargin\":true,\"type\":\"pie\"}]},\"layout\":{\"autotypenumbers\":\"strict\",\"colorway\":[\"#636efa\",\"#EF553B\",\"#00cc96\",\"#ab63fa\",\"#FFA15A\",\"#19d3f3\",\"#FF6692\",\"#B6E880\",\"#FF97FF\",\"#FECB52\"],\"font\":{\"color\":\"#2a3f5f\"},\"hovermode\":\"closest\",\"hoverlabel\":{\"align\":\"left\"},\"paper_bgcolor\":\"white\",\"plot_bgcolor\":\"#E5ECF6\",\"polar\":{\"bgcolor\":\"#E5ECF6\",\"angularaxis\":{\"gridcolor\":\"white\",\"linecolor\":\"white\",\"ticks\":\"\"},\"radialaxis\":{\"gridcolor\":\"white\",\"linecolor\":\"white\",\"ticks\":\"\"}},\"ternary\":{\"bgcolor\":\"#E5ECF6\",\"aaxis\":{\"gridcolor\":\"white\",\"linecolor\":\"white\",\"ticks\":\"\"},\"baxis\":{\"gridcolor\":\"white\",\"linecolor\":\"white\",\"ticks\":\"\"},\"caxis\":{\"gridcolor\":\"white\",\"linecolor\":\"white\",\"ticks\":\"\"}},\"coloraxis\":{\"colorbar\":{\"outlinewidth\":0,\"ticks\":\"\"}},\"colorscale\":{\"sequential\":[[0.0,\"#0d0887\"],[0.1111111111111111,\"#46039f\"],[0.2222222222222222,\"#7201a8\"],[0.3333333333333333,\"#9c179e\"],[0.4444444444444444,\"#bd3786\"],[0.5555555555555556,\"#d8576b\"],[0.6666666666666666,\"#ed7953\"],[0.7777777777777778,\"#fb9f3a\"],[0.8888888888888888,\"#fdca26\"],[1.0,\"#f0f921\"]],\"sequentialminus\":[[0.0,\"#0d0887\"],[0.1111111111111111,\"#46039f\"],[0.2222222222222222,\"#7201a8\"],[0.3333333333333333,\"#9c179e\"],[0.4444444444444444,\"#bd3786\"],[0.5555555555555556,\"#d8576b\"],[0.6666666666666666,\"#ed7953\"],[0.7777777777777778,\"#fb9f3a\"],[0.8888888888888888,\"#fdca26\"],[1.0,\"#f0f921\"]],\"diverging\":[[0,\"#8e0152\"],[0.1,\"#c51b7d\"],[0.2,\"#de77ae\"],[0.3,\"#f1b6da\"],[0.4,\"#fde0ef\"],[0.5,\"#f7f7f7\"],[0.6,\"#e6f5d0\"],[0.7,\"#b8e186\"],[0.8,\"#7fbc41\"],[0.9,\"#4d9221\"],[1,\"#276419\"]]},\"xaxis\":{\"gridcolor\":\"white\",\"linecolor\":\"white\",\"ticks\":\"\",\"title\":{\"standoff\":15},\"zerolinecolor\":\"white\",\"automargin\":true,\"zerolinewidth\":2},\"yaxis\":{\"gridcolor\":\"white\",\"linecolor\":\"white\",\"ticks\":\"\",\"title\":{\"standoff\":15},\"zerolinecolor\":\"white\",\"automargin\":true,\"zerolinewidth\":2},\"scene\":{\"xaxis\":{\"backgroundcolor\":\"#E5ECF6\",\"gridcolor\":\"white\",\"linecolor\":\"white\",\"showbackground\":true,\"ticks\":\"\",\"zerolinecolor\":\"white\",\"gridwidth\":2},\"yaxis\":{\"backgroundcolor\":\"#E5ECF6\",\"gridcolor\":\"white\",\"linecolor\":\"white\",\"showbackground\":true,\"ticks\":\"\",\"zerolinecolor\":\"white\",\"gridwidth\":2},\"zaxis\":{\"backgroundcolor\":\"#E5ECF6\",\"gridcolor\":\"white\",\"linecolor\":\"white\",\"showbackground\":true,\"ticks\":\"\",\"zerolinecolor\":\"white\",\"gridwidth\":2}},\"shapedefaults\":{\"line\":{\"color\":\"#2a3f5f\"}},\"annotationdefaults\":{\"arrowcolor\":\"#2a3f5f\",\"arrowhead\":0,\"arrowwidth\":1},\"geo\":{\"bgcolor\":\"white\",\"landcolor\":\"#E5ECF6\",\"subunitcolor\":\"white\",\"showland\":true,\"showlakes\":true,\"lakecolor\":\"white\"},\"title\":{\"x\":0.05},\"mapbox\":{\"style\":\"light\"}}},\"title\":{\"text\":\"Construction Value Trend\"},\"xaxis\":{\"title\":{\"text\":\"Year\"}},\"yaxis\":{\"title\":{\"text\":\"Construction Value\"}}},                        {\"responsive\": true}                    ).then(function(){\n",
       "                            \n",
       "var gd = document.getElementById('b33d141f-8b7c-434a-84db-b21bda1bfbaa');\n",
       "var x = new MutationObserver(function (mutations, observer) {{\n",
       "        var display = window.getComputedStyle(gd).display;\n",
       "        if (!display || display === 'none') {{\n",
       "            console.log([gd, 'removed!']);\n",
       "            Plotly.purge(gd);\n",
       "            observer.disconnect();\n",
       "        }}\n",
       "}});\n",
       "\n",
       "// Listen for the removal of the full notebook cells\n",
       "var notebookContainer = gd.closest('#notebook-container');\n",
       "if (notebookContainer) {{\n",
       "    x.observe(notebookContainer, {childList: true});\n",
       "}}\n",
       "\n",
       "// Listen for the clearing of the current output cell\n",
       "var outputEl = gd.closest('.output');\n",
       "if (outputEl) {{\n",
       "    x.observe(outputEl, {childList: true});\n",
       "}}\n",
       "\n",
       "                        })                };                });            </script>        </div>"
      ]
     },
     "metadata": {},
     "output_type": "display_data"
    }
   ],
   "source": [
    "import matplotlib.pyplot as plt\n",
    "import plotly.graph_objects as go\n",
    "fig = go.Figure()\n",
    "\n",
    "# Creating a line graph to visualize the trend of construction ->>>\n",
    "# ->>> value over the years for different countries\n",
    "\n",
    "for country in countries:\n",
    "    country_data = filtered_df2[filtered_df2['Country Name'] == country]\n",
    "    fig.add_trace(go.Scatter(\n",
    "        x=country_data['Year'],\n",
    "        y=country_data['Value'],\n",
    "        name=country,\n",
    "        mode='lines'\n",
    "    ))\n",
    "\n",
    "fig.update_layout(\n",
    "    title='Construction Value Trend',\n",
    "    xaxis=dict(title='Year'),\n",
    "    yaxis=dict(title='Construction Value')\n",
    ")\n",
    "\n",
    "fig.show()\n",
    "fig.write_html(\"C:/Users/farha/Downloads/TrendByYear.html\")\n"
   ]
  },
  {
   "cell_type": "markdown",
   "id": "e2331936",
   "metadata": {},
   "source": [
    "### Statistic tests\n",
    "- T-Test\n",
    "- ANOVA\n",
    "- Chi-Squared Test\n",
    "- Paired T-Test\n",
    "- Wilcoxon Signed Rank Test"
   ]
  },
  {
   "cell_type": "code",
   "execution_count": 104,
   "id": "3984a4aa",
   "metadata": {},
   "outputs": [
    {
     "name": "stdout",
     "output_type": "stream",
     "text": [
      "T-Test Results:\n",
      "===============\n",
      "Ireland vs Sweden: t-statistic = 1.4124230542434684 p-value = 0.16747753729869475\n",
      "Ireland vs Switzerland: t-statistic = 1.227952481388693 p-value = 0.22842079252209954\n",
      "Sweden vs Switzerland: t-statistic = -0.5625533964337365 p-value = 0.5776591541114199\n",
      "\n",
      "ANOVA Results:\n",
      "==============\n",
      "ANOVA F-statistic = 1.657043915733714 p-value = 3.689646564388049e-21\n",
      "\n",
      "Chi-Squared Test Results:\n",
      "=========================\n",
      "Chi2 statistic = 102.0 p-value = 3.689646564388049e-21\n",
      "\n",
      "Paired T-Test Results:\n",
      "======================\n",
      "Ireland vs Sweden: t-statistic = 1.587616756171199 p-value = 0.1319359620096256\n",
      "Sweden vs Switzerland: t-statistic = -1.0578889035293604 p-value = 0.3058171943133871\n",
      "Switzerland vs Ireland: t-statistic = -1.2229915489311185 p-value = 0.2390414633474917\n",
      "\n",
      "Wilcoxon Signed-Rank Test Results:\n",
      "==============================\n",
      "Ireland vs Sweden: test statistic = 45.0 p-value = 0.1454315185546875\n",
      "Sweden vs Switzerland: test statistic = 53.0 p-value = 0.2841644287109375\n",
      "Switzerland vs Ireland: test statistic = 66.0 p-value = 0.644134521484375\n"
     ]
    }
   ],
   "source": [
    "from scipy import stats\n",
    "import pandas as pd\n",
    "\n",
    "# Filtered dataset for the countries of interest\n",
    "ireland_values = filtered_df2[filtered_df2['Country Name'] == 'Ireland']['Value']\n",
    "sweden_values = filtered_df2[filtered_df2['Country Name'] == 'Sweden']['Value']\n",
    "switzerland_values = filtered_df2[filtered_df2['Country Name'] == 'Switzerland']['Value']\n",
    "\n",
    "# T-Test\n",
    "t_stat_ireland_sweden, p_value_ireland_sweden = stats.ttest_ind(ireland_values, sweden_values)\n",
    "t_stat_ireland_switzerland, p_value_ireland_switzerland = stats.ttest_ind(ireland_values, switzerland_values)\n",
    "t_stat_sweden_switzerland, p_value_sweden_switzerland = stats.ttest_ind(sweden_values, switzerland_values)\n",
    "\n",
    "# ANOVA\n",
    "f_stat, p_value = stats.f_oneway(ireland_values, sweden_values, switzerland_values)\n",
    "\n",
    "# Chi-Squared Test\n",
    "observed_values = pd.crosstab(filtered_df2['Country Name'], filtered_df2['Color'])\n",
    "chi2_stat, p_value, _, _ = stats.chi2_contingency(observed_values)\n",
    "\n",
    "# Paired T-Test\n",
    "if len(ireland_values) == len(sweden_values) == len(switzerland_values):\n",
    "    t_stat_ireland, p_value_ireland = stats.ttest_rel(ireland_values, sweden_values)\n",
    "    t_stat_sweden, p_value_sweden = stats.ttest_rel(sweden_values, switzerland_values)\n",
    "    t_stat_switzerland, p_value_switzerland = stats.ttest_rel(switzerland_values, ireland_values)\n",
    "else:\n",
    "    t_stat_ireland, p_value_ireland = float('nan'), float('nan')\n",
    "    t_stat_sweden, p_value_sweden = float('nan'), float('nan')\n",
    "    t_stat_switzerland, p_value_switzerland = float('nan'), float('nan')\n",
    "\n",
    "# Wilcoxon Signed-Rank Test\n",
    "if len(ireland_values) == len(sweden_values) == len(switzerland_values):\n",
    "    stat_ireland, p_value_wilcoxon_ireland = stats.wilcoxon(ireland_values, sweden_values)\n",
    "    stat_sweden, p_value_wilcoxon_sweden = stats.wilcoxon(sweden_values, switzerland_values)\n",
    "    stat_switzerland, p_value_wilcoxon_switzerland = stats.wilcoxon(switzerland_values, ireland_values)\n",
    "else:\n",
    "    stat_ireland, p_value_wilcoxon_ireland = float('nan'), float('nan')\n",
    "    stat_sweden, p_value_wilcoxon_sweden = float('nan'), float('nan')\n",
    "    stat_switzerland, p_value_wilcoxon_switzerland = float('nan'), float('nan')\n",
    "\n",
    "# Print the results\n",
    "print(\"T-Test Results:\")\n",
    "print(\"===============\")\n",
    "print(\"Ireland vs Sweden: t-statistic =\", t_stat_ireland_sweden, \"p-value =\", p_value_ireland_sweden)\n",
    "print(\"Ireland vs Switzerland: t-statistic =\", t_stat_ireland_switzerland, \"p-value =\", p_value_ireland_switzerland)\n",
    "print(\"Sweden vs Switzerland: t-statistic =\", t_stat_sweden_switzerland, \"p-value =\", p_value_sweden_switzerland)\n",
    "\n",
    "print(\"\\nANOVA Results:\")\n",
    "print(\"==============\")\n",
    "print(\"ANOVA F-statistic =\", f_stat, \"p-value =\", p_value)\n",
    "\n",
    "print(\"\\nChi-Squared Test Results:\")\n",
    "print(\"=========================\")\n",
    "print(\"Chi2 statistic =\", chi2_stat, \"p-value =\", p_value)\n",
    "\n",
    "print(\"\\nPaired T-Test Results:\")\n",
    "print(\"======================\")\n",
    "print(\"Ireland vs Sweden: t-statistic =\", t_stat_ireland, \"p-value =\", p_value_ireland)\n",
    "print(\"Sweden vs Switzerland: t-statistic =\", t_stat_sweden, \"p-value =\", p_value_sweden)\n",
    "print(\"Switzerland vs Ireland: t-statistic =\", t_stat_switzerland, \"p-value =\", p_value_switzerland)\n",
    "\n",
    "print(\"\\nWilcoxon Signed-Rank Test Results:\")\n",
    "print(\"==============================\")\n",
    "print(\"Ireland vs Sweden: test statistic =\", stat_ireland, \"p-value =\", p_value_wilcoxon_ireland)\n",
    "print(\"Sweden vs Switzerland: test statistic =\", stat_sweden, \"p-value =\", p_value_wilcoxon_sweden)\n",
    "print(\"Switzerland vs Ireland: test statistic =\", stat_switzerland, \"p-value =\", p_value_wilcoxon_switzerland)\n",
    "\n"
   ]
  },
  {
   "cell_type": "markdown",
   "id": "221cecc1",
   "metadata": {},
   "source": [
    "# Machine - Learning"
   ]
  },
  {
   "cell_type": "code",
   "execution_count": 28,
   "id": "40e6e963",
   "metadata": {},
   "outputs": [],
   "source": [
    "from sklearn.model_selection import train_test_split\n",
    "from sklearn.linear_model import LinearRegression\n",
    "from sklearn.ensemble import RandomForestRegressor\n",
    "from sklearn.tree import DecisionTreeRegressor\n",
    "from sklearn.metrics import mean_squared_error, r2_score\n",
    "from sklearn.preprocessing import LabelEncoder"
   ]
  },
  {
   "cell_type": "code",
   "execution_count": 29,
   "id": "c425d032",
   "metadata": {},
   "outputs": [],
   "source": [
    "# Creating a new dataframe for making 'Year' column as an index so I can use it for merg\n",
    "timedf=df2.set_index('Year')"
   ]
  },
  {
   "cell_type": "markdown",
   "id": "f6a18cf8",
   "metadata": {},
   "source": [
    "Supervised Learning"
   ]
  },
  {
   "cell_type": "code",
   "execution_count": 30,
   "id": "7e71c20b",
   "metadata": {},
   "outputs": [
    {
     "name": "stdout",
     "output_type": "stream",
     "text": [
      "Mean Squared Error: 38.923659550917236\n"
     ]
    }
   ],
   "source": [
    "#In this code, we are working on a machine learning task to predict the 'Value' based on the 'Country Name' and 'Year' features\n",
    "\n",
    "# Splitting the data into training and testing sets\n",
    "X = df2[['Country Name','Year']].values  # Features\n",
    "y = df2['Value'].values  # Target variable\n",
    "X_train, X_test, y_train, y_test = train_test_split(X, y, test_size=0.2, random_state=42)\n",
    "\n",
    "# Preprocessing: Label encoding for 'Country Name' column\n",
    "le = LabelEncoder()\n",
    "X_train[:, 0] = le.fit_transform(X_train[:, 0])\n",
    "X_test[:, 0] = le.transform(X_test[:, 0])\n",
    "\n",
    "\n",
    "# Creating a Random Forest Regression model\n",
    "model = RandomForestRegressor()\n",
    "\n",
    "# Fitting the model to the training data\n",
    "model.fit(X_train, y_train)\n",
    "\n",
    "# Making predictions on the test data\n",
    "y_pred = model.predict(X_test)\n",
    "\n",
    "# Evaluating the model's performance\n",
    "mse = mean_squared_error(y_test, y_pred)\n",
    "print(\"Mean Squared Error:\", mse)"
   ]
  },
  {
   "cell_type": "code",
   "execution_count": 31,
   "id": "001a7d9e",
   "metadata": {},
   "outputs": [],
   "source": [
    "from sklearn.metrics import accuracy_score\n",
    "from sklearn.tree import DecisionTreeClassifier\n",
    "from sklearn.ensemble import RandomForestClassifier\n",
    "from sklearn.model_selection import GridSearchCV\n"
   ]
  },
  {
   "cell_type": "code",
   "execution_count": 32,
   "id": "f427fb78",
   "metadata": {
    "scrolled": true
   },
   "outputs": [
    {
     "name": "stdout",
     "output_type": "stream",
     "text": [
      "Best Parameters: {'criterion': 'gini', 'max_depth': 5, 'min_samples_split': 2}\n",
      "Best Score: 0.029712106299212598\n",
      "Accuracy: 0.0375\n"
     ]
    }
   ],
   "source": [
    "# Splitting the data into features (X) and target variable (y)\n",
    "X = df2.drop(['Country Name', 'Country Code'], axis=1)\n",
    "y = df2['Country Name']\n",
    "\n",
    "# Splitting the data into training and testing sets\n",
    "X_train, X_test, y_train, y_test = train_test_split(X, y, test_size=0.2, random_state=42)\n",
    "\n",
    "# Defining the parameter grid\n",
    "param_grid = {\n",
    "    'criterion': ['gini', 'entropy'],\n",
    "    'max_depth': [3, 5, 7],\n",
    "    'min_samples_split': [2, 5, 10]\n",
    "}\n",
    "\n",
    "# Creating an instance of the model\n",
    "model = DecisionTreeClassifier()\n",
    "\n",
    "# Creating an instance of GridSearchCV\n",
    "grid_search = GridSearchCV(model, param_grid, scoring='accuracy', cv=5)\n",
    "\n",
    "# Fitting the GridSearchCV instance to the training data\n",
    "grid_search.fit(X_train, y_train)\n",
    "\n",
    "# Getting the best parameters and best score\n",
    "best_params = grid_search.best_params_\n",
    "best_score = grid_search.best_score_\n",
    "\n",
    "# Using the best model to make predictions on the test data\n",
    "best_model = grid_search.best_estimator_\n",
    "y_pred = best_model.predict(X_test)\n",
    "\n",
    "# Evaluating the accuracy of the best model\n",
    "accuracy = accuracy_score(y_test, y_pred)\n",
    "\n",
    "print(\"Best Parameters:\", best_params)\n",
    "print(\"Best Score:\", best_score)\n",
    "print(\"Accuracy:\", accuracy)\n"
   ]
  },
  {
   "cell_type": "code",
   "execution_count": 33,
   "id": "51e69745",
   "metadata": {},
   "outputs": [],
   "source": [
    "timedf = df2.set_index('Year')"
   ]
  },
  {
   "cell_type": "code",
   "execution_count": 34,
   "id": "1a32e096",
   "metadata": {},
   "outputs": [
    {
     "name": "stdout",
     "output_type": "stream",
     "text": [
      "      Country Name_x Country Code_x    Value_x  Country Name_y  \\\n",
      "0        Afghanistan            AFG  12.991724     Afghanistan   \n",
      "1        Afghanistan            AFG  12.991724         Albania   \n",
      "2        Afghanistan            AFG  12.991724         Algeria   \n",
      "3        Afghanistan            AFG  12.991724          Angola   \n",
      "4        Afghanistan            AFG  12.991724         Austria   \n",
      "...              ...            ...        ...             ...   \n",
      "1098  United Kingdom            GBR   9.121389          Sweden   \n",
      "1099  United Kingdom            GBR   9.121389     Switzerland   \n",
      "1100  United Kingdom            GBR   9.121389         Turkiye   \n",
      "1101  United Kingdom            GBR   9.121389         Ukraine   \n",
      "1102  United Kingdom            GBR   9.121389  United Kingdom   \n",
      "\n",
      "      Country Code_y  Year    Value_y  \n",
      "0                  0  2005  12.991724  \n",
      "1                  2  2005   6.003946  \n",
      "2                 11  2005   5.996272  \n",
      "3                  1  2005  20.495932  \n",
      "4                  3  2005   2.033323  \n",
      "...              ...   ...        ...  \n",
      "1098              44  2021   5.717421  \n",
      "1099               7  2021   7.905480  \n",
      "1100              45  2021  12.463515  \n",
      "1101              46  2021   2.565629  \n",
      "1102              16  2021   9.121389  \n",
      "\n",
      "[37553 rows x 7 columns]\n"
     ]
    }
   ],
   "source": [
    "# Encoding the country code labels\n",
    "encoder = LabelEncoder()\n",
    "df2['Country Code'] = encoder.fit_transform(df2['Country Code'])\n",
    "\n",
    "# Splitting the data into labeled and unlabeled sets\n",
    "labeled_data = df2[df2['Value'].notnull()]\n",
    "unlabeled_data = df2[df2['Value'].isnull()]\n",
    "\n",
    "# Checking if labeled data is empty\n",
    "if labeled_data.empty:\n",
    "    print(\"No labeled data available. Ensure that you have at least one labeled sample.\")\n",
    "    exit()\n",
    "\n",
    "# Selected the features and target for training\n",
    "X_train = labeled_data[['Country Code', 'Year']]\n",
    "y_train = labeled_data['Value']\n",
    "\n",
    "# Initialized the LinearRegression model\n",
    "model = LinearRegression()\n",
    "\n",
    "# Fitting the model to the labeled data\n",
    "model.fit(X_train, y_train)\n",
    "\n",
    "# Checked if unlabeled data is empty\n",
    "if not unlabeled_data.empty:\n",
    "    # Predicted the values for the unlabeled data\n",
    "    unlabeled_data['Value'] = model.predict(unlabeled_data[['Country Code', 'Year']])\n",
    "\n",
    "# Combined labeled and unlabeled data\n",
    "merged_data = pd.concat([labeled_data, unlabeled_data])\n",
    "\n",
    "# Merged with 'timedf' to include the 'Year' index\n",
    "final_data = timedf.merge(merged_data, how='left', left_index=True, right_on='Year')\n",
    "\n",
    "print(final_data)\n"
   ]
  },
  {
   "cell_type": "code",
   "execution_count": 38,
   "id": "f352982b",
   "metadata": {},
   "outputs": [
    {
     "name": "stdout",
     "output_type": "stream",
     "text": [
      "Mean Score: -0.23089750844737722\n"
     ]
    }
   ],
   "source": [
    "from sklearn.model_selection import cross_val_score\n",
    "\n",
    "# Initializing the RandomForestRegressor model\n",
    "model = RandomForestRegressor()\n",
    "\n",
    "# Performing cross-validation\n",
    "scores = cross_val_score(model, X_train, y_train, cv=5)  # Change cv value as needed\n",
    "\n",
    "print(\"Mean Score:\", scores.mean())\n"
   ]
  },
  {
   "cell_type": "code",
   "execution_count": 39,
   "id": "6202ed68",
   "metadata": {},
   "outputs": [
    {
     "name": "stdout",
     "output_type": "stream",
     "text": [
      "Mean Score: -0.2393321511069603\n"
     ]
    }
   ],
   "source": [
    "\n",
    "#LinearRegression model\n",
    "model = LinearRegression()\n",
    "\n",
    "# cross-validation\n",
    "scores = cross_val_score(model, X_train, y_train, cv=5)  # Change cv value as needed\n",
    "\n",
    "print(\"Mean Score:\", scores.mean())\n"
   ]
  },
  {
   "cell_type": "code",
   "execution_count": 40,
   "id": "c7a90669",
   "metadata": {},
   "outputs": [
    {
     "name": "stdout",
     "output_type": "stream",
     "text": [
      "Mean Score: -0.5413733271512928\n"
     ]
    }
   ],
   "source": [
    "\n",
    "# DecisionTreeRegressor model\n",
    "model = DecisionTreeRegressor()\n",
    "\n",
    "# cross-validation\n",
    "scores = cross_val_score(model, X_train, y_train, cv=5)  # Change cv value as needed\n",
    "\n",
    "print(\"Mean Score:\", scores.mean())\n"
   ]
  },
  {
   "cell_type": "code",
   "execution_count": 41,
   "id": "7d9657ea",
   "metadata": {},
   "outputs": [
    {
     "name": "stdout",
     "output_type": "stream",
     "text": [
      "Requirement already satisfied: xgboost in c:\\users\\farha\\anaconda3\\lib\\site-packages (1.7.5)\n",
      "Requirement already satisfied: numpy in c:\\users\\farha\\anaconda3\\lib\\site-packages (from xgboost) (1.24.3)\n",
      "Requirement already satisfied: scipy in c:\\users\\farha\\anaconda3\\lib\\site-packages (from xgboost) (1.10.1)\n"
     ]
    }
   ],
   "source": [
    "!pip install xgboost"
   ]
  },
  {
   "cell_type": "code",
   "execution_count": 42,
   "id": "5dd21338",
   "metadata": {},
   "outputs": [],
   "source": [
    "from xgboost import XGBRegressor\n",
    "from sklearn.svm import SVR\n",
    "from sklearn.metrics import mean_squared_error"
   ]
  },
  {
   "cell_type": "code",
   "execution_count": 43,
   "id": "e42111e7",
   "metadata": {},
   "outputs": [
    {
     "name": "stdout",
     "output_type": "stream",
     "text": [
      "Decision Tree: RMSE = 6.462504774390294\n",
      "Linear Regression: RMSE = 6.156276515127856\n",
      "Random Forest: RMSE = 5.719146521708382\n",
      "XGBoost: RMSE = 5.800716691433963\n",
      "Support Vector Regression: RMSE = 6.096545800277866\n"
     ]
    }
   ],
   "source": [
    "\n",
    "\n",
    "# Split the data into features and target\n",
    "X = df2[['Country Code', 'Year']]\n",
    "y = df2['Value']\n",
    "\n",
    "# Split the data into train and test sets\n",
    "X_train, X_test, y_train, y_test = train_test_split(X, y, test_size=0.2, random_state=42)\n",
    "\n",
    "# Initialize the models\n",
    "models = {\n",
    "    'Decision Tree': DecisionTreeRegressor(),\n",
    "    'Linear Regression': LinearRegression(),\n",
    "    'Random Forest': RandomForestRegressor(),\n",
    "    'XGBoost': XGBRegressor(),\n",
    "    'Support Vector Regression': SVR()\n",
    "}\n",
    "\n",
    "# Train and evaluate each model\n",
    "for model_name, model in models.items():\n",
    "    # Train the model\n",
    "    model.fit(X_train, y_train)\n",
    "    \n",
    "    # Make predictions on the test set\n",
    "    y_pred = model.predict(X_test)\n",
    "    \n",
    "    # Calculate the root mean squared error\n",
    "    rmse = mean_squared_error(y_test, y_pred, squared=False)\n",
    "    \n",
    "    print(f'{model_name}: RMSE = {rmse}')\n"
   ]
  },
  {
   "cell_type": "code",
   "execution_count": 45,
   "id": "9860b56d",
   "metadata": {},
   "outputs": [
    {
     "data": {
      "image/png": "[encoded data removed]",
      "text/plain": [
       "<Figure size 640x480 with 1 Axes>"
      ]
     },
     "metadata": {},
     "output_type": "display_data"
    }
   ],
   "source": [
    "import matplotlib.pyplot as plt\n",
    "# Model names and corresponding RMSE values\n",
    "model_names = ['Decision Tree', 'Linear Regression', 'Random Forest', 'XGBoost', 'Support Vector Regression']\n",
    "rmse_values = [6.4625, 6.1563, 5.7074, 5.8007, 6.0965]\n",
    "training_times = [10, 20, 30, 15, 25]  # Example additional metric\n",
    "\n",
    "# Create a scatter plot\n",
    "plt.scatter(training_times, rmse_values)\n",
    "plt.xlabel('Training Time')\n",
    "plt.ylabel('RMSE')\n",
    "plt.title('Comparison of Machine Learning Models')\n",
    "\n",
    "# Add labels for each point\n",
    "for i, model in enumerate(model_names):\n",
    "    plt.annotate(model, (training_times[i], rmse_values[i]))\n",
    "\n",
    "# Display the plot\n",
    "plt.show()\n"
   ]
  },
  {
   "cell_type": "code",
   "execution_count": null,
   "id": "8e886044",
   "metadata": {},
   "outputs": [],
   "source": []
  },
  {
   "cell_type": "markdown",
   "id": "6645c57c",
   "metadata": {},
   "source": [
    "# Sentiment Analys\n",
    "## Reddit Api"
   ]
  },
  {
   "cell_type": "code",
   "execution_count": 46,
   "id": "131010bb",
   "metadata": {},
   "outputs": [
    {
     "name": "stdout",
     "output_type": "stream",
     "text": [
      "Requirement already satisfied: praw in c:\\users\\farha\\anaconda3\\lib\\site-packages (7.7.0)\n",
      "Requirement already satisfied: prawcore<3,>=2.1 in c:\\users\\farha\\anaconda3\\lib\\site-packages (from praw) (2.3.0)\n",
      "Requirement already satisfied: update-checker>=0.18 in c:\\users\\farha\\anaconda3\\lib\\site-packages (from praw) (0.18.0)\n",
      "Requirement already satisfied: websocket-client>=0.54.0 in c:\\users\\farha\\anaconda3\\lib\\site-packages (from praw) (0.58.0)\n",
      "Requirement already satisfied: requests<3.0,>=2.6.0 in c:\\users\\farha\\anaconda3\\lib\\site-packages (from prawcore<3,>=2.1->praw) (2.29.0)\n",
      "Requirement already satisfied: six in c:\\users\\farha\\anaconda3\\lib\\site-packages (from websocket-client>=0.54.0->praw) (1.16.0)\n",
      "Requirement already satisfied: charset-normalizer<4,>=2 in c:\\users\\farha\\anaconda3\\lib\\site-packages (from requests<3.0,>=2.6.0->prawcore<3,>=2.1->praw) (2.0.4)\n",
      "Requirement already satisfied: urllib3<1.27,>=1.21.1 in c:\\users\\farha\\anaconda3\\lib\\site-packages (from requests<3.0,>=2.6.0->prawcore<3,>=2.1->praw) (1.26.15)\n",
      "Requirement already satisfied: certifi>=2017.4.17 in c:\\users\\farha\\anaconda3\\lib\\site-packages (from requests<3.0,>=2.6.0->prawcore<3,>=2.1->praw) (2023.5.7)\n",
      "Requirement already satisfied: idna<4,>=2.5 in c:\\users\\farha\\anaconda3\\lib\\site-packages (from requests<3.0,>=2.6.0->prawcore<3,>=2.1->praw) (3.4)\n"
     ]
    }
   ],
   "source": [
    "!pip install praw"
   ]
  },
  {
   "cell_type": "code",
   "execution_count": 47,
   "id": "19544b3b",
   "metadata": {},
   "outputs": [],
   "source": [
    "import praw"
   ]
  },
  {
   "cell_type": "code",
   "execution_count": 48,
   "id": "fe2636a6",
   "metadata": {},
   "outputs": [],
   "source": [
    "reddit = praw.Reddit(client_id='-ko9bC2YWTbDzNpiZ3wFlw',\n",
    "                     client_secret='r-PcIjLVWy7QL_U_ueWqGA8MWFCiuw',\n",
    "                     user_agent='Assesment',\n",
    "                     username='ObiWanCannnabis',\n",
    "                     password='Ferhad7879')"
   ]
  },
  {
   "cell_type": "code",
   "execution_count": 49,
   "id": "d26cc6c6",
   "metadata": {},
   "outputs": [
    {
     "name": "stdout",
     "output_type": "stream",
     "text": [
      "                                                 text\n",
      "0   Some people live in never never land where mat...\n",
      "0   50k atleast you know this cunt is gonna be a p...\n",
      "0   Is it possible the client understands that the...\n",
      "0                  12K for what? Demo? Total remodel?\n",
      "0   Looks like a manufactured home. Tell him he’s ...\n",
      "..                                                ...\n",
      "0   Ok, come back in about 15 mins, and see what h...\n",
      "0   Did you Google zero hour contracts? Simple yes...\n",
      "0   I know exactly what they are, there were only ...\n",
      "0   Are you still high! Earlier you suggested havi...\n",
      "0   You are so far out of your element I’m guessin...\n",
      "\n",
      "[446 rows x 1 columns]\n"
     ]
    }
   ],
   "source": [
    "post = reddit.submission(url='https://www.reddit.com/r/Construction/comments/wh4auy/he_wants_a_more_realistic_price_range/')\n",
    "text =pd.DataFrame(columns=['text'])\n",
    "\n",
    "post.comments.replace_more(limit=100)\n",
    "for comment in post.comments.list():\n",
    "     text = pd.concat([text, pd.DataFrame({'text': [comment.body]})])\n",
    "print(text)"
   ]
  },
  {
   "cell_type": "code",
   "execution_count": 50,
   "id": "d7cb2b53",
   "metadata": {},
   "outputs": [],
   "source": [
    "# First I install transformers in anaconda prompt\n",
    "# conda install transformers"
   ]
  },
  {
   "cell_type": "code",
   "execution_count": 51,
   "id": "00ef241f",
   "metadata": {},
   "outputs": [
    {
     "name": "stderr",
     "output_type": "stream",
     "text": [
      "[nltk_data] Downloading package stopwords to\n",
      "[nltk_data]     C:\\Users\\farha\\AppData\\Roaming\\nltk_data...\n",
      "[nltk_data]   Package stopwords is already up-to-date!\n"
     ]
    }
   ],
   "source": [
    "import nltk\n",
    "import re\n",
    "nltk.download('stopwords')\n",
    "import time\n",
    "from sklearn.preprocessing import LabelEncoder\n",
    "from sklearn.model_selection import train_test_split\n",
    "from sklearn.metrics import confusion_matrix,accuracy_score,classification_report,precision_score\n",
    "import matplotlib.pyplot as plt\n",
    "from tqdm import tqdm\n",
    "from transformers import AutoTokenizer\n",
    "from transformers import AutoModelForSequenceClassification\n",
    "from transformers import AutoModelForTokenClassification\n",
    "from transformers import pipeline\n",
    "from transformers import AutoModel\n",
    "from scipy.special import softmax\n",
    "from transformers import ElectraForSequenceClassification\n",
    "from nltk.tokenize import word_tokenize\n",
    "from nltk.corpus import stopwords\n",
    "import pandas as pd\n",
    "from tqdm import tqdm\n",
    "import sys"
   ]
  },
  {
   "cell_type": "code",
   "execution_count": 52,
   "id": "df6228d4",
   "metadata": {},
   "outputs": [
    {
     "name": "stderr",
     "output_type": "stream",
     "text": [
      "Some weights of the model checkpoint at cardiffnlp/twitter-roberta-base-sentiment-latest were not used when initializing RobertaForSequenceClassification: ['roberta.pooler.dense.weight', 'roberta.pooler.dense.bias']\n",
      "- This IS expected if you are initializing RobertaForSequenceClassification from the checkpoint of a model trained on another task or with another architecture (e.g. initializing a BertForSequenceClassification model from a BertForPreTraining model).\n",
      "- This IS NOT expected if you are initializing RobertaForSequenceClassification from the checkpoint of a model that you expect to be exactly identical (initializing a BertForSequenceClassification model from a BertForSequenceClassification model).\n",
      "Xformers is not installed correctly. If you want to use memorry_efficient_attention to accelerate training use the following command to install Xformers\n",
      "pip install xformers.\n",
      "100%|████████████████████████████████████████████████████████████████████████████████| 446/446 [25:29<00:00,  3.43s/it]\n"
     ]
    }
   ],
   "source": [
    "def clean_text(text):\n",
    "    text=re.sub(r'@[A-Za-z0-9]+','',text)\n",
    "    text=re.sub(r'\\n','',text)\n",
    "    text=re.sub(r'/','',text)\n",
    "    text=re.sub(r'#','',text)\n",
    "    text=re.sub(r'RT[\\s]+','',text)\n",
    "    text=re.sub(r'https?://\\S+','',text)\n",
    "    return text\n",
    "text['text']=text['text'].apply(clean_text)\n",
    "def implementing_sentiment_model(model_name):\n",
    "\n",
    "    tokenizer= AutoTokenizer.from_pretrained(model_name)\n",
    "    model= AutoModelForSequenceClassification.from_pretrained(model_name)\n",
    "    sa= pipeline(\"sentiment-analysis\", tokenizer=tokenizer, model=model)\n",
    "    return sa\n",
    "\n",
    "sent_model=implementing_sentiment_model(\"cardiffnlp/twitter-roberta-base-sentiment-latest\")\n",
    "#Verilerin skorlanması\n",
    "def scoring_sentiment(data,model,content_columns_name):\n",
    "    savasy_list=[]\n",
    "    for i , row in tqdm(data.iterrows(), total=len(data)):\n",
    "        try:\n",
    "            sent_an=model(row[content_columns_name])\n",
    "            norm_val=sent_an[0]['score']\n",
    "            savasy_list.append([sent_an[0]['label'],norm_val,row[content_columns_name]])\n",
    "        except:\n",
    "            continue\n",
    "    reddit_df=pd.DataFrame(savasy_list,columns=['label','score','article'])\n",
    "    return reddit_df\n",
    "\n",
    "scored_data=scoring_sentiment(text,sent_model,'text') \n",
    "\n",
    "reddit_df=pd.DataFrame(scored_data,columns=['label','score','article'])"
   ]
  },
  {
   "cell_type": "code",
   "execution_count": 53,
   "id": "8234f3ce",
   "metadata": {},
   "outputs": [
    {
     "data": {
      "text/html": [
       "<div>\n",
       "<style scoped>\n",
       "    .dataframe tbody tr th:only-of-type {\n",
       "        vertical-align: middle;\n",
       "    }\n",
       "\n",
       "    .dataframe tbody tr th {\n",
       "        vertical-align: top;\n",
       "    }\n",
       "\n",
       "    .dataframe thead th {\n",
       "        text-align: right;\n",
       "    }\n",
       "</style>\n",
       "<table border=\"1\" class=\"dataframe\">\n",
       "  <thead>\n",
       "    <tr style=\"text-align: right;\">\n",
       "      <th></th>\n",
       "      <th>label</th>\n",
       "      <th>score</th>\n",
       "      <th>article</th>\n",
       "    </tr>\n",
       "  </thead>\n",
       "  <tbody>\n",
       "    <tr>\n",
       "      <th>0</th>\n",
       "      <td>neutral</td>\n",
       "      <td>0.561570</td>\n",
       "      <td>Some people live in never never land where mat...</td>\n",
       "    </tr>\n",
       "    <tr>\n",
       "      <th>1</th>\n",
       "      <td>negative</td>\n",
       "      <td>0.934808</td>\n",
       "      <td>50k atleast you know this cunt is gonna be a p...</td>\n",
       "    </tr>\n",
       "    <tr>\n",
       "      <th>2</th>\n",
       "      <td>negative</td>\n",
       "      <td>0.727555</td>\n",
       "      <td>Is it possible the client understands that the...</td>\n",
       "    </tr>\n",
       "    <tr>\n",
       "      <th>3</th>\n",
       "      <td>neutral</td>\n",
       "      <td>0.845761</td>\n",
       "      <td>12K for what? Demo? Total remodel?</td>\n",
       "    </tr>\n",
       "    <tr>\n",
       "      <th>4</th>\n",
       "      <td>negative</td>\n",
       "      <td>0.892382</td>\n",
       "      <td>Looks like a manufactured home. Tell him he’s ...</td>\n",
       "    </tr>\n",
       "    <tr>\n",
       "      <th>...</th>\n",
       "      <td>...</td>\n",
       "      <td>...</td>\n",
       "      <td>...</td>\n",
       "    </tr>\n",
       "    <tr>\n",
       "      <th>441</th>\n",
       "      <td>neutral</td>\n",
       "      <td>0.810056</td>\n",
       "      <td>Ok, come back in about 15 mins, and see what h...</td>\n",
       "    </tr>\n",
       "    <tr>\n",
       "      <th>442</th>\n",
       "      <td>negative</td>\n",
       "      <td>0.707285</td>\n",
       "      <td>Did you Google zero hour contracts? Simple yes...</td>\n",
       "    </tr>\n",
       "    <tr>\n",
       "      <th>443</th>\n",
       "      <td>negative</td>\n",
       "      <td>0.584738</td>\n",
       "      <td>I know exactly what they are, there were only ...</td>\n",
       "    </tr>\n",
       "    <tr>\n",
       "      <th>444</th>\n",
       "      <td>negative</td>\n",
       "      <td>0.790443</td>\n",
       "      <td>Are you still high! Earlier you suggested havi...</td>\n",
       "    </tr>\n",
       "    <tr>\n",
       "      <th>445</th>\n",
       "      <td>negative</td>\n",
       "      <td>0.920428</td>\n",
       "      <td>You are so far out of your element I’m guessin...</td>\n",
       "    </tr>\n",
       "  </tbody>\n",
       "</table>\n",
       "<p>446 rows × 3 columns</p>\n",
       "</div>"
      ],
      "text/plain": [
       "        label     score                                            article\n",
       "0     neutral  0.561570  Some people live in never never land where mat...\n",
       "1    negative  0.934808  50k atleast you know this cunt is gonna be a p...\n",
       "2    negative  0.727555  Is it possible the client understands that the...\n",
       "3     neutral  0.845761                 12K for what? Demo? Total remodel?\n",
       "4    negative  0.892382  Looks like a manufactured home. Tell him he’s ...\n",
       "..        ...       ...                                                ...\n",
       "441   neutral  0.810056  Ok, come back in about 15 mins, and see what h...\n",
       "442  negative  0.707285  Did you Google zero hour contracts? Simple yes...\n",
       "443  negative  0.584738  I know exactly what they are, there were only ...\n",
       "444  negative  0.790443  Are you still high! Earlier you suggested havi...\n",
       "445  negative  0.920428  You are so far out of your element I’m guessin...\n",
       "\n",
       "[446 rows x 3 columns]"
      ]
     },
     "execution_count": 53,
     "metadata": {},
     "output_type": "execute_result"
    }
   ],
   "source": [
    "reddit_df"
   ]
  },
  {
   "cell_type": "code",
   "execution_count": 106,
   "id": "7eb14ab9",
   "metadata": {},
   "outputs": [
    {
     "data": {
      "application/vnd.plotly.v1+json": {
       "config": {
        "plotlyServerURL": "https://plot.ly"
       },
       "data": [
        {
         "alignmentgroup": "True",
         "hovertemplate": "label=%{x}<br>Average Score=%{y}<extra></extra>",
         "legendgroup": "negative",
         "marker": {
          "color": "#636efa",
          "pattern": {
           "shape": ""
          }
         },
         "name": "negative",
         "offsetgroup": "negative",
         "orientation": "v",
         "showlegend": true,
         "textposition": "auto",
         "type": "bar",
         "x": [
          "negative"
         ],
         "xaxis": "x",
         "y": [
          0.7338889121721333
         ],
         "yaxis": "y"
        },
        {
         "alignmentgroup": "True",
         "hovertemplate": "label=%{x}<br>Average Score=%{y}<extra></extra>",
         "legendgroup": "neutral",
         "marker": {
          "color": "#EF553B",
          "pattern": {
           "shape": ""
          }
         },
         "name": "neutral",
         "offsetgroup": "neutral",
         "orientation": "v",
         "showlegend": true,
         "textposition": "auto",
         "type": "bar",
         "x": [
          "neutral"
         ],
         "xaxis": "x",
         "y": [
          0.6838368233673426
         ],
         "yaxis": "y"
        },
        {
         "alignmentgroup": "True",
         "hovertemplate": "label=%{x}<br>Average Score=%{y}<extra></extra>",
         "legendgroup": "positive",
         "marker": {
          "color": "#00cc96",
          "pattern": {
           "shape": ""
          }
         },
         "name": "positive",
         "offsetgroup": "positive",
         "orientation": "v",
         "showlegend": true,
         "textposition": "auto",
         "type": "bar",
         "x": [
          "positive"
         ],
         "xaxis": "x",
         "y": [
          0.731490069350531
         ],
         "yaxis": "y"
        }
       ],
       "layout": {
        "barmode": "relative",
        "legend": {
         "title": {
          "text": "label"
         },
         "tracegroupgap": 0
        },
        "template": {
         "data": {
          "bar": [
           {
            "error_x": {
             "color": "#2a3f5f"
            },
            "error_y": {
             "color": "#2a3f5f"
            },
            "marker": {
             "line": {
              "color": "#E5ECF6",
              "width": 0.5
             },
             "pattern": {
              "fillmode": "overlay",
              "size": 10,
              "solidity": 0.2
             }
            },
            "type": "bar"
           }
          ],
          "barpolar": [
           {
            "marker": {
             "line": {
              "color": "#E5ECF6",
              "width": 0.5
             },
             "pattern": {
              "fillmode": "overlay",
              "size": 10,
              "solidity": 0.2
             }
            },
            "type": "barpolar"
           }
          ],
          "carpet": [
           {
            "aaxis": {
             "endlinecolor": "#2a3f5f",
             "gridcolor": "white",
             "linecolor": "white",
             "minorgridcolor": "white",
             "startlinecolor": "#2a3f5f"
            },
            "baxis": {
             "endlinecolor": "#2a3f5f",
             "gridcolor": "white",
             "linecolor": "white",
             "minorgridcolor": "white",
             "startlinecolor": "#2a3f5f"
            },
            "type": "carpet"
           }
          ],
          "choropleth": [
           {
            "colorbar": {
             "outlinewidth": 0,
             "ticks": ""
            },
            "type": "choropleth"
           }
          ],
          "contour": [
           {
            "colorbar": {
             "outlinewidth": 0,
             "ticks": ""
            },
            "colorscale": [
             [
              0,
              "#0d0887"
             ],
             [
              0.1111111111111111,
              "#46039f"
             ],
             [
              0.2222222222222222,
              "#7201a8"
             ],
             [
              0.3333333333333333,
              "#9c179e"
             ],
             [
              0.4444444444444444,
              "#bd3786"
             ],
             [
              0.5555555555555556,
              "#d8576b"
             ],
             [
              0.6666666666666666,
              "#ed7953"
             ],
             [
              0.7777777777777778,
              "#fb9f3a"
             ],
             [
              0.8888888888888888,
              "#fdca26"
             ],
             [
              1,
              "#f0f921"
             ]
            ],
            "type": "contour"
           }
          ],
          "contourcarpet": [
           {
            "colorbar": {
             "outlinewidth": 0,
             "ticks": ""
            },
            "type": "contourcarpet"
           }
          ],
          "heatmap": [
           {
            "colorbar": {
             "outlinewidth": 0,
             "ticks": ""
            },
            "colorscale": [
             [
              0,
              "#0d0887"
             ],
             [
              0.1111111111111111,
              "#46039f"
             ],
             [
              0.2222222222222222,
              "#7201a8"
             ],
             [
              0.3333333333333333,
              "#9c179e"
             ],
             [
              0.4444444444444444,
              "#bd3786"
             ],
             [
              0.5555555555555556,
              "#d8576b"
             ],
             [
              0.6666666666666666,
              "#ed7953"
             ],
             [
              0.7777777777777778,
              "#fb9f3a"
             ],
             [
              0.8888888888888888,
              "#fdca26"
             ],
             [
              1,
              "#f0f921"
             ]
            ],
            "type": "heatmap"
           }
          ],
          "heatmapgl": [
           {
            "colorbar": {
             "outlinewidth": 0,
             "ticks": ""
            },
            "colorscale": [
             [
              0,
              "#0d0887"
             ],
             [
              0.1111111111111111,
              "#46039f"
             ],
             [
              0.2222222222222222,
              "#7201a8"
             ],
             [
              0.3333333333333333,
              "#9c179e"
             ],
             [
              0.4444444444444444,
              "#bd3786"
             ],
             [
              0.5555555555555556,
              "#d8576b"
             ],
             [
              0.6666666666666666,
              "#ed7953"
             ],
             [
              0.7777777777777778,
              "#fb9f3a"
             ],
             [
              0.8888888888888888,
              "#fdca26"
             ],
             [
              1,
              "#f0f921"
             ]
            ],
            "type": "heatmapgl"
           }
          ],
          "histogram": [
           {
            "marker": {
             "pattern": {
              "fillmode": "overlay",
              "size": 10,
              "solidity": 0.2
             }
            },
            "type": "histogram"
           }
          ],
          "histogram2d": [
           {
            "colorbar": {
             "outlinewidth": 0,
             "ticks": ""
            },
            "colorscale": [
             [
              0,
              "#0d0887"
             ],
             [
              0.1111111111111111,
              "#46039f"
             ],
             [
              0.2222222222222222,
              "#7201a8"
             ],
             [
              0.3333333333333333,
              "#9c179e"
             ],
             [
              0.4444444444444444,
              "#bd3786"
             ],
             [
              0.5555555555555556,
              "#d8576b"
             ],
             [
              0.6666666666666666,
              "#ed7953"
             ],
             [
              0.7777777777777778,
              "#fb9f3a"
             ],
             [
              0.8888888888888888,
              "#fdca26"
             ],
             [
              1,
              "#f0f921"
             ]
            ],
            "type": "histogram2d"
           }
          ],
          "histogram2dcontour": [
           {
            "colorbar": {
             "outlinewidth": 0,
             "ticks": ""
            },
            "colorscale": [
             [
              0,
              "#0d0887"
             ],
             [
              0.1111111111111111,
              "#46039f"
             ],
             [
              0.2222222222222222,
              "#7201a8"
             ],
             [
              0.3333333333333333,
              "#9c179e"
             ],
             [
              0.4444444444444444,
              "#bd3786"
             ],
             [
              0.5555555555555556,
              "#d8576b"
             ],
             [
              0.6666666666666666,
              "#ed7953"
             ],
             [
              0.7777777777777778,
              "#fb9f3a"
             ],
             [
              0.8888888888888888,
              "#fdca26"
             ],
             [
              1,
              "#f0f921"
             ]
            ],
            "type": "histogram2dcontour"
           }
          ],
          "mesh3d": [
           {
            "colorbar": {
             "outlinewidth": 0,
             "ticks": ""
            },
            "type": "mesh3d"
           }
          ],
          "parcoords": [
           {
            "line": {
             "colorbar": {
              "outlinewidth": 0,
              "ticks": ""
             }
            },
            "type": "parcoords"
           }
          ],
          "pie": [
           {
            "automargin": true,
            "type": "pie"
           }
          ],
          "scatter": [
           {
            "fillpattern": {
             "fillmode": "overlay",
             "size": 10,
             "solidity": 0.2
            },
            "type": "scatter"
           }
          ],
          "scatter3d": [
           {
            "line": {
             "colorbar": {
              "outlinewidth": 0,
              "ticks": ""
             }
            },
            "marker": {
             "colorbar": {
              "outlinewidth": 0,
              "ticks": ""
             }
            },
            "type": "scatter3d"
           }
          ],
          "scattercarpet": [
           {
            "marker": {
             "colorbar": {
              "outlinewidth": 0,
              "ticks": ""
             }
            },
            "type": "scattercarpet"
           }
          ],
          "scattergeo": [
           {
            "marker": {
             "colorbar": {
              "outlinewidth": 0,
              "ticks": ""
             }
            },
            "type": "scattergeo"
           }
          ],
          "scattergl": [
           {
            "marker": {
             "colorbar": {
              "outlinewidth": 0,
              "ticks": ""
             }
            },
            "type": "scattergl"
           }
          ],
          "scattermapbox": [
           {
            "marker": {
             "colorbar": {
              "outlinewidth": 0,
              "ticks": ""
             }
            },
            "type": "scattermapbox"
           }
          ],
          "scatterpolar": [
           {
            "marker": {
             "colorbar": {
              "outlinewidth": 0,
              "ticks": ""
             }
            },
            "type": "scatterpolar"
           }
          ],
          "scatterpolargl": [
           {
            "marker": {
             "colorbar": {
              "outlinewidth": 0,
              "ticks": ""
             }
            },
            "type": "scatterpolargl"
           }
          ],
          "scatterternary": [
           {
            "marker": {
             "colorbar": {
              "outlinewidth": 0,
              "ticks": ""
             }
            },
            "type": "scatterternary"
           }
          ],
          "surface": [
           {
            "colorbar": {
             "outlinewidth": 0,
             "ticks": ""
            },
            "colorscale": [
             [
              0,
              "#0d0887"
             ],
             [
              0.1111111111111111,
              "#46039f"
             ],
             [
              0.2222222222222222,
              "#7201a8"
             ],
             [
              0.3333333333333333,
              "#9c179e"
             ],
             [
              0.4444444444444444,
              "#bd3786"
             ],
             [
              0.5555555555555556,
              "#d8576b"
             ],
             [
              0.6666666666666666,
              "#ed7953"
             ],
             [
              0.7777777777777778,
              "#fb9f3a"
             ],
             [
              0.8888888888888888,
              "#fdca26"
             ],
             [
              1,
              "#f0f921"
             ]
            ],
            "type": "surface"
           }
          ],
          "table": [
           {
            "cells": {
             "fill": {
              "color": "#EBF0F8"
             },
             "line": {
              "color": "white"
             }
            },
            "header": {
             "fill": {
              "color": "#C8D4E3"
             },
             "line": {
              "color": "white"
             }
            },
            "type": "table"
           }
          ]
         },
         "layout": {
          "annotationdefaults": {
           "arrowcolor": "#2a3f5f",
           "arrowhead": 0,
           "arrowwidth": 1
          },
          "autotypenumbers": "strict",
          "coloraxis": {
           "colorbar": {
            "outlinewidth": 0,
            "ticks": ""
           }
          },
          "colorscale": {
           "diverging": [
            [
             0,
             "#8e0152"
            ],
            [
             0.1,
             "#c51b7d"
            ],
            [
             0.2,
             "#de77ae"
            ],
            [
             0.3,
             "#f1b6da"
            ],
            [
             0.4,
             "#fde0ef"
            ],
            [
             0.5,
             "#f7f7f7"
            ],
            [
             0.6,
             "#e6f5d0"
            ],
            [
             0.7,
             "#b8e186"
            ],
            [
             0.8,
             "#7fbc41"
            ],
            [
             0.9,
             "#4d9221"
            ],
            [
             1,
             "#276419"
            ]
           ],
           "sequential": [
            [
             0,
             "#0d0887"
            ],
            [
             0.1111111111111111,
             "#46039f"
            ],
            [
             0.2222222222222222,
             "#7201a8"
            ],
            [
             0.3333333333333333,
             "#9c179e"
            ],
            [
             0.4444444444444444,
             "#bd3786"
            ],
            [
             0.5555555555555556,
             "#d8576b"
            ],
            [
             0.6666666666666666,
             "#ed7953"
            ],
            [
             0.7777777777777778,
             "#fb9f3a"
            ],
            [
             0.8888888888888888,
             "#fdca26"
            ],
            [
             1,
             "#f0f921"
            ]
           ],
           "sequentialminus": [
            [
             0,
             "#0d0887"
            ],
            [
             0.1111111111111111,
             "#46039f"
            ],
            [
             0.2222222222222222,
             "#7201a8"
            ],
            [
             0.3333333333333333,
             "#9c179e"
            ],
            [
             0.4444444444444444,
             "#bd3786"
            ],
            [
             0.5555555555555556,
             "#d8576b"
            ],
            [
             0.6666666666666666,
             "#ed7953"
            ],
            [
             0.7777777777777778,
             "#fb9f3a"
            ],
            [
             0.8888888888888888,
             "#fdca26"
            ],
            [
             1,
             "#f0f921"
            ]
           ]
          },
          "colorway": [
           "#636efa",
           "#EF553B",
           "#00cc96",
           "#ab63fa",
           "#FFA15A",
           "#19d3f3",
           "#FF6692",
           "#B6E880",
           "#FF97FF",
           "#FECB52"
          ],
          "font": {
           "color": "#2a3f5f"
          },
          "geo": {
           "bgcolor": "white",
           "lakecolor": "white",
           "landcolor": "#E5ECF6",
           "showlakes": true,
           "showland": true,
           "subunitcolor": "white"
          },
          "hoverlabel": {
           "align": "left"
          },
          "hovermode": "closest",
          "mapbox": {
           "style": "light"
          },
          "paper_bgcolor": "white",
          "plot_bgcolor": "#E5ECF6",
          "polar": {
           "angularaxis": {
            "gridcolor": "white",
            "linecolor": "white",
            "ticks": ""
           },
           "bgcolor": "#E5ECF6",
           "radialaxis": {
            "gridcolor": "white",
            "linecolor": "white",
            "ticks": ""
           }
          },
          "scene": {
           "xaxis": {
            "backgroundcolor": "#E5ECF6",
            "gridcolor": "white",
            "gridwidth": 2,
            "linecolor": "white",
            "showbackground": true,
            "ticks": "",
            "zerolinecolor": "white"
           },
           "yaxis": {
            "backgroundcolor": "#E5ECF6",
            "gridcolor": "white",
            "gridwidth": 2,
            "linecolor": "white",
            "showbackground": true,
            "ticks": "",
            "zerolinecolor": "white"
           },
           "zaxis": {
            "backgroundcolor": "#E5ECF6",
            "gridcolor": "white",
            "gridwidth": 2,
            "linecolor": "white",
            "showbackground": true,
            "ticks": "",
            "zerolinecolor": "white"
           }
          },
          "shapedefaults": {
           "line": {
            "color": "#2a3f5f"
           }
          },
          "ternary": {
           "aaxis": {
            "gridcolor": "white",
            "linecolor": "white",
            "ticks": ""
           },
           "baxis": {
            "gridcolor": "white",
            "linecolor": "white",
            "ticks": ""
           },
           "bgcolor": "#E5ECF6",
           "caxis": {
            "gridcolor": "white",
            "linecolor": "white",
            "ticks": ""
           }
          },
          "title": {
           "x": 0.05
          },
          "xaxis": {
           "automargin": true,
           "gridcolor": "white",
           "linecolor": "white",
           "ticks": "",
           "title": {
            "standoff": 15
           },
           "zerolinecolor": "white",
           "zerolinewidth": 2
          },
          "yaxis": {
           "automargin": true,
           "gridcolor": "white",
           "linecolor": "white",
           "ticks": "",
           "title": {
            "standoff": 15
           },
           "zerolinecolor": "white",
           "zerolinewidth": 2
          }
         }
        },
        "title": {
         "text": "Sentiment Analysis Results"
        },
        "xaxis": {
         "anchor": "y",
         "categoryarray": [
          "negative",
          "neutral",
          "positive"
         ],
         "categoryorder": "array",
         "domain": [
          0,
          1
         ],
         "title": {
          "text": "label"
         }
        },
        "yaxis": {
         "anchor": "x",
         "domain": [
          0,
          1
         ],
         "title": {
          "text": "Average Score"
         }
        }
       }
      },
      "text/html": [
       "<div>                            <div id=\"969a726e-6164-421d-9726-5258ef1b8763\" class=\"plotly-graph-div\" style=\"height:525px; width:100%;\"></div>            <script type=\"text/javascript\">                require([\"plotly\"], function(Plotly) {                    window.PLOTLYENV=window.PLOTLYENV || {};                                    if (document.getElementById(\"969a726e-6164-421d-9726-5258ef1b8763\")) {                    Plotly.newPlot(                        \"969a726e-6164-421d-9726-5258ef1b8763\",                        [{\"alignmentgroup\":\"True\",\"hovertemplate\":\"label=%{x}<br>Average Score=%{y}<extra></extra>\",\"legendgroup\":\"negative\",\"marker\":{\"color\":\"#636efa\",\"pattern\":{\"shape\":\"\"}},\"name\":\"negative\",\"offsetgroup\":\"negative\",\"orientation\":\"v\",\"showlegend\":true,\"textposition\":\"auto\",\"x\":[\"negative\"],\"xaxis\":\"x\",\"y\":[0.7338889121721333],\"yaxis\":\"y\",\"type\":\"bar\"},{\"alignmentgroup\":\"True\",\"hovertemplate\":\"label=%{x}<br>Average Score=%{y}<extra></extra>\",\"legendgroup\":\"neutral\",\"marker\":{\"color\":\"#EF553B\",\"pattern\":{\"shape\":\"\"}},\"name\":\"neutral\",\"offsetgroup\":\"neutral\",\"orientation\":\"v\",\"showlegend\":true,\"textposition\":\"auto\",\"x\":[\"neutral\"],\"xaxis\":\"x\",\"y\":[0.6838368233673426],\"yaxis\":\"y\",\"type\":\"bar\"},{\"alignmentgroup\":\"True\",\"hovertemplate\":\"label=%{x}<br>Average Score=%{y}<extra></extra>\",\"legendgroup\":\"positive\",\"marker\":{\"color\":\"#00cc96\",\"pattern\":{\"shape\":\"\"}},\"name\":\"positive\",\"offsetgroup\":\"positive\",\"orientation\":\"v\",\"showlegend\":true,\"textposition\":\"auto\",\"x\":[\"positive\"],\"xaxis\":\"x\",\"y\":[0.731490069350531],\"yaxis\":\"y\",\"type\":\"bar\"}],                        {\"template\":{\"data\":{\"histogram2dcontour\":[{\"type\":\"histogram2dcontour\",\"colorbar\":{\"outlinewidth\":0,\"ticks\":\"\"},\"colorscale\":[[0.0,\"#0d0887\"],[0.1111111111111111,\"#46039f\"],[0.2222222222222222,\"#7201a8\"],[0.3333333333333333,\"#9c179e\"],[0.4444444444444444,\"#bd3786\"],[0.5555555555555556,\"#d8576b\"],[0.6666666666666666,\"#ed7953\"],[0.7777777777777778,\"#fb9f3a\"],[0.8888888888888888,\"#fdca26\"],[1.0,\"#f0f921\"]]}],\"choropleth\":[{\"type\":\"choropleth\",\"colorbar\":{\"outlinewidth\":0,\"ticks\":\"\"}}],\"histogram2d\":[{\"type\":\"histogram2d\",\"colorbar\":{\"outlinewidth\":0,\"ticks\":\"\"},\"colorscale\":[[0.0,\"#0d0887\"],[0.1111111111111111,\"#46039f\"],[0.2222222222222222,\"#7201a8\"],[0.3333333333333333,\"#9c179e\"],[0.4444444444444444,\"#bd3786\"],[0.5555555555555556,\"#d8576b\"],[0.6666666666666666,\"#ed7953\"],[0.7777777777777778,\"#fb9f3a\"],[0.8888888888888888,\"#fdca26\"],[1.0,\"#f0f921\"]]}],\"heatmap\":[{\"type\":\"heatmap\",\"colorbar\":{\"outlinewidth\":0,\"ticks\":\"\"},\"colorscale\":[[0.0,\"#0d0887\"],[0.1111111111111111,\"#46039f\"],[0.2222222222222222,\"#7201a8\"],[0.3333333333333333,\"#9c179e\"],[0.4444444444444444,\"#bd3786\"],[0.5555555555555556,\"#d8576b\"],[0.6666666666666666,\"#ed7953\"],[0.7777777777777778,\"#fb9f3a\"],[0.8888888888888888,\"#fdca26\"],[1.0,\"#f0f921\"]]}],\"heatmapgl\":[{\"type\":\"heatmapgl\",\"colorbar\":{\"outlinewidth\":0,\"ticks\":\"\"},\"colorscale\":[[0.0,\"#0d0887\"],[0.1111111111111111,\"#46039f\"],[0.2222222222222222,\"#7201a8\"],[0.3333333333333333,\"#9c179e\"],[0.4444444444444444,\"#bd3786\"],[0.5555555555555556,\"#d8576b\"],[0.6666666666666666,\"#ed7953\"],[0.7777777777777778,\"#fb9f3a\"],[0.8888888888888888,\"#fdca26\"],[1.0,\"#f0f921\"]]}],\"contourcarpet\":[{\"type\":\"contourcarpet\",\"colorbar\":{\"outlinewidth\":0,\"ticks\":\"\"}}],\"contour\":[{\"type\":\"contour\",\"colorbar\":{\"outlinewidth\":0,\"ticks\":\"\"},\"colorscale\":[[0.0,\"#0d0887\"],[0.1111111111111111,\"#46039f\"],[0.2222222222222222,\"#7201a8\"],[0.3333333333333333,\"#9c179e\"],[0.4444444444444444,\"#bd3786\"],[0.5555555555555556,\"#d8576b\"],[0.6666666666666666,\"#ed7953\"],[0.7777777777777778,\"#fb9f3a\"],[0.8888888888888888,\"#fdca26\"],[1.0,\"#f0f921\"]]}],\"surface\":[{\"type\":\"surface\",\"colorbar\":{\"outlinewidth\":0,\"ticks\":\"\"},\"colorscale\":[[0.0,\"#0d0887\"],[0.1111111111111111,\"#46039f\"],[0.2222222222222222,\"#7201a8\"],[0.3333333333333333,\"#9c179e\"],[0.4444444444444444,\"#bd3786\"],[0.5555555555555556,\"#d8576b\"],[0.6666666666666666,\"#ed7953\"],[0.7777777777777778,\"#fb9f3a\"],[0.8888888888888888,\"#fdca26\"],[1.0,\"#f0f921\"]]}],\"mesh3d\":[{\"type\":\"mesh3d\",\"colorbar\":{\"outlinewidth\":0,\"ticks\":\"\"}}],\"scatter\":[{\"fillpattern\":{\"fillmode\":\"overlay\",\"size\":10,\"solidity\":0.2},\"type\":\"scatter\"}],\"parcoords\":[{\"type\":\"parcoords\",\"line\":{\"colorbar\":{\"outlinewidth\":0,\"ticks\":\"\"}}}],\"scatterpolargl\":[{\"type\":\"scatterpolargl\",\"marker\":{\"colorbar\":{\"outlinewidth\":0,\"ticks\":\"\"}}}],\"bar\":[{\"error_x\":{\"color\":\"#2a3f5f\"},\"error_y\":{\"color\":\"#2a3f5f\"},\"marker\":{\"line\":{\"color\":\"#E5ECF6\",\"width\":0.5},\"pattern\":{\"fillmode\":\"overlay\",\"size\":10,\"solidity\":0.2}},\"type\":\"bar\"}],\"scattergeo\":[{\"type\":\"scattergeo\",\"marker\":{\"colorbar\":{\"outlinewidth\":0,\"ticks\":\"\"}}}],\"scatterpolar\":[{\"type\":\"scatterpolar\",\"marker\":{\"colorbar\":{\"outlinewidth\":0,\"ticks\":\"\"}}}],\"histogram\":[{\"marker\":{\"pattern\":{\"fillmode\":\"overlay\",\"size\":10,\"solidity\":0.2}},\"type\":\"histogram\"}],\"scattergl\":[{\"type\":\"scattergl\",\"marker\":{\"colorbar\":{\"outlinewidth\":0,\"ticks\":\"\"}}}],\"scatter3d\":[{\"type\":\"scatter3d\",\"line\":{\"colorbar\":{\"outlinewidth\":0,\"ticks\":\"\"}},\"marker\":{\"colorbar\":{\"outlinewidth\":0,\"ticks\":\"\"}}}],\"scattermapbox\":[{\"type\":\"scattermapbox\",\"marker\":{\"colorbar\":{\"outlinewidth\":0,\"ticks\":\"\"}}}],\"scatterternary\":[{\"type\":\"scatterternary\",\"marker\":{\"colorbar\":{\"outlinewidth\":0,\"ticks\":\"\"}}}],\"scattercarpet\":[{\"type\":\"scattercarpet\",\"marker\":{\"colorbar\":{\"outlinewidth\":0,\"ticks\":\"\"}}}],\"carpet\":[{\"aaxis\":{\"endlinecolor\":\"#2a3f5f\",\"gridcolor\":\"white\",\"linecolor\":\"white\",\"minorgridcolor\":\"white\",\"startlinecolor\":\"#2a3f5f\"},\"baxis\":{\"endlinecolor\":\"#2a3f5f\",\"gridcolor\":\"white\",\"linecolor\":\"white\",\"minorgridcolor\":\"white\",\"startlinecolor\":\"#2a3f5f\"},\"type\":\"carpet\"}],\"table\":[{\"cells\":{\"fill\":{\"color\":\"#EBF0F8\"},\"line\":{\"color\":\"white\"}},\"header\":{\"fill\":{\"color\":\"#C8D4E3\"},\"line\":{\"color\":\"white\"}},\"type\":\"table\"}],\"barpolar\":[{\"marker\":{\"line\":{\"color\":\"#E5ECF6\",\"width\":0.5},\"pattern\":{\"fillmode\":\"overlay\",\"size\":10,\"solidity\":0.2}},\"type\":\"barpolar\"}],\"pie\":[{\"automargin\":true,\"type\":\"pie\"}]},\"layout\":{\"autotypenumbers\":\"strict\",\"colorway\":[\"#636efa\",\"#EF553B\",\"#00cc96\",\"#ab63fa\",\"#FFA15A\",\"#19d3f3\",\"#FF6692\",\"#B6E880\",\"#FF97FF\",\"#FECB52\"],\"font\":{\"color\":\"#2a3f5f\"},\"hovermode\":\"closest\",\"hoverlabel\":{\"align\":\"left\"},\"paper_bgcolor\":\"white\",\"plot_bgcolor\":\"#E5ECF6\",\"polar\":{\"bgcolor\":\"#E5ECF6\",\"angularaxis\":{\"gridcolor\":\"white\",\"linecolor\":\"white\",\"ticks\":\"\"},\"radialaxis\":{\"gridcolor\":\"white\",\"linecolor\":\"white\",\"ticks\":\"\"}},\"ternary\":{\"bgcolor\":\"#E5ECF6\",\"aaxis\":{\"gridcolor\":\"white\",\"linecolor\":\"white\",\"ticks\":\"\"},\"baxis\":{\"gridcolor\":\"white\",\"linecolor\":\"white\",\"ticks\":\"\"},\"caxis\":{\"gridcolor\":\"white\",\"linecolor\":\"white\",\"ticks\":\"\"}},\"coloraxis\":{\"colorbar\":{\"outlinewidth\":0,\"ticks\":\"\"}},\"colorscale\":{\"sequential\":[[0.0,\"#0d0887\"],[0.1111111111111111,\"#46039f\"],[0.2222222222222222,\"#7201a8\"],[0.3333333333333333,\"#9c179e\"],[0.4444444444444444,\"#bd3786\"],[0.5555555555555556,\"#d8576b\"],[0.6666666666666666,\"#ed7953\"],[0.7777777777777778,\"#fb9f3a\"],[0.8888888888888888,\"#fdca26\"],[1.0,\"#f0f921\"]],\"sequentialminus\":[[0.0,\"#0d0887\"],[0.1111111111111111,\"#46039f\"],[0.2222222222222222,\"#7201a8\"],[0.3333333333333333,\"#9c179e\"],[0.4444444444444444,\"#bd3786\"],[0.5555555555555556,\"#d8576b\"],[0.6666666666666666,\"#ed7953\"],[0.7777777777777778,\"#fb9f3a\"],[0.8888888888888888,\"#fdca26\"],[1.0,\"#f0f921\"]],\"diverging\":[[0,\"#8e0152\"],[0.1,\"#c51b7d\"],[0.2,\"#de77ae\"],[0.3,\"#f1b6da\"],[0.4,\"#fde0ef\"],[0.5,\"#f7f7f7\"],[0.6,\"#e6f5d0\"],[0.7,\"#b8e186\"],[0.8,\"#7fbc41\"],[0.9,\"#4d9221\"],[1,\"#276419\"]]},\"xaxis\":{\"gridcolor\":\"white\",\"linecolor\":\"white\",\"ticks\":\"\",\"title\":{\"standoff\":15},\"zerolinecolor\":\"white\",\"automargin\":true,\"zerolinewidth\":2},\"yaxis\":{\"gridcolor\":\"white\",\"linecolor\":\"white\",\"ticks\":\"\",\"title\":{\"standoff\":15},\"zerolinecolor\":\"white\",\"automargin\":true,\"zerolinewidth\":2},\"scene\":{\"xaxis\":{\"backgroundcolor\":\"#E5ECF6\",\"gridcolor\":\"white\",\"linecolor\":\"white\",\"showbackground\":true,\"ticks\":\"\",\"zerolinecolor\":\"white\",\"gridwidth\":2},\"yaxis\":{\"backgroundcolor\":\"#E5ECF6\",\"gridcolor\":\"white\",\"linecolor\":\"white\",\"showbackground\":true,\"ticks\":\"\",\"zerolinecolor\":\"white\",\"gridwidth\":2},\"zaxis\":{\"backgroundcolor\":\"#E5ECF6\",\"gridcolor\":\"white\",\"linecolor\":\"white\",\"showbackground\":true,\"ticks\":\"\",\"zerolinecolor\":\"white\",\"gridwidth\":2}},\"shapedefaults\":{\"line\":{\"color\":\"#2a3f5f\"}},\"annotationdefaults\":{\"arrowcolor\":\"#2a3f5f\",\"arrowhead\":0,\"arrowwidth\":1},\"geo\":{\"bgcolor\":\"white\",\"landcolor\":\"#E5ECF6\",\"subunitcolor\":\"white\",\"showland\":true,\"showlakes\":true,\"lakecolor\":\"white\"},\"title\":{\"x\":0.05},\"mapbox\":{\"style\":\"light\"}}},\"xaxis\":{\"anchor\":\"y\",\"domain\":[0.0,1.0],\"title\":{\"text\":\"label\"},\"categoryorder\":\"array\",\"categoryarray\":[\"negative\",\"neutral\",\"positive\"]},\"yaxis\":{\"anchor\":\"x\",\"domain\":[0.0,1.0],\"title\":{\"text\":\"Average Score\"}},\"legend\":{\"title\":{\"text\":\"label\"},\"tracegroupgap\":0},\"title\":{\"text\":\"Sentiment Analysis Results\"},\"barmode\":\"relative\"},                        {\"responsive\": true}                    ).then(function(){\n",
       "                            \n",
       "var gd = document.getElementById('969a726e-6164-421d-9726-5258ef1b8763');\n",
       "var x = new MutationObserver(function (mutations, observer) {{\n",
       "        var display = window.getComputedStyle(gd).display;\n",
       "        if (!display || display === 'none') {{\n",
       "            console.log([gd, 'removed!']);\n",
       "            Plotly.purge(gd);\n",
       "            observer.disconnect();\n",
       "        }}\n",
       "}});\n",
       "\n",
       "// Listen for the removal of the full notebook cells\n",
       "var notebookContainer = gd.closest('#notebook-container');\n",
       "if (notebookContainer) {{\n",
       "    x.observe(notebookContainer, {childList: true});\n",
       "}}\n",
       "\n",
       "// Listen for the clearing of the current output cell\n",
       "var outputEl = gd.closest('.output');\n",
       "if (outputEl) {{\n",
       "    x.observe(outputEl, {childList: true});\n",
       "}}\n",
       "\n",
       "                        })                };                });            </script>        </div>"
      ]
     },
     "metadata": {},
     "output_type": "display_data"
    }
   ],
   "source": [
    "\n",
    "# Group the data by sentiment labels and calculate the mean score\n",
    "sentiment_scores = reddit_df.groupby('label')['score'].mean().reset_index()\n",
    "\n",
    "# Create an interactive bar plot\n",
    "fig = px.bar(sentiment_scores, x='label', y='score', color='label', \n",
    "             title='Sentiment Analysis Results', labels={'score': 'Average Score'})\n",
    "\n",
    "fig.show()\n",
    "fig.write_html(\"C:/Users/farha/Downloads/SentimentAnalysis.html\")"
   ]
  },
  {
   "cell_type": "code",
   "execution_count": null,
   "id": "43413940",
   "metadata": {},
   "outputs": [],
   "source": []
  }
 ],
 "metadata": {
  "kernelspec": {
   "display_name": "Python 3 (ipykernel)",
   "language": "python",
   "name": "python3"
  },
  "language_info": {
   "codemirror_mode": {
    "name": "ipython",
    "version": 3
   },
   "file_extension": ".py",
   "mimetype": "text/x-python",
   "name": "python",
   "nbconvert_exporter": "python",
   "pygments_lexer": "ipython3",
   "version": "3.9.13"
  }
 },
 "nbformat": 4,
 "nbformat_minor": 5
}
